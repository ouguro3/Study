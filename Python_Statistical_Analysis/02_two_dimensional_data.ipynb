{
  "nbformat": 4,
  "nbformat_minor": 0,
  "metadata": {
    "colab": {
      "name": "02_two_dimensional_data.ipynb",
      "provenance": [],
      "collapsed_sections": []
    },
    "kernelspec": {
      "name": "python3",
      "display_name": "Python 3"
    },
    "language_info": {
      "name": "python"
    }
  },
  "cells": [
    {
      "cell_type": "markdown",
      "metadata": {
        "id": "-SzjIBeB9DkC"
      },
      "source": [
        "## 2차원 데이터 정리"
      ]
    },
    {
      "cell_type": "code",
      "metadata": {
        "id": "FYHmJf8R75R9"
      },
      "source": [
        "import numpy as np\n",
        "import pandas as pd\n",
        "\n",
        "%precision 3\n",
        "\n",
        "pd.set_option('precision',3)"
      ],
      "execution_count": 1,
      "outputs": []
    },
    {
      "cell_type": "code",
      "metadata": {
        "id": "kx7s7Gnm9i0W"
      },
      "source": [
        "df = pd.read_csv('./ch2_scores_em.csv')"
      ],
      "execution_count": 2,
      "outputs": []
    },
    {
      "cell_type": "markdown",
      "metadata": {
        "id": "1f-pxUqv-mTR"
      },
      "source": [
        "df의 처음 10명에 해당하는 데이터를 가지고와,\n",
        "각각에 A,B,C... 라는 Index를 부여"
      ]
    },
    {
      "cell_type": "code",
      "metadata": {
        "colab": {
          "base_uri": "https://localhost:8080/",
          "height": 390
        },
        "id": "FfJHeYxY9so-",
        "outputId": "67dfecdc-0806-4791-802c-765c6672a2fe"
      },
      "source": [
        "en_scores = np.array(df['english'])[:10]\n",
        "ma_scores = np.array(df['mathematics'])[:10]\n",
        "\n",
        "scores_df = pd.DataFrame({'english':en_scores,\n",
        "                          'mathematics':ma_scores},\n",
        "                         index = pd.Index(['A','B','C','D','E',\n",
        "                                           'F','G','H','I','J'],\n",
        "                                          name = 'student'))\n",
        "scores_df"
      ],
      "execution_count": 4,
      "outputs": [
        {
          "output_type": "execute_result",
          "data": {
            "text/html": [
              "<div>\n",
              "<style scoped>\n",
              "    .dataframe tbody tr th:only-of-type {\n",
              "        vertical-align: middle;\n",
              "    }\n",
              "\n",
              "    .dataframe tbody tr th {\n",
              "        vertical-align: top;\n",
              "    }\n",
              "\n",
              "    .dataframe thead th {\n",
              "        text-align: right;\n",
              "    }\n",
              "</style>\n",
              "<table border=\"1\" class=\"dataframe\">\n",
              "  <thead>\n",
              "    <tr style=\"text-align: right;\">\n",
              "      <th></th>\n",
              "      <th>english</th>\n",
              "      <th>mathematics</th>\n",
              "    </tr>\n",
              "    <tr>\n",
              "      <th>student</th>\n",
              "      <th></th>\n",
              "      <th></th>\n",
              "    </tr>\n",
              "  </thead>\n",
              "  <tbody>\n",
              "    <tr>\n",
              "      <th>A</th>\n",
              "      <td>42</td>\n",
              "      <td>65</td>\n",
              "    </tr>\n",
              "    <tr>\n",
              "      <th>B</th>\n",
              "      <td>69</td>\n",
              "      <td>80</td>\n",
              "    </tr>\n",
              "    <tr>\n",
              "      <th>C</th>\n",
              "      <td>56</td>\n",
              "      <td>63</td>\n",
              "    </tr>\n",
              "    <tr>\n",
              "      <th>D</th>\n",
              "      <td>41</td>\n",
              "      <td>63</td>\n",
              "    </tr>\n",
              "    <tr>\n",
              "      <th>E</th>\n",
              "      <td>57</td>\n",
              "      <td>76</td>\n",
              "    </tr>\n",
              "    <tr>\n",
              "      <th>F</th>\n",
              "      <td>48</td>\n",
              "      <td>60</td>\n",
              "    </tr>\n",
              "    <tr>\n",
              "      <th>G</th>\n",
              "      <td>65</td>\n",
              "      <td>81</td>\n",
              "    </tr>\n",
              "    <tr>\n",
              "      <th>H</th>\n",
              "      <td>49</td>\n",
              "      <td>66</td>\n",
              "    </tr>\n",
              "    <tr>\n",
              "      <th>I</th>\n",
              "      <td>65</td>\n",
              "      <td>78</td>\n",
              "    </tr>\n",
              "    <tr>\n",
              "      <th>J</th>\n",
              "      <td>58</td>\n",
              "      <td>82</td>\n",
              "    </tr>\n",
              "  </tbody>\n",
              "</table>\n",
              "</div>"
            ],
            "text/plain": [
              "         english  mathematics\n",
              "student                      \n",
              "A             42           65\n",
              "B             69           80\n",
              "C             56           63\n",
              "D             41           63\n",
              "E             57           76\n",
              "F             48           60\n",
              "G             65           81\n",
              "H             49           66\n",
              "I             65           78\n",
              "J             58           82"
            ]
          },
          "metadata": {
            "tags": []
          },
          "execution_count": 4
        }
      ]
    },
    {
      "cell_type": "markdown",
      "metadata": {
        "id": "CpqlnV1f_X3e"
      },
      "source": [
        "### 두 데이터 사이의 관계를 나타내는 지표"
      ]
    },
    {
      "cell_type": "markdown",
      "metadata": {
        "id": "toy4H8_p_mID"
      },
      "source": [
        "#### 공분산"
      ]
    },
    {
      "cell_type": "markdown",
      "metadata": {
        "id": "0PNrry-5_vQK"
      },
      "source": [
        "양의 상관관계에 있다고 생각되는 데이터의 관계성을 수치화 할 때  \n",
        "`공분산` 이라는 지표를 사용한다"
      ]
    },
    {
      "cell_type": "markdown",
      "metadata": {
        "id": "SrhOLeLzAFZm"
      },
      "source": [
        "공분산이 양의 값 = 양의 상관관계  \n",
        "공분산이 음의 값 = 음의 상관관계  \n",
        "공분산이 0에 가까움 = 무상관"
      ]
    },
    {
      "cell_type": "code",
      "metadata": {
        "colab": {
          "base_uri": "https://localhost:8080/",
          "height": 390
        },
        "id": "nd3_zk9l_nsb",
        "outputId": "697d5c95-5dda-4d97-9f34-85a32f232632"
      },
      "source": [
        "summary_df = scores_df.copy()\n",
        "summary_df['english_deviation'] =\\\n",
        "    summary_df['english'] - summary_df['english'].mean()\n",
        "summary_df['mathematics_deviation'] =\\\n",
        "    summary_df['mathematics'] - summary_df['mathematics'].mean()\n",
        "summary_df['product of deviations'] =\\\n",
        "    summary_df['english_deviation'] * summary_df['mathematics_deviation']\n",
        "summary_df"
      ],
      "execution_count": 5,
      "outputs": [
        {
          "output_type": "execute_result",
          "data": {
            "text/html": [
              "<div>\n",
              "<style scoped>\n",
              "    .dataframe tbody tr th:only-of-type {\n",
              "        vertical-align: middle;\n",
              "    }\n",
              "\n",
              "    .dataframe tbody tr th {\n",
              "        vertical-align: top;\n",
              "    }\n",
              "\n",
              "    .dataframe thead th {\n",
              "        text-align: right;\n",
              "    }\n",
              "</style>\n",
              "<table border=\"1\" class=\"dataframe\">\n",
              "  <thead>\n",
              "    <tr style=\"text-align: right;\">\n",
              "      <th></th>\n",
              "      <th>english</th>\n",
              "      <th>mathematics</th>\n",
              "      <th>english_deviation</th>\n",
              "      <th>mathematics_deviation</th>\n",
              "      <th>product of deviations</th>\n",
              "    </tr>\n",
              "    <tr>\n",
              "      <th>student</th>\n",
              "      <th></th>\n",
              "      <th></th>\n",
              "      <th></th>\n",
              "      <th></th>\n",
              "      <th></th>\n",
              "    </tr>\n",
              "  </thead>\n",
              "  <tbody>\n",
              "    <tr>\n",
              "      <th>A</th>\n",
              "      <td>42</td>\n",
              "      <td>65</td>\n",
              "      <td>-13.0</td>\n",
              "      <td>-6.4</td>\n",
              "      <td>83.2</td>\n",
              "    </tr>\n",
              "    <tr>\n",
              "      <th>B</th>\n",
              "      <td>69</td>\n",
              "      <td>80</td>\n",
              "      <td>14.0</td>\n",
              "      <td>8.6</td>\n",
              "      <td>120.4</td>\n",
              "    </tr>\n",
              "    <tr>\n",
              "      <th>C</th>\n",
              "      <td>56</td>\n",
              "      <td>63</td>\n",
              "      <td>1.0</td>\n",
              "      <td>-8.4</td>\n",
              "      <td>-8.4</td>\n",
              "    </tr>\n",
              "    <tr>\n",
              "      <th>D</th>\n",
              "      <td>41</td>\n",
              "      <td>63</td>\n",
              "      <td>-14.0</td>\n",
              "      <td>-8.4</td>\n",
              "      <td>117.6</td>\n",
              "    </tr>\n",
              "    <tr>\n",
              "      <th>E</th>\n",
              "      <td>57</td>\n",
              "      <td>76</td>\n",
              "      <td>2.0</td>\n",
              "      <td>4.6</td>\n",
              "      <td>9.2</td>\n",
              "    </tr>\n",
              "    <tr>\n",
              "      <th>F</th>\n",
              "      <td>48</td>\n",
              "      <td>60</td>\n",
              "      <td>-7.0</td>\n",
              "      <td>-11.4</td>\n",
              "      <td>79.8</td>\n",
              "    </tr>\n",
              "    <tr>\n",
              "      <th>G</th>\n",
              "      <td>65</td>\n",
              "      <td>81</td>\n",
              "      <td>10.0</td>\n",
              "      <td>9.6</td>\n",
              "      <td>96.0</td>\n",
              "    </tr>\n",
              "    <tr>\n",
              "      <th>H</th>\n",
              "      <td>49</td>\n",
              "      <td>66</td>\n",
              "      <td>-6.0</td>\n",
              "      <td>-5.4</td>\n",
              "      <td>32.4</td>\n",
              "    </tr>\n",
              "    <tr>\n",
              "      <th>I</th>\n",
              "      <td>65</td>\n",
              "      <td>78</td>\n",
              "      <td>10.0</td>\n",
              "      <td>6.6</td>\n",
              "      <td>66.0</td>\n",
              "    </tr>\n",
              "    <tr>\n",
              "      <th>J</th>\n",
              "      <td>58</td>\n",
              "      <td>82</td>\n",
              "      <td>3.0</td>\n",
              "      <td>10.6</td>\n",
              "      <td>31.8</td>\n",
              "    </tr>\n",
              "  </tbody>\n",
              "</table>\n",
              "</div>"
            ],
            "text/plain": [
              "         english  mathematics  ...  mathematics_deviation  product of deviations\n",
              "student                        ...                                              \n",
              "A             42           65  ...                   -6.4                   83.2\n",
              "B             69           80  ...                    8.6                  120.4\n",
              "C             56           63  ...                   -8.4                   -8.4\n",
              "D             41           63  ...                   -8.4                  117.6\n",
              "E             57           76  ...                    4.6                    9.2\n",
              "F             48           60  ...                  -11.4                   79.8\n",
              "G             65           81  ...                    9.6                   96.0\n",
              "H             49           66  ...                   -5.4                   32.4\n",
              "I             65           78  ...                    6.6                   66.0\n",
              "J             58           82  ...                   10.6                   31.8\n",
              "\n",
              "[10 rows x 5 columns]"
            ]
          },
          "metadata": {
            "tags": []
          },
          "execution_count": 5
        }
      ]
    },
    {
      "cell_type": "code",
      "metadata": {
        "colab": {
          "base_uri": "https://localhost:8080/"
        },
        "id": "2s_p_JZFBi4q",
        "outputId": "bada8b88-ed91-400b-f510-8fe399dfd591"
      },
      "source": [
        "summary_df['product of deviations'].mean()"
      ],
      "execution_count": 6,
      "outputs": [
        {
          "output_type": "execute_result",
          "data": {
            "text/plain": [
              "62.800"
            ]
          },
          "metadata": {
            "tags": []
          },
          "execution_count": 6
        }
      ]
    },
    {
      "cell_type": "markdown",
      "metadata": {
        "id": "ATMw8GTlBn8j"
      },
      "source": [
        "영어 점수와 수학 점수는 양의 상관관계에 있다"
      ]
    },
    {
      "cell_type": "markdown",
      "metadata": {
        "id": "awvkbcR8BwD8"
      },
      "source": [
        "Numpy의 경우,  공분산은 cov 함수로 구할 수 있다  \n",
        "다만 반환값은 공분산값이 아닌 `공분산 행렬` 또는 `분산공분산 행렬` 이라 부르는 행렬이다 "
      ]
    },
    {
      "cell_type": "code",
      "metadata": {
        "colab": {
          "base_uri": "https://localhost:8080/"
        },
        "id": "DNVDKLl3B885",
        "outputId": "785fa2ef-965f-4d77-ceaa-dd168bf9a0b3"
      },
      "source": [
        "cov_mat = np.cov(en_scores, ma_scores, ddof=0)\n",
        "cov_mat"
      ],
      "execution_count": 7,
      "outputs": [
        {
          "output_type": "execute_result",
          "data": {
            "text/plain": [
              "array([[86.  , 62.8 ],\n",
              "       [62.8 , 68.44]])"
            ]
          },
          "metadata": {
            "tags": []
          },
          "execution_count": 7
        }
      ]
    },
    {
      "cell_type": "markdown",
      "metadata": {
        "id": "08xsZcqKCfY0"
      },
      "source": [
        "행렬의 첫번째 행과 첫번째 열이 첫번째 인수인 영어,\n",
        "두번째 행과 두번째 열이 두번째 인수인 수학에 대응하고,  \n",
        "둘을 교차하여 1행 2열의 성분과 2행 1열의 성분이 영어와 수학의 공분산에 해당된다"
      ]
    },
    {
      "cell_type": "code",
      "metadata": {
        "colab": {
          "base_uri": "https://localhost:8080/"
        },
        "id": "vzORAUdOC3v7",
        "outputId": "e2754415-c42a-44e6-9088-d296b93488ca"
      },
      "source": [
        "cov_mat[0, 1], cov_mat[1, 0]"
      ],
      "execution_count": 8,
      "outputs": [
        {
          "output_type": "execute_result",
          "data": {
            "text/plain": [
              "(62.800, 62.800)"
            ]
          },
          "metadata": {
            "tags": []
          },
          "execution_count": 8
        }
      ]
    },
    {
      "cell_type": "markdown",
      "metadata": {
        "id": "9zjCk0ZlC_eE"
      },
      "source": [
        "cov_mat의 `[0, 1]` 성분과 `[1,0]` 성분이 공분산이 된다"
      ]
    },
    {
      "cell_type": "markdown",
      "metadata": {
        "id": "45bUZGklDR7F"
      },
      "source": [
        "#### 상관계수"
      ]
    },
    {
      "cell_type": "markdown",
      "metadata": {
        "id": "FkrrBnQUD-xq"
      },
      "source": [
        "상관계수는 반드시 -1과 1 사이의 값   \n",
        "데이터가 양의 상관관계일수록 1에 가깝고,  \n",
        "음의 상관관계일수록 -1에 가깝다  \n",
        "무상관이면 0이 된다  \n",
        "\n",
        "상관계수가 -1 일때와 1일때  \n",
        "데이터가 완전히 직선상에 놓인다  "
      ]
    },
    {
      "cell_type": "code",
      "metadata": {
        "colab": {
          "base_uri": "https://localhost:8080/"
        },
        "id": "c1zd10GEEZIB",
        "outputId": "8aafdef5-3a74-48cf-9c1d-df95360b868b"
      },
      "source": [
        "np.cov(en_scores, ma_scores, ddof=0)[0,1] /\\\n",
        "    (np.std(en_scores) * np.std(ma_scores))"
      ],
      "execution_count": 9,
      "outputs": [
        {
          "output_type": "execute_result",
          "data": {
            "text/plain": [
              "0.819"
            ]
          },
          "metadata": {
            "tags": []
          },
          "execution_count": 9
        }
      ]
    },
    {
      "cell_type": "markdown",
      "metadata": {
        "id": "7T5dvt00EqXF"
      },
      "source": [
        "영어점수와 수학점수의 상관계수는 0.819로 1에 가깝다 = `양의 상관계수`"
      ]
    },
    {
      "cell_type": "markdown",
      "metadata": {
        "id": "wRjUQR15E3LV"
      },
      "source": [
        "Numpy의 경우,  상관계수는 `corrcoef` 함수로 계산이 가능하다  \n",
        "\n",
        "반환값은 공분산과 마찬가지로 상관행렬이라 부르는 행렬이다"
      ]
    },
    {
      "cell_type": "code",
      "metadata": {
        "colab": {
          "base_uri": "https://localhost:8080/"
        },
        "id": "XE8oWCdgFFSx",
        "outputId": "e1e44d64-a047-451c-aba6-0cb9475e1e13"
      },
      "source": [
        "np.corrcoef(en_scores, ma_scores)"
      ],
      "execution_count": 10,
      "outputs": [
        {
          "output_type": "execute_result",
          "data": {
            "text/plain": [
              "array([[1.   , 0.819],\n",
              "       [0.819, 1.   ]])"
            ]
          },
          "metadata": {
            "tags": []
          },
          "execution_count": 10
        }
      ]
    },
    {
      "cell_type": "markdown",
      "metadata": {
        "id": "8yNAHtXrFTud"
      },
      "source": [
        "행렬의 성분은 공분산의 행렬 성분과 동일하다 "
      ]
    },
    {
      "cell_type": "markdown",
      "metadata": {
        "id": "yH7rXJdJFgfz"
      },
      "source": [
        "DataFrame의 경우, corr 메소드와 동일한 결과를 얻을 수 있다"
      ]
    },
    {
      "cell_type": "code",
      "metadata": {
        "colab": {
          "base_uri": "https://localhost:8080/",
          "height": 111
        },
        "id": "zGaCmeWeFkoa",
        "outputId": "ac24e612-9a94-4e69-f68f-0d10b56cbdbe"
      },
      "source": [
        "scores_df.corr()"
      ],
      "execution_count": 11,
      "outputs": [
        {
          "output_type": "execute_result",
          "data": {
            "text/html": [
              "<div>\n",
              "<style scoped>\n",
              "    .dataframe tbody tr th:only-of-type {\n",
              "        vertical-align: middle;\n",
              "    }\n",
              "\n",
              "    .dataframe tbody tr th {\n",
              "        vertical-align: top;\n",
              "    }\n",
              "\n",
              "    .dataframe thead th {\n",
              "        text-align: right;\n",
              "    }\n",
              "</style>\n",
              "<table border=\"1\" class=\"dataframe\">\n",
              "  <thead>\n",
              "    <tr style=\"text-align: right;\">\n",
              "      <th></th>\n",
              "      <th>english</th>\n",
              "      <th>mathematics</th>\n",
              "    </tr>\n",
              "  </thead>\n",
              "  <tbody>\n",
              "    <tr>\n",
              "      <th>english</th>\n",
              "      <td>1.000</td>\n",
              "      <td>0.819</td>\n",
              "    </tr>\n",
              "    <tr>\n",
              "      <th>mathematics</th>\n",
              "      <td>0.819</td>\n",
              "      <td>1.000</td>\n",
              "    </tr>\n",
              "  </tbody>\n",
              "</table>\n",
              "</div>"
            ],
            "text/plain": [
              "             english  mathematics\n",
              "english        1.000        0.819\n",
              "mathematics    0.819        1.000"
            ]
          },
          "metadata": {
            "tags": []
          },
          "execution_count": 11
        }
      ]
    },
    {
      "cell_type": "markdown",
      "metadata": {
        "id": "fBqlUn03FpwG"
      },
      "source": [
        "### 2차원 데이터의 시각화"
      ]
    },
    {
      "cell_type": "code",
      "metadata": {
        "id": "IyyxGo3SFsF1"
      },
      "source": [
        "import matplotlib.pyplot as plt\n",
        "\n",
        "%matplotlib inline"
      ],
      "execution_count": 12,
      "outputs": []
    },
    {
      "cell_type": "markdown",
      "metadata": {
        "id": "kjAroqXKFx6f"
      },
      "source": [
        "####  산점도"
      ]
    },
    {
      "cell_type": "markdown",
      "metadata": {
        "id": "rGPBsxjLF0Mg"
      },
      "source": [
        "scatter 메소드를 사용해 산점도를 그릴 수 있다  \n",
        "첫번째 인수가 x축, 두번째 인수가 y축 이다"
      ]
    },
    {
      "cell_type": "code",
      "metadata": {
        "colab": {
          "base_uri": "https://localhost:8080/",
          "height": 497
        },
        "id": "v6_7nPcOGD7s",
        "outputId": "78fd82bf-83f3-47e7-a8ca-8f0bb3d4972b"
      },
      "source": [
        "english_scores = np.array(df['english'])\n",
        "math_scores = np.array(df['mathematics'])\n",
        "\n",
        "fig = plt.figure(figsize=(8,8))\n",
        "ax = fig.add_subplot(111)\n",
        "\n",
        "# 산점도\n",
        "\n",
        "ax.scatter(english_scores, math_scores)\n",
        "ax.set_xlabel('english')\n",
        "ax.set_ylabel('mathematics')\n",
        "\n",
        "plt.show()"
      ],
      "execution_count": 13,
      "outputs": [
        {
          "output_type": "display_data",
          "data": {
            "image/png": "[encoded data removed]",
            "text/plain": [
              "<Figure size 576x576 with 1 Axes>"
            ]
          },
          "metadata": {
            "tags": [],
            "needs_background": "light"
          }
        }
      ]
    },
    {
      "cell_type": "markdown",
      "metadata": {
        "id": "m3jy5vdyGkqi"
      },
      "source": [
        "이 산점도로 알 수 있는것은 수학점수가 높은사람이 영어점수도 높은 경향이 있다는 것이다"
      ]
    },
    {
      "cell_type": "markdown",
      "metadata": {
        "id": "KnJoV8SWGq1m"
      },
      "source": [
        "#### 회귀직선"
      ]
    },
    {
      "cell_type": "markdown",
      "metadata": {
        "id": "KmLPdqOIGty7"
      },
      "source": [
        "두 데이터 사이의 관계를 더욱 잘 나타내는 직선"
      ]
    },
    {
      "cell_type": "markdown",
      "metadata": {
        "id": "-BGzmfgeGy0A"
      },
      "source": [
        "matplotlib에는 회귀 직선을 그리는 메소드가 없기 때문에 Numpy로 구한다  \n",
        "\n",
        "`np.polyfit` 함수와 `np.ploy1d` 함수를 사용한다"
      ]
    },
    {
      "cell_type": "code",
      "metadata": {
        "colab": {
          "base_uri": "https://localhost:8080/",
          "height": 497
        },
        "id": "Hyr2XlZHHc0U",
        "outputId": "5b483ddc-f98b-4211-bf6a-aa77ba003f25"
      },
      "source": [
        "# 계수 B_0 와 B_1을 구한다\n",
        "poly_fit = np.polyfit(english_scores,math_scores, 1)\n",
        "# B_0 + B_1 x 를 반환하는 함수를 작성\n",
        "poly_1d = np.poly1d(ploy_fit)\n",
        "# 직선을 그리기 위해 x좌표를 생성\n",
        "xs = np.linspace(english_scores.min(), english_scores.max())\n",
        "# xs에 대응하는 y좌표를 구한다\n",
        "ys = poly_1d(xs)\n",
        "\n",
        "fig = plt.figure(figsize=(8,8))\n",
        "ax = fig.add_subplot(111)\n",
        "ax.scatter(english_scores, math_scores, label='score')\n",
        "ax.plot(xs, ys, color='gray',\n",
        "        label=f'{ploy_fit[1]:.2f}+{ploy_fit[0]:.2f}x')\n",
        "ax.set_xlabel('english')\n",
        "ax.set_ylabel('mathematics')\n",
        "\n",
        "# 범례표시\n",
        "ax.legend(loc='upper left')\n",
        "\n",
        "plt.show()"
      ],
      "execution_count": 16,
      "outputs": [
        {
          "output_type": "display_data",
          "data": {
            "image/png": "[encoded data removed]",
            "text/plain": [
              "<Figure size 576x576 with 1 Axes>"
            ]
          },
          "metadata": {
            "tags": [],
            "needs_background": "light"
          }
        }
      ]
    },
    {
      "cell_type": "markdown",
      "metadata": {
        "id": "C9Mz39bKI9Fe"
      },
      "source": [
        "#### 히트맵"
      ]
    },
    {
      "cell_type": "code",
      "metadata": {
        "colab": {
          "base_uri": "https://localhost:8080/",
          "height": 501
        },
        "id": "dG3Bc2avJBUX",
        "outputId": "493bbeb1-c42a-4c59-9cf2-2e9362c77e45"
      },
      "source": [
        "fig = plt.figure(figsize=(10,8))\n",
        "ax = fig.add_subplot(111)\n",
        "\n",
        "# 영어 점수가 35점부터 80점까지 5점 간격, 수학점수가 55점에서 95점까지 5점 간격으로\n",
        "c = ax.hist2d(english_scores, math_scores,\n",
        "              bins=[9,8], range=[(35,80),(55, 95)])\n",
        "ax.set_xlabel('english')\n",
        "ax.set_ylabel('mathematics')\n",
        "ax.set_xticks(c[1])\n",
        "ax.set_yticks(c[2])\n",
        "# 컬러 바 표시\n",
        "fig.colorbar(c[3], ax=ax)\n",
        "plt.show()"
      ],
      "execution_count": 17,
      "outputs": [
        {
          "output_type": "display_data",
          "data": {
            "image/png": "[encoded data removed]",
            "text/plain": [
              "<Figure size 720x576 with 2 Axes>"
            ]
          },
          "metadata": {
            "tags": [],
            "needs_background": "light"
          }
        }
      ]
    },
    {
      "cell_type": "markdown",
      "metadata": {
        "id": "f2zskjdkJ2X0"
      },
      "source": [
        "### 앤스컴의 예"
      ]
    },
    {
      "cell_type": "markdown",
      "metadata": {
        "id": "C5TFkUrQJ_Ir"
      },
      "source": [
        "동일한 지표를 가지고 있지만 전혀 다른 데이터가 되는 예 \n"
      ]
    },
    {
      "cell_type": "code",
      "metadata": {
        "colab": {
          "base_uri": "https://localhost:8080/"
        },
        "id": "oVNRKsJmKKlY",
        "outputId": "753593d9-cfe0-4525-b1cc-0c162fc4823a"
      },
      "source": [
        "anscombe_data = np.load('./ch3_anscombe.npy')\n",
        "print(anscombe_data.shape)\n",
        "anscombe_data[0]"
      ],
      "execution_count": 19,
      "outputs": [
        {
          "output_type": "stream",
          "text": [
            "(4, 11, 2)\n"
          ],
          "name": "stdout"
        },
        {
          "output_type": "execute_result",
          "data": {
            "text/plain": [
              "array([[10.  ,  8.04],\n",
              "       [ 8.  ,  6.95],\n",
              "       [13.  ,  7.58],\n",
              "       [ 9.  ,  8.81],\n",
              "       [11.  ,  8.33],\n",
              "       [14.  ,  9.96],\n",
              "       [ 6.  ,  7.24],\n",
              "       [ 4.  ,  4.26],\n",
              "       [12.  , 10.84],\n",
              "       [ 7.  ,  4.82],\n",
              "       [ 5.  ,  5.68]])"
            ]
          },
          "metadata": {
            "tags": []
          },
          "execution_count": 19
        }
      ]
    },
    {
      "cell_type": "markdown",
      "metadata": {
        "id": "f2p65yGmK9sQ"
      },
      "source": [
        "각 데이터의 평균, 분산, 상관계수, 회귀직선을 계산해 DataFrame으로 정리"
      ]
    },
    {
      "cell_type": "code",
      "metadata": {
        "colab": {
          "base_uri": "https://localhost:8080/",
          "height": 235
        },
        "id": "7OWNO4ynLC4D",
        "outputId": "59560d86-a2ed-465c-badb-f5ee4c626161"
      },
      "source": [
        "stats_df = pd.DataFrame(index=['X_mean','X_variance','Y_mean',\n",
        "                               'Y_variance','X&Y_correlation',\n",
        "                               'X&Y_regression line'])\n",
        "for i, data in enumerate(anscombe_data):\n",
        "  dataX = data[:,0]\n",
        "  dataY = data[:,1]\n",
        "  ploy_fit = np.polyfit(dataX, dataY, 1)\n",
        "  stats_df[f'data{i+1}'] =\\\n",
        "      [f'{np.mean(dataX):.2f}',\n",
        "       f'{np.var(dataX):.2f}',\n",
        "       f'{np.mean(dataY):.2f}',\n",
        "       f'{np.var(dataY):.2f}',\n",
        "       f'{np.corrcoef(dataX, dataY)[0,1]:.2f}',\n",
        "       f'{ploy_fit[1]:.2f}+{ploy_fit[0]:.2f}x']\n",
        "stats_df"
      ],
      "execution_count": 20,
      "outputs": [
        {
          "output_type": "execute_result",
          "data": {
            "text/html": [
              "<div>\n",
              "<style scoped>\n",
              "    .dataframe tbody tr th:only-of-type {\n",
              "        vertical-align: middle;\n",
              "    }\n",
              "\n",
              "    .dataframe tbody tr th {\n",
              "        vertical-align: top;\n",
              "    }\n",
              "\n",
              "    .dataframe thead th {\n",
              "        text-align: right;\n",
              "    }\n",
              "</style>\n",
              "<table border=\"1\" class=\"dataframe\">\n",
              "  <thead>\n",
              "    <tr style=\"text-align: right;\">\n",
              "      <th></th>\n",
              "      <th>data1</th>\n",
              "      <th>data2</th>\n",
              "      <th>data3</th>\n",
              "      <th>data4</th>\n",
              "    </tr>\n",
              "  </thead>\n",
              "  <tbody>\n",
              "    <tr>\n",
              "      <th>X_mean</th>\n",
              "      <td>9.00</td>\n",
              "      <td>9.00</td>\n",
              "      <td>9.00</td>\n",
              "      <td>9.00</td>\n",
              "    </tr>\n",
              "    <tr>\n",
              "      <th>X_variance</th>\n",
              "      <td>10.00</td>\n",
              "      <td>10.00</td>\n",
              "      <td>10.00</td>\n",
              "      <td>10.00</td>\n",
              "    </tr>\n",
              "    <tr>\n",
              "      <th>Y_mean</th>\n",
              "      <td>7.50</td>\n",
              "      <td>7.50</td>\n",
              "      <td>7.50</td>\n",
              "      <td>7.50</td>\n",
              "    </tr>\n",
              "    <tr>\n",
              "      <th>Y_variance</th>\n",
              "      <td>3.75</td>\n",
              "      <td>3.75</td>\n",
              "      <td>3.75</td>\n",
              "      <td>3.75</td>\n",
              "    </tr>\n",
              "    <tr>\n",
              "      <th>X&amp;Y_correlation</th>\n",
              "      <td>0.82</td>\n",
              "      <td>0.82</td>\n",
              "      <td>0.82</td>\n",
              "      <td>0.82</td>\n",
              "    </tr>\n",
              "    <tr>\n",
              "      <th>X&amp;Y_regression line</th>\n",
              "      <td>3.00+0.50x</td>\n",
              "      <td>3.00+0.50x</td>\n",
              "      <td>3.00+0.50x</td>\n",
              "      <td>3.00+0.50x</td>\n",
              "    </tr>\n",
              "  </tbody>\n",
              "</table>\n",
              "</div>"
            ],
            "text/plain": [
              "                          data1       data2       data3       data4\n",
              "X_mean                     9.00        9.00        9.00        9.00\n",
              "X_variance                10.00       10.00       10.00       10.00\n",
              "Y_mean                     7.50        7.50        7.50        7.50\n",
              "Y_variance                 3.75        3.75        3.75        3.75\n",
              "X&Y_correlation            0.82        0.82        0.82        0.82\n",
              "X&Y_regression line  3.00+0.50x  3.00+0.50x  3.00+0.50x  3.00+0.50x"
            ]
          },
          "metadata": {
            "tags": []
          },
          "execution_count": 20
        }
      ]
    },
    {
      "cell_type": "markdown",
      "metadata": {
        "id": "Xdx9EeGjMTb6"
      },
      "source": [
        "모든 데이터가 평균부터 회귀직선까지 동일하다  \n",
        "지표상으로는 네가지 데이터가 모두 동일하다는 것이다  "
      ]
    },
    {
      "cell_type": "code",
      "metadata": {
        "colab": {
          "base_uri": "https://localhost:8080/",
          "height": 729
        },
        "id": "bWKupYgFMahM",
        "outputId": "f15c82c9-8f5f-4487-993b-0ab4c6351df3"
      },
      "source": [
        "fig, axes = plt.subplots(nrows=2, ncols=2, figsize=(10,10),\n",
        "                         sharex=True, sharey=True)\n",
        "\n",
        "xs = np.linspace(0,30,100)\n",
        "for i, data in enumerate(anscombe_data):\n",
        "  ploy_fit = np.polyfit(data[:,0], data[:,1], 1)\n",
        "  ploy_1d = np.poly1d(ploy_fit)\n",
        "  ys = poly_1d(xs)\n",
        "  # 그리는 영역 선택\n",
        "  ax = axes[i//2, i%2]\n",
        "  ax.set_xlim([4,20])\n",
        "  ax.set_ylim([3,13])\n",
        "  # 타이틀 부여\n",
        "  ax.set_title(f'data{i+1}')\n",
        "  ax.scatter(data[:,0], data[:,1])\n",
        "  ax.plot(xs, ys, color='gray')\n",
        "\n",
        "# 그래프 사이 간격 좁히기\n",
        "plt.tight_layout()\n",
        "plt.show()\n"
      ],
      "execution_count": 22,
      "outputs": [
        {
          "output_type": "display_data",
          "data": {
            "image/png": "[encoded data removed]",
            "text/plain": [
              "<Figure size 720x720 with 4 Axes>"
            ]
          },
          "metadata": {
            "tags": [],
            "needs_background": "light"
          }
        }
      ]
    },
    {
      "cell_type": "markdown",
      "metadata": {
        "id": "txqeMpZDNuiN"
      },
      "source": [
        "보다시피 지표는 완전히 동일하지만 그래프로 나타낼 경우 전혀 다른 분포를 띄고 있다  \n",
        "\n",
        "지표를 과신하지 말고 데이터 분석 시에는 가능하면 그림을 그려야 한다는 것을 나타낸다"
      ]
    }
  ]
}