{
  "nbformat": 4,
  "nbformat_minor": 0,
  "metadata": {
    "colab": {
      "name": "01_one-dimensional data.ipynb",
      "provenance": []
    },
    "kernelspec": {
      "name": "python3",
      "display_name": "Python 3"
    },
    "language_info": {
      "name": "python"
    }
  },
  "cells": [
    {
      "cell_type": "markdown",
      "metadata": {
        "id": "KDF0z2BvpOa-"
      },
      "source": [
        "## 1차원 배열 정리"
      ]
    },
    {
      "cell_type": "code",
      "metadata": {
        "id": "VTS4S3IwnAAR"
      },
      "source": [
        "import numpy as np\n",
        "import pandas as pd\n",
        "\n",
        "# 출력을 소수점 이하 3자리로 제한\n",
        "%precision 3\n",
        "\n",
        "# DataFrame 출력을 소수점 이하 3자리로 제한\n",
        "pd.set_option('precision',3)"
      ],
      "execution_count": 2,
      "outputs": []
    },
    {
      "cell_type": "code",
      "metadata": {
        "id": "ygAxi9fenozW"
      },
      "source": [
        "df = pd.read_csv('./ch2_scores_em.csv')"
      ],
      "execution_count": 3,
      "outputs": []
    },
    {
      "cell_type": "code",
      "metadata": {
        "colab": {
          "base_uri": "https://localhost:8080/",
          "height": 204
        },
        "id": "8z9AI-lYnxsp",
        "outputId": "f03ef0d3-7f0e-47fa-d814-d60cf3996abd"
      },
      "source": [
        "df.head()"
      ],
      "execution_count": 4,
      "outputs": [
        {
          "output_type": "execute_result",
          "data": {
            "text/html": [
              "<div>\n",
              "<style scoped>\n",
              "    .dataframe tbody tr th:only-of-type {\n",
              "        vertical-align: middle;\n",
              "    }\n",
              "\n",
              "    .dataframe tbody tr th {\n",
              "        vertical-align: top;\n",
              "    }\n",
              "\n",
              "    .dataframe thead th {\n",
              "        text-align: right;\n",
              "    }\n",
              "</style>\n",
              "<table border=\"1\" class=\"dataframe\">\n",
              "  <thead>\n",
              "    <tr style=\"text-align: right;\">\n",
              "      <th></th>\n",
              "      <th>student number</th>\n",
              "      <th>english</th>\n",
              "      <th>mathematics</th>\n",
              "    </tr>\n",
              "  </thead>\n",
              "  <tbody>\n",
              "    <tr>\n",
              "      <th>0</th>\n",
              "      <td>1</td>\n",
              "      <td>42</td>\n",
              "      <td>65</td>\n",
              "    </tr>\n",
              "    <tr>\n",
              "      <th>1</th>\n",
              "      <td>2</td>\n",
              "      <td>69</td>\n",
              "      <td>80</td>\n",
              "    </tr>\n",
              "    <tr>\n",
              "      <th>2</th>\n",
              "      <td>3</td>\n",
              "      <td>56</td>\n",
              "      <td>63</td>\n",
              "    </tr>\n",
              "    <tr>\n",
              "      <th>3</th>\n",
              "      <td>4</td>\n",
              "      <td>41</td>\n",
              "      <td>63</td>\n",
              "    </tr>\n",
              "    <tr>\n",
              "      <th>4</th>\n",
              "      <td>5</td>\n",
              "      <td>57</td>\n",
              "      <td>76</td>\n",
              "    </tr>\n",
              "  </tbody>\n",
              "</table>\n",
              "</div>"
            ],
            "text/plain": [
              "   student number  english  mathematics\n",
              "0               1       42           65\n",
              "1               2       69           80\n",
              "2               3       56           63\n",
              "3               4       41           63\n",
              "4               5       57           76"
            ]
          },
          "metadata": {
            "tags": []
          },
          "execution_count": 4
        }
      ]
    },
    {
      "cell_type": "markdown",
      "metadata": {
        "id": "VDX6s4H1pEld"
      },
      "source": [
        "Numpy의 계산을 위해 array 데이터 구조로 된 배열 생성"
      ]
    },
    {
      "cell_type": "code",
      "metadata": {
        "colab": {
          "base_uri": "https://localhost:8080/"
        },
        "id": "czb-P8zXpMXw",
        "outputId": "2bd250b4-ba9a-448e-e24b-ebeb4a96f863"
      },
      "source": [
        "scores = np.array(df['english'])[:10]\n",
        "scores"
      ],
      "execution_count": 6,
      "outputs": [
        {
          "output_type": "execute_result",
          "data": {
            "text/plain": [
              "array([42, 69, 56, 41, 57, 48, 65, 49, 65, 58])"
            ]
          },
          "metadata": {
            "tags": []
          },
          "execution_count": 6
        }
      ]
    },
    {
      "cell_type": "code",
      "metadata": {
        "id": "VDWEy_z8pY9H"
      },
      "source": [
        ""
      ],
      "execution_count": null,
      "outputs": []
    },
    {
      "cell_type": "markdown",
      "metadata": {
        "id": "5_viQ2kApgUV"
      },
      "source": [
        "DataFrame으로 다시 작성"
      ]
    },
    {
      "cell_type": "code",
      "metadata": {
        "colab": {
          "base_uri": "https://localhost:8080/",
          "height": 390
        },
        "id": "GjIj6e5gpn9J",
        "outputId": "d96ff216-a50c-4c89-bf42-e3c4cae7a4a2"
      },
      "source": [
        "scores_df = pd.DataFrame({'score':scores},\n",
        "                         index=pd.Index(['A','B','C','D','E','F','G','H','I','J'],\n",
        "                                        name = 'student'))\n",
        "scores_df"
      ],
      "execution_count": 7,
      "outputs": [
        {
          "output_type": "execute_result",
          "data": {
            "text/html": [
              "<div>\n",
              "<style scoped>\n",
              "    .dataframe tbody tr th:only-of-type {\n",
              "        vertical-align: middle;\n",
              "    }\n",
              "\n",
              "    .dataframe tbody tr th {\n",
              "        vertical-align: top;\n",
              "    }\n",
              "\n",
              "    .dataframe thead th {\n",
              "        text-align: right;\n",
              "    }\n",
              "</style>\n",
              "<table border=\"1\" class=\"dataframe\">\n",
              "  <thead>\n",
              "    <tr style=\"text-align: right;\">\n",
              "      <th></th>\n",
              "      <th>score</th>\n",
              "    </tr>\n",
              "    <tr>\n",
              "      <th>student</th>\n",
              "      <th></th>\n",
              "    </tr>\n",
              "  </thead>\n",
              "  <tbody>\n",
              "    <tr>\n",
              "      <th>A</th>\n",
              "      <td>42</td>\n",
              "    </tr>\n",
              "    <tr>\n",
              "      <th>B</th>\n",
              "      <td>69</td>\n",
              "    </tr>\n",
              "    <tr>\n",
              "      <th>C</th>\n",
              "      <td>56</td>\n",
              "    </tr>\n",
              "    <tr>\n",
              "      <th>D</th>\n",
              "      <td>41</td>\n",
              "    </tr>\n",
              "    <tr>\n",
              "      <th>E</th>\n",
              "      <td>57</td>\n",
              "    </tr>\n",
              "    <tr>\n",
              "      <th>F</th>\n",
              "      <td>48</td>\n",
              "    </tr>\n",
              "    <tr>\n",
              "      <th>G</th>\n",
              "      <td>65</td>\n",
              "    </tr>\n",
              "    <tr>\n",
              "      <th>H</th>\n",
              "      <td>49</td>\n",
              "    </tr>\n",
              "    <tr>\n",
              "      <th>I</th>\n",
              "      <td>65</td>\n",
              "    </tr>\n",
              "    <tr>\n",
              "      <th>J</th>\n",
              "      <td>58</td>\n",
              "    </tr>\n",
              "  </tbody>\n",
              "</table>\n",
              "</div>"
            ],
            "text/plain": [
              "         score\n",
              "student       \n",
              "A           42\n",
              "B           69\n",
              "C           56\n",
              "D           41\n",
              "E           57\n",
              "F           48\n",
              "G           65\n",
              "H           49\n",
              "I           65\n",
              "J           58"
            ]
          },
          "metadata": {
            "tags": []
          },
          "execution_count": 7
        }
      ]
    },
    {
      "cell_type": "markdown",
      "metadata": {
        "id": "2qy6y-kcxnpJ"
      },
      "source": [
        "### 데이터 중심 지표"
      ]
    },
    {
      "cell_type": "markdown",
      "metadata": {
        "id": "XSaINnOFuKzT"
      },
      "source": [
        "#### 평균값"
      ]
    },
    {
      "cell_type": "markdown",
      "metadata": {
        "id": "0-7Bxty9uM2F"
      },
      "source": [
        "가장 잘 알려진 대푯값  \n",
        "데이터를 모두 더한 뒤 데이터의 개수로 나누어 구한다"
      ]
    },
    {
      "cell_type": "code",
      "metadata": {
        "colab": {
          "base_uri": "https://localhost:8080/"
        },
        "id": "yfJo4zZHuVi0",
        "outputId": "049be691-cf0d-41db-806b-b3d305027015"
      },
      "source": [
        "np.mean(scores)"
      ],
      "execution_count": 9,
      "outputs": [
        {
          "output_type": "execute_result",
          "data": {
            "text/plain": [
              "55.000"
            ]
          },
          "metadata": {
            "tags": []
          },
          "execution_count": 9
        }
      ]
    },
    {
      "cell_type": "markdown",
      "metadata": {
        "id": "QIL2xfQOujMU"
      },
      "source": [
        "Series와 DataFrame에서도 간단히 구할 수 있다"
      ]
    },
    {
      "cell_type": "code",
      "metadata": {
        "colab": {
          "base_uri": "https://localhost:8080/"
        },
        "id": "FUWh6nTJurKc",
        "outputId": "f47ae41d-e1e1-4207-91df-bc453a4e0083"
      },
      "source": [
        "scores_df.mean()"
      ],
      "execution_count": 10,
      "outputs": [
        {
          "output_type": "execute_result",
          "data": {
            "text/plain": [
              "score    55.0\n",
              "dtype: float64"
            ]
          },
          "metadata": {
            "tags": []
          },
          "execution_count": 10
        }
      ]
    },
    {
      "cell_type": "markdown",
      "metadata": {
        "id": "4BsHYODXvD3h"
      },
      "source": [
        "#### 중앙값"
      ]
    },
    {
      "cell_type": "markdown",
      "metadata": {
        "id": "wsTGNUoqvGm7"
      },
      "source": [
        "데이터를 순서대로 나열할 때 중앙에 위치한 값\n",
        "\n",
        "`Ex) [9,1,5,3,7] 의 중앙값 = 5`  \n",
        "\n",
        "평균값에 비해 이상값에 영향을 덜 받는다  \n",
        "\n",
        "만약 데이터에 큰 이상값이 있는 경우,  대푯값으로 평균값보다 중앙값이 적절하다  \n",
        "\n",
        "데이터의 개수가 짝수일경우, 중앙에 위치한 값들의 평균값으로 계산한다  \n",
        "\n",
        "`[1,2,3,4,5,6] 의 중앙값 = 3과 4의 평균값 3.5`"
      ]
    },
    {
      "cell_type": "markdown",
      "metadata": {
        "id": "2L0B7D28wFNc"
      },
      "source": [
        "Numpy에서 중앙값 구하기"
      ]
    },
    {
      "cell_type": "code",
      "metadata": {
        "colab": {
          "base_uri": "https://localhost:8080/"
        },
        "id": "QdNKRHyPv_pz",
        "outputId": "6b185aa8-f57b-43cd-eded-75bf200a8d12"
      },
      "source": [
        "np.median(scores)"
      ],
      "execution_count": 11,
      "outputs": [
        {
          "output_type": "execute_result",
          "data": {
            "text/plain": [
              "56.500"
            ]
          },
          "metadata": {
            "tags": []
          },
          "execution_count": 11
        }
      ]
    },
    {
      "cell_type": "markdown",
      "metadata": {
        "id": "5eVfykgLwJR8"
      },
      "source": [
        "Series, DataFrame에서 중앙값 구하기"
      ]
    },
    {
      "cell_type": "code",
      "metadata": {
        "colab": {
          "base_uri": "https://localhost:8080/"
        },
        "id": "y7eD7FWYwNcE",
        "outputId": "29d32db5-3ae7-46dd-8499-1c0ac63b682d"
      },
      "source": [
        "scores_df.median()"
      ],
      "execution_count": 12,
      "outputs": [
        {
          "output_type": "execute_result",
          "data": {
            "text/plain": [
              "score    56.5\n",
              "dtype: float64"
            ]
          },
          "metadata": {
            "tags": []
          },
          "execution_count": 12
        }
      ]
    },
    {
      "cell_type": "markdown",
      "metadata": {
        "id": "mJMaUY3NwRwv"
      },
      "source": [
        "#### 최빈값"
      ]
    },
    {
      "cell_type": "markdown",
      "metadata": {
        "id": "4kocUBJLwUeE"
      },
      "source": [
        "데이터에서 가장 많이 나타나는 값  \n",
        "\n",
        "[1,1,1,2,2,3]이라는 데이터에서 최빈값은 가장 많은 1이다"
      ]
    },
    {
      "cell_type": "markdown",
      "metadata": {
        "id": "2gHHUCWSwliu"
      },
      "source": [
        "최빈값은 DataFrame이나 Series에서 쉽게 구할 수 있다  "
      ]
    },
    {
      "cell_type": "code",
      "metadata": {
        "colab": {
          "base_uri": "https://localhost:8080/"
        },
        "id": "MJJmukv5wt9H",
        "outputId": "33e562e9-e6fe-4818-9b29-e6253c6a5cc0"
      },
      "source": [
        "pd.Series([1,1,1,2,2,3]).mode()"
      ],
      "execution_count": 13,
      "outputs": [
        {
          "output_type": "execute_result",
          "data": {
            "text/plain": [
              "0    1\n",
              "dtype: int64"
            ]
          },
          "metadata": {
            "tags": []
          },
          "execution_count": 13
        }
      ]
    },
    {
      "cell_type": "markdown",
      "metadata": {
        "id": "PvXm-4GoxvcX"
      },
      "source": [
        "### 데이터의 산포도 지표\n",
        "\n"
      ]
    },
    {
      "cell_type": "markdown",
      "metadata": {
        "id": "TVzVVkVDx0Uh"
      },
      "source": [
        "#### 편차"
      ]
    },
    {
      "cell_type": "markdown",
      "metadata": {
        "id": "oRs14ERCyErx"
      },
      "source": [
        "각 데이터가 평균으로부터 어느정도 떨어져 있는지를 나타내는 지표  \n",
        "\n",
        "A 의 점수가 42점이고 학생 10명의 평균 점수가 55점이라면,  \n",
        "A의 편차는 42 - 55 = -13이 된다  "
      ]
    },
    {
      "cell_type": "code",
      "metadata": {
        "colab": {
          "base_uri": "https://localhost:8080/"
        },
        "id": "tdBXXrNCyNIZ",
        "outputId": "87936111-9675-415a-a97d-9fb5694cc0df"
      },
      "source": [
        "mean = np.mean(scores)\n",
        "deviation = scores - mean\n",
        "deviation"
      ],
      "execution_count": 26,
      "outputs": [
        {
          "output_type": "execute_result",
          "data": {
            "text/plain": [
              "array([-13.,  14.,   1., -14.,   2.,  -7.,  10.,  -6.,  10.,   3.])"
            ]
          },
          "metadata": {
            "tags": []
          },
          "execution_count": 26
        }
      ]
    },
    {
      "cell_type": "code",
      "metadata": {
        "colab": {
          "base_uri": "https://localhost:8080/",
          "height": 0
        },
        "id": "Dpg4W2R01oZh",
        "outputId": "7e38f89f-a401-4ae8-b37c-5443abd3206d"
      },
      "source": [
        "summary_df = scores_df.copy()\n",
        "summary_df['deviation'] = deviation\n",
        "summary_df"
      ],
      "execution_count": 27,
      "outputs": [
        {
          "output_type": "execute_result",
          "data": {
            "text/html": [
              "<div>\n",
              "<style scoped>\n",
              "    .dataframe tbody tr th:only-of-type {\n",
              "        vertical-align: middle;\n",
              "    }\n",
              "\n",
              "    .dataframe tbody tr th {\n",
              "        vertical-align: top;\n",
              "    }\n",
              "\n",
              "    .dataframe thead th {\n",
              "        text-align: right;\n",
              "    }\n",
              "</style>\n",
              "<table border=\"1\" class=\"dataframe\">\n",
              "  <thead>\n",
              "    <tr style=\"text-align: right;\">\n",
              "      <th></th>\n",
              "      <th>score</th>\n",
              "      <th>deviation</th>\n",
              "    </tr>\n",
              "    <tr>\n",
              "      <th>student</th>\n",
              "      <th></th>\n",
              "      <th></th>\n",
              "    </tr>\n",
              "  </thead>\n",
              "  <tbody>\n",
              "    <tr>\n",
              "      <th>A</th>\n",
              "      <td>42</td>\n",
              "      <td>-13.0</td>\n",
              "    </tr>\n",
              "    <tr>\n",
              "      <th>B</th>\n",
              "      <td>69</td>\n",
              "      <td>14.0</td>\n",
              "    </tr>\n",
              "    <tr>\n",
              "      <th>C</th>\n",
              "      <td>56</td>\n",
              "      <td>1.0</td>\n",
              "    </tr>\n",
              "    <tr>\n",
              "      <th>D</th>\n",
              "      <td>41</td>\n",
              "      <td>-14.0</td>\n",
              "    </tr>\n",
              "    <tr>\n",
              "      <th>E</th>\n",
              "      <td>57</td>\n",
              "      <td>2.0</td>\n",
              "    </tr>\n",
              "    <tr>\n",
              "      <th>F</th>\n",
              "      <td>48</td>\n",
              "      <td>-7.0</td>\n",
              "    </tr>\n",
              "    <tr>\n",
              "      <th>G</th>\n",
              "      <td>65</td>\n",
              "      <td>10.0</td>\n",
              "    </tr>\n",
              "    <tr>\n",
              "      <th>H</th>\n",
              "      <td>49</td>\n",
              "      <td>-6.0</td>\n",
              "    </tr>\n",
              "    <tr>\n",
              "      <th>I</th>\n",
              "      <td>65</td>\n",
              "      <td>10.0</td>\n",
              "    </tr>\n",
              "    <tr>\n",
              "      <th>J</th>\n",
              "      <td>58</td>\n",
              "      <td>3.0</td>\n",
              "    </tr>\n",
              "  </tbody>\n",
              "</table>\n",
              "</div>"
            ],
            "text/plain": [
              "         score  deviation\n",
              "student                  \n",
              "A           42      -13.0\n",
              "B           69       14.0\n",
              "C           56        1.0\n",
              "D           41      -14.0\n",
              "E           57        2.0\n",
              "F           48       -7.0\n",
              "G           65       10.0\n",
              "H           49       -6.0\n",
              "I           65       10.0\n",
              "J           58        3.0"
            ]
          },
          "metadata": {
            "tags": []
          },
          "execution_count": 27
        }
      ]
    },
    {
      "cell_type": "code",
      "metadata": {
        "colab": {
          "base_uri": "https://localhost:8080/"
        },
        "id": "0pm7xTmE2DQY",
        "outputId": "d231da5e-c50d-4675-d199-98232edaf314"
      },
      "source": [
        "summary_df.mean()"
      ],
      "execution_count": 28,
      "outputs": [
        {
          "output_type": "execute_result",
          "data": {
            "text/plain": [
              "score        55.0\n",
              "deviation     0.0\n",
              "dtype: float64"
            ]
          },
          "metadata": {
            "tags": []
          },
          "execution_count": 28
        }
      ]
    },
    {
      "cell_type": "markdown",
      "metadata": {
        "id": "Hyuap6OE2KWK"
      },
      "source": [
        "편차 평균은 언제나 0이 된다"
      ]
    },
    {
      "cell_type": "markdown",
      "metadata": {
        "id": "cD1kHSqv2TXV"
      },
      "source": [
        "#### 분산"
      ]
    },
    {
      "cell_type": "markdown",
      "metadata": {
        "id": "CUsyoteb2Wfw"
      },
      "source": [
        "산포도의 지표로 각 데이터와 평균 간 차이를 나타내는 편차를 이용하는 것은  \n",
        "편차의 평균이 항상 0이 되므로 좋은방법이 아닌듯하다"
      ]
    },
    {
      "cell_type": "markdown",
      "metadata": {
        "id": "gTvv76G23e2j"
      },
      "source": [
        "그러니 **분산**을 이용한다  \n",
        "\n",
        "분산은 편차의 제곱의 평균으로 정의된다"
      ]
    },
    {
      "cell_type": "markdown",
      "metadata": {
        "id": "wNl0NHY437VY"
      },
      "source": [
        "numpy에서는 var 함수를 사용한다"
      ]
    },
    {
      "cell_type": "code",
      "metadata": {
        "colab": {
          "base_uri": "https://localhost:8080/"
        },
        "id": "t7-OXJHD32sr",
        "outputId": "d8997dd8-2bdc-40c1-d933-00a0fc11f9d5"
      },
      "source": [
        "np.var(scores)"
      ],
      "execution_count": 29,
      "outputs": [
        {
          "output_type": "execute_result",
          "data": {
            "text/plain": [
              "86.000"
            ]
          },
          "metadata": {
            "tags": []
          },
          "execution_count": 29
        }
      ]
    },
    {
      "cell_type": "markdown",
      "metadata": {
        "id": "6wgPFybg3_kh"
      },
      "source": [
        "DataFrame과 Series에서도 사용이 가능하지만 이경우 문제가 있다"
      ]
    },
    {
      "cell_type": "code",
      "metadata": {
        "colab": {
          "base_uri": "https://localhost:8080/"
        },
        "id": "803BlKm34ERE",
        "outputId": "23373d56-1d1b-4ef5-d67f-551b74388df2"
      },
      "source": [
        "scores_df.var()"
      ],
      "execution_count": 30,
      "outputs": [
        {
          "output_type": "execute_result",
          "data": {
            "text/plain": [
              "score    95.556\n",
              "dtype: float64"
            ]
          },
          "metadata": {
            "tags": []
          },
          "execution_count": 30
        }
      ]
    },
    {
      "cell_type": "markdown",
      "metadata": {
        "id": "JeKB5dvX4INa"
      },
      "source": [
        "두개의 결과값이 다른데 이는 표본분산과 불편분산의 차이때문이다  \n",
        "\n",
        "numpy와 pandas는 서로 다른 분산을 계산한다  \n",
        "\n",
        "numpy는 표본분산, pandas는 불편분산을 계산한다"
      ]
    },
    {
      "cell_type": "code",
      "metadata": {
        "colab": {
          "base_uri": "https://localhost:8080/",
          "height": 0
        },
        "id": "y8BJW85m4gbH",
        "outputId": "9e27f51d-49af-4511-bfee-57b8d75f9cc0"
      },
      "source": [
        "summary_df['square of deviation'] = np.square(deviation) # 편차 제곱 열 추가\n",
        "summary_df"
      ],
      "execution_count": 31,
      "outputs": [
        {
          "output_type": "execute_result",
          "data": {
            "text/html": [
              "<div>\n",
              "<style scoped>\n",
              "    .dataframe tbody tr th:only-of-type {\n",
              "        vertical-align: middle;\n",
              "    }\n",
              "\n",
              "    .dataframe tbody tr th {\n",
              "        vertical-align: top;\n",
              "    }\n",
              "\n",
              "    .dataframe thead th {\n",
              "        text-align: right;\n",
              "    }\n",
              "</style>\n",
              "<table border=\"1\" class=\"dataframe\">\n",
              "  <thead>\n",
              "    <tr style=\"text-align: right;\">\n",
              "      <th></th>\n",
              "      <th>score</th>\n",
              "      <th>deviation</th>\n",
              "      <th>square of deviation</th>\n",
              "    </tr>\n",
              "    <tr>\n",
              "      <th>student</th>\n",
              "      <th></th>\n",
              "      <th></th>\n",
              "      <th></th>\n",
              "    </tr>\n",
              "  </thead>\n",
              "  <tbody>\n",
              "    <tr>\n",
              "      <th>A</th>\n",
              "      <td>42</td>\n",
              "      <td>-13.0</td>\n",
              "      <td>169.0</td>\n",
              "    </tr>\n",
              "    <tr>\n",
              "      <th>B</th>\n",
              "      <td>69</td>\n",
              "      <td>14.0</td>\n",
              "      <td>196.0</td>\n",
              "    </tr>\n",
              "    <tr>\n",
              "      <th>C</th>\n",
              "      <td>56</td>\n",
              "      <td>1.0</td>\n",
              "      <td>1.0</td>\n",
              "    </tr>\n",
              "    <tr>\n",
              "      <th>D</th>\n",
              "      <td>41</td>\n",
              "      <td>-14.0</td>\n",
              "      <td>196.0</td>\n",
              "    </tr>\n",
              "    <tr>\n",
              "      <th>E</th>\n",
              "      <td>57</td>\n",
              "      <td>2.0</td>\n",
              "      <td>4.0</td>\n",
              "    </tr>\n",
              "    <tr>\n",
              "      <th>F</th>\n",
              "      <td>48</td>\n",
              "      <td>-7.0</td>\n",
              "      <td>49.0</td>\n",
              "    </tr>\n",
              "    <tr>\n",
              "      <th>G</th>\n",
              "      <td>65</td>\n",
              "      <td>10.0</td>\n",
              "      <td>100.0</td>\n",
              "    </tr>\n",
              "    <tr>\n",
              "      <th>H</th>\n",
              "      <td>49</td>\n",
              "      <td>-6.0</td>\n",
              "      <td>36.0</td>\n",
              "    </tr>\n",
              "    <tr>\n",
              "      <th>I</th>\n",
              "      <td>65</td>\n",
              "      <td>10.0</td>\n",
              "      <td>100.0</td>\n",
              "    </tr>\n",
              "    <tr>\n",
              "      <th>J</th>\n",
              "      <td>58</td>\n",
              "      <td>3.0</td>\n",
              "      <td>9.0</td>\n",
              "    </tr>\n",
              "  </tbody>\n",
              "</table>\n",
              "</div>"
            ],
            "text/plain": [
              "         score  deviation  square of deviation\n",
              "student                                       \n",
              "A           42      -13.0                169.0\n",
              "B           69       14.0                196.0\n",
              "C           56        1.0                  1.0\n",
              "D           41      -14.0                196.0\n",
              "E           57        2.0                  4.0\n",
              "F           48       -7.0                 49.0\n",
              "G           65       10.0                100.0\n",
              "H           49       -6.0                 36.0\n",
              "I           65       10.0                100.0\n",
              "J           58        3.0                  9.0"
            ]
          },
          "metadata": {
            "tags": []
          },
          "execution_count": 31
        }
      ]
    },
    {
      "cell_type": "code",
      "metadata": {
        "colab": {
          "base_uri": "https://localhost:8080/"
        },
        "id": "TBjDV_nM5fIL",
        "outputId": "36ff12fd-16b4-4de2-bab9-0eb86dde0afd"
      },
      "source": [
        "summary_df.mean()"
      ],
      "execution_count": 32,
      "outputs": [
        {
          "output_type": "execute_result",
          "data": {
            "text/plain": [
              "score                  55.0\n",
              "deviation               0.0\n",
              "square of deviation    86.0\n",
              "dtype: float64"
            ]
          },
          "metadata": {
            "tags": []
          },
          "execution_count": 32
        }
      ]
    },
    {
      "cell_type": "markdown",
      "metadata": {
        "id": "AAyUYAsd5iKs"
      },
      "source": [
        "#### 표준편차"
      ]
    },
    {
      "cell_type": "markdown",
      "metadata": {
        "id": "gqY37Z305jqx"
      },
      "source": [
        "분산에 제곱근을 적용한 지표"
      ]
    },
    {
      "cell_type": "code",
      "metadata": {
        "colab": {
          "base_uri": "https://localhost:8080/"
        },
        "id": "9VZy3Lv16iwu",
        "outputId": "17b8f3c6-5033-463a-86da-80e4b0504c9d"
      },
      "source": [
        "np.sqrt(np.var(scores, ddof=0))"
      ],
      "execution_count": 33,
      "outputs": [
        {
          "output_type": "execute_result",
          "data": {
            "text/plain": [
              "9.274"
            ]
          },
          "metadata": {
            "tags": []
          },
          "execution_count": 33
        }
      ]
    },
    {
      "cell_type": "markdown",
      "metadata": {
        "id": "QEn8aYZR6v5x"
      },
      "source": [
        "아까 위에서 pandas와 numpy가 각각 다른 분산을 계산한다고 배웠다  \n",
        "\n",
        "하지만 다른 분산을 계산할 수 도있는데 이때 사용하는게 ddof 인자이다  \n",
        "\n",
        "ddof = 0 은 표본분산, ddof = 1 은 불편분산을 나타낸다"
      ]
    },
    {
      "cell_type": "code",
      "metadata": {
        "colab": {
          "base_uri": "https://localhost:8080/"
        },
        "id": "PVwyMaZY7Bkb",
        "outputId": "36f9fa42-127a-4201-e2b0-bac8b682894f"
      },
      "source": [
        "np.std(scores, ddof=0)"
      ],
      "execution_count": 34,
      "outputs": [
        {
          "output_type": "execute_result",
          "data": {
            "text/plain": [
              "9.274"
            ]
          },
          "metadata": {
            "tags": []
          },
          "execution_count": 34
        }
      ]
    },
    {
      "cell_type": "markdown",
      "metadata": {
        "id": "HSKfMZA57aaZ"
      },
      "source": [
        "#### 범위"
      ]
    },
    {
      "cell_type": "markdown",
      "metadata": {
        "id": "NMnWotq07hxb"
      },
      "source": [
        "분산이나 표준편차와 달리, 데이터의 최댓값과 최솟값만으로 산포도를 표현하는 방법  \n",
        "\n",
        "값이 2개뿐이므로 이상값에 약하다"
      ]
    },
    {
      "cell_type": "code",
      "metadata": {
        "colab": {
          "base_uri": "https://localhost:8080/"
        },
        "id": "yLsd5FYC7vKn",
        "outputId": "b51d9692-d6db-4831-a7b9-ebf238f2d7ad"
      },
      "source": [
        "np.max(scores) - np.min(scores)"
      ],
      "execution_count": 35,
      "outputs": [
        {
          "output_type": "execute_result",
          "data": {
            "text/plain": [
              "28"
            ]
          },
          "metadata": {
            "tags": []
          },
          "execution_count": 35
        }
      ]
    },
    {
      "cell_type": "markdown",
      "metadata": {
        "id": "ztZF0rk773Mu"
      },
      "source": [
        "#### 사분위 범위"
      ]
    },
    {
      "cell_type": "markdown",
      "metadata": {
        "id": "tk0KT5wn78XC"
      },
      "source": [
        "데이터의 하위 25% 50% 75% 에 위치하는 값 (제1, 2, 3 사분위수)"
      ]
    },
    {
      "cell_type": "code",
      "metadata": {
        "colab": {
          "base_uri": "https://localhost:8080/"
        },
        "id": "bFUYB8jB8VOg",
        "outputId": "5f753ade-be0a-4d93-ab10-a50e74d1994c"
      },
      "source": [
        "scores_Q1 = np.percentile(scores, 25)\n",
        "scores_Q3 = np.percentile(scores, 75)\n",
        "scores_IQR = scores_Q3 - scores_Q1\n",
        "scores_IQR\n"
      ],
      "execution_count": 38,
      "outputs": [
        {
          "output_type": "execute_result",
          "data": {
            "text/plain": [
              "15.000"
            ]
          },
          "metadata": {
            "tags": []
          },
          "execution_count": 38
        }
      ]
    },
    {
      "cell_type": "markdown",
      "metadata": {
        "id": "UsYy5TBr8tsQ"
      },
      "source": [
        "사실 지금까지 다룬 지표를 한번에 보는 방법이 있다  \n",
        "\n",
        "describe 메서드가 그것이다 "
      ]
    },
    {
      "cell_type": "code",
      "metadata": {
        "colab": {
          "base_uri": "https://localhost:8080/"
        },
        "id": "N83250Uk80M2",
        "outputId": "75ec6ecd-2ea4-42ea-91d3-3863a03be166"
      },
      "source": [
        "pd.Series(scores).describe()"
      ],
      "execution_count": 39,
      "outputs": [
        {
          "output_type": "execute_result",
          "data": {
            "text/plain": [
              "count    10.000\n",
              "mean     55.000\n",
              "std       9.775\n",
              "min      41.000\n",
              "25%      48.250\n",
              "50%      56.500\n",
              "75%      63.250\n",
              "max      69.000\n",
              "dtype: float64"
            ]
          },
          "metadata": {
            "tags": []
          },
          "execution_count": 39
        }
      ]
    },
    {
      "cell_type": "markdown",
      "metadata": {
        "id": "7Nac3cBT87dJ"
      },
      "source": [
        "데이터가 주어지면 우선 describe를 사용해 개요를 파악해보는게 좋다"
      ]
    }
  ]
}