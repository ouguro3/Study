{
  "nbformat": 4,
  "nbformat_minor": 5,
  "metadata": {
    "kernelspec": {
      "display_name": "Python Multi",
      "language": "python",
      "name": "mulit"
    },
    "language_info": {
      "codemirror_mode": {
        "name": "ipython",
        "version": 3
      },
      "file_extension": ".py",
      "mimetype": "text/x-python",
      "name": "python",
      "nbconvert_exporter": "python",
      "pygments_lexer": "ipython3",
      "version": "3.7.6"
    },
    "colab": {
      "name": "03_guess_statistics.ipynb",
      "provenance": [],
      "collapsed_sections": [],
      "include_colab_link": true
    }
  },
  "cells": [
    {
      "cell_type": "markdown",
      "metadata": {
        "id": "view-in-github",
        "colab_type": "text"
      },
      "source": [
        "<a href=\"https://colab.research.google.com/github/ouguro3/Study/blob/main/03_guess_statistics.ipynb\" target=\"_parent\"><img src=\"https://colab.research.google.com/assets/colab-badge.svg\" alt=\"Open In Colab\"/></a>"
      ]
    },
    {
      "cell_type": "markdown",
      "metadata": {
        "id": "1cbd4ff4-2319-4b2a-b626-41a0cfbb0768"
      },
      "source": [
        "## 추측 통계"
      ],
      "id": "1cbd4ff4-2319-4b2a-b626-41a0cfbb0768"
    },
    {
      "cell_type": "markdown",
      "metadata": {
        "id": "99553a30-2f82-4050-9342-e652dc2bb396"
      },
      "source": [
        "일부 데이터로부터 전체 데이터의 통계적 성질을 추측하는 방식"
      ],
      "id": "99553a30-2f82-4050-9342-e652dc2bb396"
    },
    {
      "cell_type": "code",
      "metadata": {
        "id": "vpIaYl2EofRc"
      },
      "source": [
        "import numpy as np\n",
        "import pandas as pd\n",
        "import matplotlib.pyplot as plt\n",
        "\n",
        "%precision 3\n",
        "%matplotlib inline"
      ],
      "id": "vpIaYl2EofRc",
      "execution_count": null,
      "outputs": []
    },
    {
      "cell_type": "code",
      "metadata": {
        "colab": {
          "base_uri": "https://localhost:8080/"
        },
        "id": "UwFvTAtMoq6B",
        "outputId": "7cdd620f-db44-408c-dda0-a5d0b6bc4fbc"
      },
      "source": [
        "df = pd.read_csv('./ch4_scores400.csv')\n",
        "scores = np.array(df['score'])\n",
        "scores[:10]"
      ],
      "id": "UwFvTAtMoq6B",
      "execution_count": null,
      "outputs": [
        {
          "output_type": "execute_result",
          "data": {
            "text/plain": [
              "array([76, 55, 80, 80, 74, 61, 81, 76, 23, 80])"
            ]
          },
          "metadata": {
            "tags": []
          },
          "execution_count": 3
        }
      ]
    },
    {
      "cell_type": "markdown",
      "metadata": {
        "id": "Loaz-IiopBMM"
      },
      "source": [
        "### 모집단과 표본"
      ],
      "id": "Loaz-IiopBMM"
    },
    {
      "cell_type": "markdown",
      "metadata": {
        "id": "58D5zCE-pDdF"
      },
      "source": [
        "추측하고 싶은 관측 대상 전체 : `모집단` (`population`)  \n",
        "\n",
        "추측에 사용하는 관측 대상의 일부분 : `표본` (`sample`)\n",
        "\n",
        "모집단에서 표본을 골라내는 일 : `표본 추출` (`sampling`)  \n",
        "\n",
        "골라낸 표본의 수 : `표본 크기`, `샘플 사이즈`  \n",
        "\n",
        "표본을 바탕으로 계산한 평균, 분산, 상관계수 등 : `표본 통계량`  \n",
        "\n",
        "모집단의 평균, 분산, 상관계수 등 : `모수`"
      ],
      "id": "58D5zCE-pDdF"
    },
    {
      "cell_type": "markdown",
      "metadata": {
        "id": "uVMtpesOqECT"
      },
      "source": [
        "표본의 평균을 `표본평균`, 모집단의 평균을 `모평균` 으로 부르는 경우도 있다"
      ],
      "id": "uVMtpesOqECT"
    },
    {
      "cell_type": "markdown",
      "metadata": {
        "id": "UuezekaZqL33"
      },
      "source": [
        "표본평균으로 모평균을 추측할 때 표본평균은 모평균의 `추정량 (estimator)` , \n",
        "\n",
        "실제 표본의 데이터를 이용하여 계산한 결과를 `추정값 (estimate)` 이라고 한다"
      ],
      "id": "UuezekaZqL33"
    },
    {
      "cell_type": "markdown",
      "metadata": {
        "id": "7MZkAMuwqqow"
      },
      "source": [
        "#### 표본추출 방법"
      ],
      "id": "7MZkAMuwqqow"
    },
    {
      "cell_type": "markdown",
      "metadata": {
        "id": "0OZrUYfhqu91"
      },
      "source": [
        "임의로 표본을 추출하는 `무작위추출 (random sampling)`,  \n",
        "\n",
        "여러 차례 동일한 표본을 선택하는 `복원추출 (sampling with replacement)`,  \n",
        "\n",
        "동일한 표본은 한 번만 선택하는 `비복원추출 (sampling without replacement)`"
      ],
      "id": "0OZrUYfhqu91"
    },
    {
      "cell_type": "code",
      "metadata": {
        "colab": {
          "base_uri": "https://localhost:8080/"
        },
        "id": "0672SpzhqqLE",
        "outputId": "77529c08-44eb-4057-f4a1-0c715143777d"
      },
      "source": [
        "# 무작위 추출 np.random.choice\n",
        "\n",
        "# 1,2,3 이라는 리스트에서 표본 크기 3으로\n",
        "np.random.choice([1,2,3],3)"
      ],
      "id": "0672SpzhqqLE",
      "execution_count": null,
      "outputs": [
        {
          "output_type": "execute_result",
          "data": {
            "text/plain": [
              "array([3, 1, 1])"
            ]
          },
          "metadata": {
            "tags": []
          },
          "execution_count": 4
        }
      ]
    },
    {
      "cell_type": "markdown",
      "metadata": {
        "id": "wJwnq7bqr7qN"
      },
      "source": [
        "기본적으로 1,2,3 중 랜덤 추출 된다"
      ],
      "id": "wJwnq7bqr7qN"
    },
    {
      "cell_type": "code",
      "metadata": {
        "colab": {
          "base_uri": "https://localhost:8080/"
        },
        "id": "eM8-sbzwrplt",
        "outputId": "f7c192a1-5240-439b-dca1-2be7f5f5c779"
      },
      "source": [
        "# 비복원 추출 np.random.choice의 인수 `replace` 를 `False` 로\n",
        "\n",
        "np.random.choice([1,2,3],3, replace=False)"
      ],
      "id": "eM8-sbzwrplt",
      "execution_count": null,
      "outputs": [
        {
          "output_type": "execute_result",
          "data": {
            "text/plain": [
              "array([1, 2, 3])"
            ]
          },
          "metadata": {
            "tags": []
          },
          "execution_count": 9
        }
      ]
    },
    {
      "cell_type": "markdown",
      "metadata": {
        "id": "tP_8q1xbr_c4"
      },
      "source": [
        "매번 중복되지 않고 1,2,3 이라는 숫자가 한 번씩 추출된다"
      ],
      "id": "tP_8q1xbr_c4"
    },
    {
      "cell_type": "markdown",
      "metadata": {
        "id": "PUg52omZsPd0"
      },
      "source": [
        "매번 동일한 난수를 얻으려면 난수 `시드 (seed)`를 도입한다"
      ],
      "id": "PUg52omZsPd0"
    },
    {
      "cell_type": "code",
      "metadata": {
        "colab": {
          "base_uri": "https://localhost:8080/"
        },
        "id": "aRInKD3zsY_Q",
        "outputId": "1290f481-f80e-4445-b03e-27c90f87af0d"
      },
      "source": [
        "# 1,2,1 결과 얻기\n",
        "\n",
        "# 시드를 0으로 도입\n",
        "np.random.seed(0)\n",
        "np.random.choice([1,2,3],3)"
      ],
      "id": "aRInKD3zsY_Q",
      "execution_count": null,
      "outputs": [
        {
          "output_type": "execute_result",
          "data": {
            "text/plain": [
              "array([1, 2, 1])"
            ]
          },
          "metadata": {
            "tags": []
          },
          "execution_count": 12
        }
      ]
    },
    {
      "cell_type": "markdown",
      "metadata": {
        "id": "1yoLTOv3tR8N"
      },
      "source": [
        "무작위추출에 대해 시드를 0으로 설정한 다음, scores로부터 표본크기 20으로 복원 추출해 표본평균 구하기"
      ],
      "id": "1yoLTOv3tR8N"
    },
    {
      "cell_type": "code",
      "metadata": {
        "colab": {
          "base_uri": "https://localhost:8080/"
        },
        "id": "aGyanQaXtBis",
        "outputId": "dcffb13b-2eb3-460b-9f2a-e06ea5f20d9e"
      },
      "source": [
        "np.random.seed(0)\n",
        "sample = np.random.choice(scores, 20)\n",
        "sample.mean()"
      ],
      "id": "aGyanQaXtBis",
      "execution_count": null,
      "outputs": [
        {
          "output_type": "execute_result",
          "data": {
            "text/plain": [
              "70.400"
            ]
          },
          "metadata": {
            "tags": []
          },
          "execution_count": 14
        }
      ]
    },
    {
      "cell_type": "markdown",
      "metadata": {
        "id": "nVY4X84btglI"
      },
      "source": [
        "모평균 구하기"
      ],
      "id": "nVY4X84btglI"
    },
    {
      "cell_type": "code",
      "metadata": {
        "colab": {
          "base_uri": "https://localhost:8080/"
        },
        "id": "5-GeAa9ctiFA",
        "outputId": "7e5c60bc-c169-4174-e35b-cf073a92ffca"
      },
      "source": [
        "scores.mean()"
      ],
      "id": "5-GeAa9ctiFA",
      "execution_count": null,
      "outputs": [
        {
          "output_type": "execute_result",
          "data": {
            "text/plain": [
              "69.530"
            ]
          },
          "metadata": {
            "tags": []
          },
          "execution_count": 15
        }
      ]
    },
    {
      "cell_type": "markdown",
      "metadata": {
        "id": "r-T-snm_uBDZ"
      },
      "source": [
        "무작위추출은 매번 결과가 달라지기 때문에, 얻어진 표본평균도 매번 다르다  \n",
        "\n",
        "무작위추출과 그 값의 표본평균을 반복 실행해보면"
      ],
      "id": "r-T-snm_uBDZ"
    },
    {
      "cell_type": "code",
      "metadata": {
        "colab": {
          "base_uri": "https://localhost:8080/"
        },
        "id": "OGAcbty-uMB4",
        "outputId": "3eaf270c-6ad9-4575-a261-142a0eadbf9e"
      },
      "source": [
        "for i in range(5):\n",
        "  sample = np.random.choice(scores, 20)\n",
        "  print(f'{i+1}번째 무작위추출로 얻은 표본평균', sample.mean())"
      ],
      "id": "OGAcbty-uMB4",
      "execution_count": null,
      "outputs": [
        {
          "output_type": "stream",
          "text": [
            "1번째 무작위추출로 얻은 표본평균 63.7\n",
            "2번째 무작위추출로 얻은 표본평균 66.05\n",
            "3번째 무작위추출로 얻은 표본평균 71.7\n",
            "4번째 무작위추출로 얻은 표본평균 74.15\n",
            "5번째 무작위추출로 얻은 표본평균 70.7\n"
          ],
          "name": "stdout"
        }
      ]
    },
    {
      "cell_type": "markdown",
      "metadata": {
        "id": "-0zqyttZum9u"
      },
      "source": [
        "표본평균이 70.4 이니 꽤 괜찮은 결과로 보인다  \n",
        "무작위로 추출한 값의 평균이 전부 70점 전후로 나름대로 산포도도 나타내고 있다"
      ],
      "id": "-0zqyttZum9u"
    },
    {
      "cell_type": "markdown",
      "metadata": {
        "id": "NRH6kIUjvBVW"
      },
      "source": [
        "### 확률 모형"
      ],
      "id": "NRH6kIUjvBVW"
    },
    {
      "cell_type": "markdown",
      "metadata": {
        "id": "dWKFVbpmv0I5"
      },
      "source": [
        "무작위추출은 임의로 표본을 선택하는 것이므로, 매번 결과가 다르게 나온다  \n",
        "\n",
        "이런 불확정성을 수반한 현상을 해석하기 위해 `확률` 을 사용한다  \n",
        "\n",
        "확률을 사용한 무작위추출, 혹은 주사위를 모델링한 것을 `확률 모형` 이라고한다"
      ],
      "id": "dWKFVbpmv0I5"
    },
    {
      "cell_type": "markdown",
      "metadata": {
        "id": "LAPeIkCAxJOu"
      },
      "source": [
        "#### 확률의 기본"
      ],
      "id": "LAPeIkCAxJOu"
    },
    {
      "cell_type": "markdown",
      "metadata": {
        "id": "xEFQfzgsxMN2"
      },
      "source": [
        "결과를 알아맞힐 수는 없지만,  \n",
        "취하는 값과 그 값이 나올 확률이 결정되어 있는 것을 `확률 변수 (random variable)`  \n",
        "\n",
        "확률변수의 결과를 관측하는 것을 `시행 (trial)`  \n",
        "\n",
        "시행에 의해 관측되는 값을 `실현값 (realization)`  \n",
        "\n",
        "시행 결과로 나타날 수 있는 일 `사건 (event)`  \n",
        "\n",
        "더이상 세부적으로 분해할 수 없는 사건 `근원 사건 (elemetary event)`  \n",
        "\n",
        "각 사건이 동시에는 일어날 수 없다는 `상호배반 (mutually exclusive)`"
      ],
      "id": "xEFQfzgsxMN2"
    },
    {
      "cell_type": "markdown",
      "metadata": {
        "id": "muEG_CLkyUn9"
      },
      "source": [
        "#### 확률분포"
      ],
      "id": "muEG_CLkyUn9"
    },
    {
      "cell_type": "markdown",
      "metadata": {
        "id": "PGMpzslyyXNw"
      },
      "source": [
        "`확률분포` 란 확률변수가 어떻게 움직이는지를 나타낸것  \n",
        "\n",
        "전체 확률이 1인 확률변수가 취할 수 있는 값이 어떻게 분포하고 있는지 나타낸다"
      ],
      "id": "PGMpzslyyXNw"
    },
    {
      "cell_type": "code",
      "metadata": {
        "id": "L8JK6sHDyn4B"
      },
      "source": [
        "# 불공정한 주사위의 확률분포\n",
        "dice = [1,2,3,4,5,6]\n",
        "prob = [1/21, 2/21, 3/21, 4/21, 5/21, 6/21]"
      ],
      "id": "L8JK6sHDyn4B",
      "execution_count": null,
      "outputs": []
    },
    {
      "cell_type": "markdown",
      "metadata": {
        "id": "A0FlJTWMy0jA"
      },
      "source": [
        "확률변수를 사용할 때 np.random.choice 함수 사용이 가능하다  \n",
        "\n",
        "인수 `p` 에 prob을 넘겨주는것으로 각 확률을 지정한다"
      ],
      "id": "A0FlJTWMy0jA"
    },
    {
      "cell_type": "code",
      "metadata": {
        "colab": {
          "base_uri": "https://localhost:8080/"
        },
        "id": "y7IdKgoxzCXm",
        "outputId": "3bca9267-f529-4ba6-d6b1-94b16cb717a1"
      },
      "source": [
        "np.random.choice(dice, p=prob)"
      ],
      "id": "y7IdKgoxzCXm",
      "execution_count": null,
      "outputs": [
        {
          "output_type": "execute_result",
          "data": {
            "text/plain": [
              "5"
            ]
          },
          "metadata": {
            "tags": []
          },
          "execution_count": 23
        }
      ]
    },
    {
      "cell_type": "code",
      "metadata": {
        "colab": {
          "base_uri": "https://localhost:8080/"
        },
        "id": "NXynmrUGzLG2",
        "outputId": "a8bbc858-0431-4219-a529-154d0edfdd6b"
      },
      "source": [
        "# 100번 실행\n",
        "\n",
        "num_trial = 100\n",
        "sample = np.random.choice(dice, num_trial, p=prob)\n",
        "sample"
      ],
      "id": "NXynmrUGzLG2",
      "execution_count": null,
      "outputs": [
        {
          "output_type": "execute_result",
          "data": {
            "text/plain": [
              "array([2, 6, 4, 3, 5, 1, 6, 1, 5, 3, 6, 6, 3, 5, 5, 5, 3, 6, 4, 6, 5, 4,\n",
              "       6, 4, 6, 5, 6, 5, 6, 5, 6, 5, 4, 5, 1, 4, 5, 4, 5, 4, 2, 4, 5, 5,\n",
              "       5, 5, 5, 4, 6, 4, 4, 6, 6, 5, 2, 6, 5, 6, 3, 6, 3, 5, 2, 6, 6, 5,\n",
              "       4, 2, 5, 4, 6, 6, 6, 6, 1, 4, 6, 3, 5, 2, 3, 1, 6, 3, 4, 6, 5, 1,\n",
              "       3, 5, 5, 3, 6, 5, 5, 5, 6, 4, 4, 3])"
            ]
          },
          "metadata": {
            "tags": []
          },
          "execution_count": 24
        }
      ]
    },
    {
      "cell_type": "code",
      "metadata": {
        "colab": {
          "base_uri": "https://localhost:8080/",
          "height": 266
        },
        "id": "TFXv40FazY9I",
        "outputId": "b17e7264-a376-411d-b0a0-4b0ce775a7e5"
      },
      "source": [
        "# 도수분포표 작성\n",
        "\n",
        "freq, _ = np.histogram(sample, bins=6, range=(1,7))\n",
        "pd.DataFrame({'frequency':freq,\n",
        "              'relative frequency':freq / num_trial},\n",
        "             index = pd.Index(np.arange(1,7), name='dice'))"
      ],
      "id": "TFXv40FazY9I",
      "execution_count": null,
      "outputs": [
        {
          "output_type": "execute_result",
          "data": {
            "text/html": [
              "<div>\n",
              "<style scoped>\n",
              "    .dataframe tbody tr th:only-of-type {\n",
              "        vertical-align: middle;\n",
              "    }\n",
              "\n",
              "    .dataframe tbody tr th {\n",
              "        vertical-align: top;\n",
              "    }\n",
              "\n",
              "    .dataframe thead th {\n",
              "        text-align: right;\n",
              "    }\n",
              "</style>\n",
              "<table border=\"1\" class=\"dataframe\">\n",
              "  <thead>\n",
              "    <tr style=\"text-align: right;\">\n",
              "      <th></th>\n",
              "      <th>frequency</th>\n",
              "      <th>relative frequency</th>\n",
              "    </tr>\n",
              "    <tr>\n",
              "      <th>dice</th>\n",
              "      <th></th>\n",
              "      <th></th>\n",
              "    </tr>\n",
              "  </thead>\n",
              "  <tbody>\n",
              "    <tr>\n",
              "      <th>1</th>\n",
              "      <td>6</td>\n",
              "      <td>0.06</td>\n",
              "    </tr>\n",
              "    <tr>\n",
              "      <th>2</th>\n",
              "      <td>6</td>\n",
              "      <td>0.06</td>\n",
              "    </tr>\n",
              "    <tr>\n",
              "      <th>3</th>\n",
              "      <td>12</td>\n",
              "      <td>0.12</td>\n",
              "    </tr>\n",
              "    <tr>\n",
              "      <th>4</th>\n",
              "      <td>18</td>\n",
              "      <td>0.18</td>\n",
              "    </tr>\n",
              "    <tr>\n",
              "      <th>5</th>\n",
              "      <td>30</td>\n",
              "      <td>0.30</td>\n",
              "    </tr>\n",
              "    <tr>\n",
              "      <th>6</th>\n",
              "      <td>28</td>\n",
              "      <td>0.28</td>\n",
              "    </tr>\n",
              "  </tbody>\n",
              "</table>\n",
              "</div>"
            ],
            "text/plain": [
              "      frequency  relative frequency\n",
              "dice                               \n",
              "1             6                0.06\n",
              "2             6                0.06\n",
              "3            12                0.12\n",
              "4            18                0.18\n",
              "5            30                0.30\n",
              "6            28                0.28"
            ]
          },
          "metadata": {
            "tags": []
          },
          "execution_count": 26
        }
      ]
    },
    {
      "cell_type": "markdown",
      "metadata": {
        "id": "1S0fujhBz-Mr"
      },
      "source": [
        "각 눈이 나온 횟수와 비율을 알 수 있다"
      ],
      "id": "1S0fujhBz-Mr"
    },
    {
      "cell_type": "code",
      "metadata": {
        "colab": {
          "base_uri": "https://localhost:8080/",
          "height": 388
        },
        "id": "IUx5v9fM0yIU",
        "outputId": "f032a7b3-bfd3-49ae-fc23-cb6a3e94cfdb"
      },
      "source": [
        "# 히스토그램\n",
        "\n",
        "fig = plt.figure(figsize=(10, 6))\n",
        "ax = fig.add_subplot(111)\n",
        "ax.hist(sample, bins=6, range=(1,7), density=True, rwidth=0.8)\n",
        "# 실제의 확률분포를 가로선으로 표시\n",
        "ax.hlines(prob, np.arange(1, 7), np.arange(2,8),colors = 'gray')\n",
        "# 막대그래프의 [1.5, 2.5, ...., 6.5]에 눈금을 표시\n",
        "ax.set_xticks(np.linspace(1.5,6.5, 6))\n",
        "# 주사위의 눈 값은 [1,2,3,4,5,6]\n",
        "ax.set_xticklabels(np.arange(1, 7))\n",
        "ax.set_xlabel('dice')\n",
        "ax.set_ylabel('relative frequency')\n",
        "plt.show()"
      ],
      "id": "IUx5v9fM0yIU",
      "execution_count": null,
      "outputs": [
        {
          "output_type": "display_data",
          "data": {
            "image/png": "[encoded data removed]",
            "text/plain": [
              "<Figure size 720x432 with 1 Axes>"
            ]
          },
          "metadata": {
            "tags": [],
            "needs_background": "light"
          }
        }
      ]
    },
    {
      "cell_type": "code",
      "metadata": {
        "colab": {
          "base_uri": "https://localhost:8080/",
          "height": 392
        },
        "id": "ax8qD7xQ1uMj",
        "outputId": "8465a1f9-dc79-4b8c-e5ac-86de3748b664"
      },
      "source": [
        "# 시행횟수 10000번으로 늘려서 다시 실행\n",
        "num_trial = 10000\n",
        "sample = np.random.choice(dice, size=num_trial, p=prob)\n",
        "\n",
        "fig = plt.figure(figsize=(10, 6))\n",
        "ax = fig.add_subplot(111)\n",
        "ax.hist(sample, bins=6, range=(1,7), density=True, rwidth=0.8)\n",
        "ax.hlines(prob, np.arange(1, 7), np.arange(2,8),colors = 'gray')\n",
        "ax.set_xticks(np.linspace(1.5,6.5, 6))\n",
        "ax.set_xticklabels(np.arange(1, 7))\n",
        "ax.set_xlabel('dice')\n",
        "ax.set_ylabel('relative frequency')\n",
        "plt.show()"
      ],
      "id": "ax8qD7xQ1uMj",
      "execution_count": null,
      "outputs": [
        {
          "output_type": "display_data",
          "data": {
            "image/png": "[encoded data removed]",
            "text/plain": [
              "<Figure size 720x432 with 1 Axes>"
            ]
          },
          "metadata": {
            "tags": [],
            "needs_background": "light"
          }
        }
      ]
    },
    {
      "cell_type": "markdown",
      "metadata": {
        "id": "WFzTQEhn2Bxd"
      },
      "source": [
        "상대도수가 실제 확률분포에 가까워졌다  \n",
        "\n",
        "시행횟수를 늘림면 상대도수는 확률분포로 수렴되어 간다"
      ],
      "id": "WFzTQEhn2Bxd"
    },
    {
      "cell_type": "markdown",
      "metadata": {
        "id": "OjBNi1Yx3o0U"
      },
      "source": [
        "### 추측통계의 확률"
      ],
      "id": "OjBNi1Yx3o0U"
    },
    {
      "cell_type": "code",
      "metadata": {
        "id": "AWeyM5q03rLv"
      },
      "source": [
        ""
      ],
      "id": "AWeyM5q03rLv",
      "execution_count": null,
      "outputs": []
    }
  ]
}