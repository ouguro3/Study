{
  "nbformat": 4,
  "nbformat_minor": 0,
  "metadata": {
    "colab": {
      "name": "04_discrete_random_variable.ipynb",
      "provenance": [],
      "collapsed_sections": [],
      "authorship_tag": "ABX9TyMI2EnhGLIKmJcbp8zvPQtw",
      "include_colab_link": true
    },
    "kernelspec": {
      "name": "python3",
      "display_name": "Python 3"
    },
    "language_info": {
      "name": "python"
    }
  },
  "cells": [
    {
      "cell_type": "markdown",
      "metadata": {
        "id": "view-in-github",
        "colab_type": "text"
      },
      "source": [
        "<a href=\"https://colab.research.google.com/github/ouguro3/Study/blob/main/Python_Statistical_Analysis/04_discrete_random_variable.ipynb\" target=\"_parent\"><img src=\"https://colab.research.google.com/assets/colab-badge.svg\" alt=\"Open In Colab\"/></a>"
      ]
    },
    {
      "cell_type": "markdown",
      "metadata": {
        "id": "BB0JBXdFMIOs"
      },
      "source": [
        "## 이산형 확률변수"
      ]
    },
    {
      "cell_type": "markdown",
      "metadata": {
        "id": "ZnWvZMvtOMM6"
      },
      "source": [
        "### 1차원 이산형 확률변수"
      ]
    },
    {
      "cell_type": "markdown",
      "metadata": {
        "id": "209PVffdPPgF"
      },
      "source": [
        "**이산형 확률변수 : 취할 수 있는 값이 이산적인 확률변수**  \n",
        "\n",
        "**취할 수 있는 값이 이산적이다 = 정수**  "
      ]
    },
    {
      "cell_type": "code",
      "metadata": {
        "id": "Evg1SOWiL8G5"
      },
      "source": [
        "import numpy as np\n",
        "import matplotlib.pyplot as plt\n",
        "\n",
        "%precision 3\n",
        "%matplotlib inline"
      ],
      "execution_count": 1,
      "outputs": []
    },
    {
      "cell_type": "markdown",
      "metadata": {
        "id": "IhPL8Ei2P5lI"
      },
      "source": [
        "#### 1차원 이산형 확률변수의 정의"
      ]
    },
    {
      "cell_type": "markdown",
      "metadata": {
        "id": "Cwfv3GohQFN5"
      },
      "source": [
        "확률변수는 변수가 취할 수 있는 값과 그 값이 나오는 확률에 의해 정의된다  \n",
        "\n",
        "이때 확률은 변수가 취할 수 있는 값 x 를 인수로 하는 함수로 볼 수 있기 때문에,  \n",
        "`f(x) = P(X = x)` 로 하는 함수 f(x)를 생각할 수 있고, 이를 `확률질량함수` 또는 `확률함수` 라고 부른다  \n",
        "\n",
        "확률변수가 취할 수 있는 값과 그 확률의 구체적인 대응을 `확률분포` 라고 한다\n",
        "\n",
        "따라서 확률변수의 확률분포가 결정되면 그 확률변수의 움직임이 정해진다 "
      ]
    },
    {
      "cell_type": "code",
      "metadata": {
        "id": "OCjoZfeD2YBD"
      },
      "source": [
        "# 불공정한 주사위를 예시로 파이썬으로 확인\n",
        "x_set = np.array([1,2,3,4,5,6])"
      ],
      "execution_count": 2,
      "outputs": []
    },
    {
      "cell_type": "markdown",
      "metadata": {
        "id": "mwRf029I2wf7"
      },
      "source": [
        "불공정한 주사위의 확률분포  \n",
        "\n",
        "|눈|1|2|3|4|5|6|\n",
        "|--|--|--|--|--|--|--|\n",
        "|확률|1/21|2/21|3/21|4/21|5/21|6/21|"
      ]
    },
    {
      "cell_type": "code",
      "metadata": {
        "id": "bErBdiq03aUn"
      },
      "source": [
        "def f(x):\n",
        "  if x in x_set:\n",
        "    return x/21\n",
        "  else:\n",
        "    return 0"
      ],
      "execution_count": 3,
      "outputs": []
    },
    {
      "cell_type": "code",
      "metadata": {
        "id": "7PY0RAT-3i9M"
      },
      "source": [
        "# X 는 x_set 과 f 를 요소로 하는 리스트로 구현한다\n",
        "X = [x_set, f]"
      ],
      "execution_count": 30,
      "outputs": []
    },
    {
      "cell_type": "code",
      "metadata": {
        "colab": {
          "base_uri": "https://localhost:8080/"
        },
        "id": "Cvn0qTso3zWs",
        "outputId": "ea209878-9c21-40f4-a20b-ae2514fc5b92"
      },
      "source": [
        "# 확률 p_k를 구한다\n",
        "prob = np.array([f(x_k) for x_k in x_set])\n",
        "# x_k와 p_k의 대응을 사전식으로 표시\n",
        "dict(zip(x_set, prob))"
      ],
      "execution_count": 4,
      "outputs": [
        {
          "output_type": "execute_result",
          "data": {
            "text/plain": [
              "{1: 0.048, 2: 0.095, 3: 0.143, 4: 0.190, 5: 0.238, 6: 0.286}"
            ]
          },
          "metadata": {
            "tags": []
          },
          "execution_count": 4
        }
      ]
    },
    {
      "cell_type": "code",
      "metadata": {
        "colab": {
          "base_uri": "https://localhost:8080/",
          "height": 392
        },
        "id": "t5V6c0MH4XaK",
        "outputId": "1ffd1286-db7b-43a8-f66d-65b27576996c"
      },
      "source": [
        "# 그래프로 표현\n",
        "fig = plt.figure(figsize=(10,6))\n",
        "ax = fig.add_subplot(111)\n",
        "ax.bar(x_set, prob)\n",
        "ax.set_xlabel('value')\n",
        "ax.set_ylabel(' probability')\n",
        "\n",
        "plt.show()"
      ],
      "execution_count": 5,
      "outputs": [
        {
          "output_type": "display_data",
          "data": {
            "image/png": "[encoded data removed]",
            "text/plain": [
              "<Figure size 720x432 with 1 Axes>"
            ]
          },
          "metadata": {
            "tags": [],
            "needs_background": "light"
          }
        }
      ]
    },
    {
      "cell_type": "markdown",
      "metadata": {
        "id": "ZsbRMvrC5b55"
      },
      "source": [
        "**확률의 성질**"
      ]
    },
    {
      "cell_type": "markdown",
      "metadata": {
        "id": "CVpojL7E5ihm"
      },
      "source": [
        "확률은 절대적으로 0 이상으로, 모든 확률을 더하면 1이 되어야한다  \n",
        "\n",
        "확률이 모두 0 이상인지는 np.all 함수를 사용하면 확인할 수 있다  \n",
        "\n",
        "np.all은 모든요소가 참일 때만 참을 반환한다"
      ]
    },
    {
      "cell_type": "code",
      "metadata": {
        "colab": {
          "base_uri": "https://localhost:8080/"
        },
        "id": "QD6uhkxM5xMF",
        "outputId": "0e745993-570d-45f0-c284-a562bd64e974"
      },
      "source": [
        "np.all(prob >= 0)"
      ],
      "execution_count": 6,
      "outputs": [
        {
          "output_type": "execute_result",
          "data": {
            "text/plain": [
              "True"
            ]
          },
          "metadata": {
            "tags": []
          },
          "execution_count": 6
        }
      ]
    },
    {
      "cell_type": "code",
      "metadata": {
        "colab": {
          "base_uri": "https://localhost:8080/"
        },
        "id": "G0uj1yJ051N7",
        "outputId": "01f521b7-995e-4ed4-f70e-0cd3f949ad71"
      },
      "source": [
        "# 확률의 총합 확인 (1이 되어야한다)\n",
        "np.sum(prob)"
      ],
      "execution_count": 7,
      "outputs": [
        {
          "output_type": "execute_result",
          "data": {
            "text/plain": [
              "1.000"
            ]
          },
          "metadata": {
            "tags": []
          },
          "execution_count": 7
        }
      ]
    },
    {
      "cell_type": "markdown",
      "metadata": {
        "id": "1Tzv3rIx6Geg"
      },
      "source": [
        "**누적분포함수**"
      ]
    },
    {
      "cell_type": "markdown",
      "metadata": {
        "id": "g7CLm-097iMu"
      },
      "source": [
        "확률함수는 확률변수 X가 x가 될 때의 확률을 반환하는 함수지만,  \n",
        "확률변수 X가 x 이하가 될때의 확률을 반환하는 함수로도 자주 사용된다  \n",
        "\n",
        "이와같은 함수 F(x)를 `누적분포함수` 또는 `분포함수` 라 한다"
      ]
    },
    {
      "cell_type": "code",
      "metadata": {
        "id": "dBJHinws70y_"
      },
      "source": [
        "def F(x):\n",
        "  return np.sum([f(x_k) for x_k in x_set if x_k <= x])"
      ],
      "execution_count": 8,
      "outputs": []
    },
    {
      "cell_type": "code",
      "metadata": {
        "colab": {
          "base_uri": "https://localhost:8080/"
        },
        "id": "SHcMq20E7_jB",
        "outputId": "b5cd9e58-a2fe-4fcc-db9e-cad339342508"
      },
      "source": [
        "F(3)"
      ],
      "execution_count": 9,
      "outputs": [
        {
          "output_type": "execute_result",
          "data": {
            "text/plain": [
              "0.286"
            ]
          },
          "metadata": {
            "tags": []
          },
          "execution_count": 9
        }
      ]
    },
    {
      "cell_type": "markdown",
      "metadata": {
        "id": "KrXpX11j8qT9"
      },
      "source": [
        "**확률변수의 변환**"
      ]
    },
    {
      "cell_type": "markdown",
      "metadata": {
        "id": "hTEyCMm88zJ5"
      },
      "source": [
        "확률변수의 변환이란 확률변수 X에 2를 곱하고 3을 더한 2X + 3과 같은 것으로,  \n",
        "확률변수를 표준화할 때 중요한 연산이다  \n",
        "\n",
        "2X + 3 을 확률변수 Y라고 하면, Y의 확률분포는 다음과 같다"
      ]
    },
    {
      "cell_type": "code",
      "metadata": {
        "colab": {
          "base_uri": "https://localhost:8080/"
        },
        "id": "3c98IygN9MMz",
        "outputId": "6f1ecc6a-f72e-4edc-cbcc-0fb3762512aa"
      },
      "source": [
        "y_set = np.array([2 * x_k + 3 for x_k in x_set])\n",
        "prob = np.array([f(x_k) for x_k in x_set])\n",
        "dict(zip(y_set, prob))"
      ],
      "execution_count": 10,
      "outputs": [
        {
          "output_type": "execute_result",
          "data": {
            "text/plain": [
              "{5: 0.048, 7: 0.095, 9: 0.143, 11: 0.190, 13: 0.238, 15: 0.286}"
            ]
          },
          "metadata": {
            "tags": []
          },
          "execution_count": 10
        }
      ]
    },
    {
      "cell_type": "markdown",
      "metadata": {
        "id": "CWVppCUI92hU"
      },
      "source": [
        "#### 1차원 이산형 확률변수의 지표"
      ]
    },
    {
      "cell_type": "markdown",
      "metadata": {
        "id": "mSk2r7Hf97_y"
      },
      "source": [
        "**기댓값**"
      ]
    },
    {
      "cell_type": "markdown",
      "metadata": {
        "id": "6pC7JWFk-ClK"
      },
      "source": [
        "확률변수의 평균은 `기댓값` 이라고도 부른다  \n",
        "\n",
        "기호로는 μ(뮤), 나 E(X) 라는 표기를 주로 사용한다"
      ]
    },
    {
      "cell_type": "code",
      "metadata": {
        "colab": {
          "base_uri": "https://localhost:8080/"
        },
        "id": "9sql9Vt4-d_R",
        "outputId": "c6261d42-8c1a-4041-d5e5-f74ff4d1d451"
      },
      "source": [
        "# 불공정한 주사위의 기댓값\n",
        "np.sum([x_k * f(x_k) for x_k in x_set])"
      ],
      "execution_count": 11,
      "outputs": [
        {
          "output_type": "execute_result",
          "data": {
            "text/plain": [
              "4.333"
            ]
          },
          "metadata": {
            "tags": []
          },
          "execution_count": 11
        }
      ]
    },
    {
      "cell_type": "markdown",
      "metadata": {
        "id": "8XUEHjWN-9I_"
      },
      "source": [
        "확률변수의 기댓값은 확률변수를 무제한 시행하여 얻는 실현값의 평균이다  \n",
        "무제한은 무리지만 주사위를 100만번 굴려보면"
      ]
    },
    {
      "cell_type": "code",
      "metadata": {
        "colab": {
          "base_uri": "https://localhost:8080/"
        },
        "id": "hH1Lp203_ITl",
        "outputId": "277585e8-affe-49d0-9a5f-ce344c37fdd7"
      },
      "source": [
        "sample = np.random.choice(x_set, int(1e6), p=prob)\n",
        "np.mean(sample)"
      ],
      "execution_count": 16,
      "outputs": [
        {
          "output_type": "execute_result",
          "data": {
            "text/plain": [
              "4.333"
            ]
          },
          "metadata": {
            "tags": []
          },
          "execution_count": 16
        }
      ]
    },
    {
      "cell_type": "markdown",
      "metadata": {
        "id": "abLCqHmh_Z-h"
      },
      "source": [
        "기댓값과 일치하는데 이는 확률변수의 분산이나 공분산도 마찬가지다"
      ]
    },
    {
      "cell_type": "markdown",
      "metadata": {
        "id": "sZ-aYFarAapb"
      },
      "source": [
        "변환한 확률변수도 확률변수이다  \n",
        "그렇다면 변환한 확률변수의 기댓값도 생각해볼 수 있다  \n",
        "\n",
        "예를들면 확률변수 X를 `2X + 3` 으로 변환한 확률변수 Y의 기댓값에 대해 생각해보면  \n"
      ]
    },
    {
      "cell_type": "markdown",
      "metadata": {
        "id": "hp0I4B69BFZ7"
      },
      "source": [
        "$$E(Y) = E(2X + 3) = \\sum_{k}(2x_k + 3)f(x_k)$$"
      ]
    },
    {
      "cell_type": "markdown",
      "metadata": {
        "id": "xF33yr7YJqlj"
      },
      "source": [
        "이런 식으로 정의된다  \n",
        "\n",
        "더 일반화하면, 확률변수 X의 함수 g(X)의 기댓값을 정의할 수 있다  \n",
        "\n",
        "이 수식을 기댓값의 함수로 구현해보면 아래와 같다"
      ]
    },
    {
      "cell_type": "code",
      "metadata": {
        "id": "fmH7ySoXKNvO"
      },
      "source": [
        "def E(X, g=lambda x: x):\n",
        "  x_set, f = X\n",
        "  return np.sum([g(x_k) * f(x_k) for x_k in x_set])"
      ],
      "execution_count": 22,
      "outputs": []
    },
    {
      "cell_type": "markdown",
      "metadata": {
        "id": "qD6ERRbpKloe"
      },
      "source": [
        "g에 아무것도 지정하지 않으면 확률변수 X의 기댓값이 구해진다"
      ]
    },
    {
      "cell_type": "code",
      "metadata": {
        "colab": {
          "base_uri": "https://localhost:8080/"
        },
        "id": "S5OB-o1SKqQ0",
        "outputId": "e536ea73-9376-4a5c-a639-9d21e3c2c1e3"
      },
      "source": [
        "E(X)"
      ],
      "execution_count": 31,
      "outputs": [
        {
          "output_type": "execute_result",
          "data": {
            "text/plain": [
              "4.333"
            ]
          },
          "metadata": {
            "tags": []
          },
          "execution_count": 31
        }
      ]
    },
    {
      "cell_type": "markdown",
      "metadata": {
        "id": "CSVySQQmONSF"
      },
      "source": [
        "확률변수 Y = 2X + 3의 기댓값은 다음과 같이 계산할 수 있다"
      ]
    },
    {
      "cell_type": "code",
      "metadata": {
        "colab": {
          "base_uri": "https://localhost:8080/"
        },
        "id": "3VhoMitrOTm-",
        "outputId": "a88d1e0d-2a38-4fcc-d86f-31b743a93f71"
      },
      "source": [
        "E(X, g=lambda x: 2*x + 3)"
      ],
      "execution_count": 32,
      "outputs": [
        {
          "output_type": "execute_result",
          "data": {
            "text/plain": [
              "11.667"
            ]
          },
          "metadata": {
            "tags": []
          },
          "execution_count": 32
        }
      ]
    },
    {
      "cell_type": "markdown",
      "metadata": {
        "id": "deNfrh6wOyqw"
      },
      "source": [
        "기댓값에는 선형성이라는 성질이 있는데,  이 성질을 사용하여 aX + b와 같이  \n",
        "변환한 확률변수의 기댓값을 X의 기댓값으로 구할 수 있다"
      ]
    },
    {
      "cell_type": "markdown",
      "metadata": {
        "id": "p_4Yz9DEO7Jm"
      },
      "source": [
        "기댓값의 선형성\n",
        "___\n",
        "a,b를 실수, X를 확률변수로 했을 때\n",
        "$$E(aX + b) = aE(X) + b$$\n",
        "가 성립한다"
      ]
    },
    {
      "cell_type": "code",
      "metadata": {
        "colab": {
          "base_uri": "https://localhost:8080/"
        },
        "id": "zhLCmq9LPMs6",
        "outputId": "9fb483c2-e91c-4fd7-cb4f-0e899ff555c1"
      },
      "source": [
        "# 확인 \n",
        "2 * E(X) + 3"
      ],
      "execution_count": 33,
      "outputs": [
        {
          "output_type": "execute_result",
          "data": {
            "text/plain": [
              "11.667"
            ]
          },
          "metadata": {
            "tags": []
          },
          "execution_count": 33
        }
      ]
    }
  ]
}