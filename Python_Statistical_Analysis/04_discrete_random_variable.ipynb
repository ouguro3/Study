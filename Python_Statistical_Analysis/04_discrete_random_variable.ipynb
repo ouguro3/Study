{
  "nbformat": 4,
  "nbformat_minor": 0,
  "metadata": {
    "colab": {
      "name": "04_discrete_random_variable.ipynb",
      "provenance": [],
      "collapsed_sections": [],
      "authorship_tag": "ABX9TyNWVeTyLiD0ITyV/1S1zBLv",
      "include_colab_link": true
    },
    "kernelspec": {
      "name": "python3",
      "display_name": "Python 3"
    },
    "language_info": {
      "name": "python"
    }
  },
  "cells": [
    {
      "cell_type": "markdown",
      "metadata": {
        "id": "view-in-github",
        "colab_type": "text"
      },
      "source": [
        "<a href=\"https://colab.research.google.com/github/ouguro3/Study/blob/main/Python_Statistical_Analysis/04_discrete_random_variable.ipynb\" target=\"_parent\"><img src=\"https://colab.research.google.com/assets/colab-badge.svg\" alt=\"Open In Colab\"/></a>"
      ]
    },
    {
      "cell_type": "markdown",
      "metadata": {
        "id": "BB0JBXdFMIOs"
      },
      "source": [
        "## 이산형 확률 변수"
      ]
    },
    {
      "cell_type": "code",
      "metadata": {
        "id": "Evg1SOWiL8G5"
      },
      "source": [
        ""
      ],
      "execution_count": null,
      "outputs": []
    }
  ]
}