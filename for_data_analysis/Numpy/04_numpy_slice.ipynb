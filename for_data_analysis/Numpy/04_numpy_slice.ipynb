{
  "nbformat": 4,
  "nbformat_minor": 0,
  "metadata": {
    "colab": {
      "name": "04_numpy_slice.ipynb",
      "provenance": []
    },
    "kernelspec": {
      "name": "python3",
      "display_name": "Python 3"
    },
    "language_info": {
      "name": "python"
    }
  },
  "cells": [
    {
      "cell_type": "markdown",
      "metadata": {
        "id": "31Pr4e7KcLXv"
      },
      "source": [
        "## 배열 슬라이싱"
      ]
    },
    {
      "cell_type": "code",
      "metadata": {
        "id": "jLUWeQDdbq5f"
      },
      "source": [
        "import numpy as np"
      ],
      "execution_count": 1,
      "outputs": []
    },
    {
      "cell_type": "markdown",
      "metadata": {
        "id": "eiDhgeAocho9"
      },
      "source": [
        "배열 [시작_위치 : 끝_위치]"
      ]
    },
    {
      "cell_type": "code",
      "metadata": {
        "colab": {
          "base_uri": "https://localhost:8080/"
        },
        "id": "CW56km-EcWtD",
        "outputId": "a34b7831-970a-478c-a877-46654a2c914f"
      },
      "source": [
        "b1 = np.array([0,10,20,30,40,50])\n",
        "b1"
      ],
      "execution_count": 3,
      "outputs": [
        {
          "output_type": "execute_result",
          "data": {
            "text/plain": [
              "array([ 0, 10, 20, 30, 40, 50])"
            ]
          },
          "metadata": {
            "tags": []
          },
          "execution_count": 3
        }
      ]
    },
    {
      "cell_type": "code",
      "metadata": {
        "colab": {
          "base_uri": "https://localhost:8080/"
        },
        "id": "F8j7FI6Kca7n",
        "outputId": "34dc3b50-354a-4011-c592-2e1dc6d91b3d"
      },
      "source": [
        "b1[1:4]"
      ],
      "execution_count": 4,
      "outputs": [
        {
          "output_type": "execute_result",
          "data": {
            "text/plain": [
              "array([10, 20, 30])"
            ]
          },
          "metadata": {
            "tags": []
          },
          "execution_count": 4
        }
      ]
    },
    {
      "cell_type": "code",
      "metadata": {
        "colab": {
          "base_uri": "https://localhost:8080/"
        },
        "id": "Mgg-7kSwceUA",
        "outputId": "d7359ec0-6c06-433c-f1e9-7df3c2af61a9"
      },
      "source": [
        "b1[:3]"
      ],
      "execution_count": 5,
      "outputs": [
        {
          "output_type": "execute_result",
          "data": {
            "text/plain": [
              "array([ 0, 10, 20])"
            ]
          },
          "metadata": {
            "tags": []
          },
          "execution_count": 5
        }
      ]
    },
    {
      "cell_type": "code",
      "metadata": {
        "colab": {
          "base_uri": "https://localhost:8080/"
        },
        "id": "7vqrXHGOcnuE",
        "outputId": "1121d748-68c0-4792-a707-9681671e8239"
      },
      "source": [
        "b1[2:]"
      ],
      "execution_count": 6,
      "outputs": [
        {
          "output_type": "execute_result",
          "data": {
            "text/plain": [
              "array([20, 30, 40, 50])"
            ]
          },
          "metadata": {
            "tags": []
          },
          "execution_count": 6
        }
      ]
    },
    {
      "cell_type": "markdown",
      "metadata": {
        "id": "Ivckkl86cr7e"
      },
      "source": [
        "### 원소 변경"
      ]
    },
    {
      "cell_type": "code",
      "metadata": {
        "colab": {
          "base_uri": "https://localhost:8080/"
        },
        "id": "LRInB2yZcwNP",
        "outputId": "ea41b0e1-2102-4036-85d4-0e20a13a83df"
      },
      "source": [
        "b1[2:5] = np.array([25,35,45])\n",
        "b1"
      ],
      "execution_count": 8,
      "outputs": [
        {
          "output_type": "execute_result",
          "data": {
            "text/plain": [
              "array([ 0, 10, 25, 35, 45, 50])"
            ]
          },
          "metadata": {
            "tags": []
          },
          "execution_count": 8
        }
      ]
    },
    {
      "cell_type": "code",
      "metadata": {
        "colab": {
          "base_uri": "https://localhost:8080/"
        },
        "id": "-KUnLarbc7O4",
        "outputId": "418a77a8-a49c-48e1-a49e-fac7ad46050b"
      },
      "source": [
        "b1[3:6] = 60\n",
        "b1"
      ],
      "execution_count": 9,
      "outputs": [
        {
          "output_type": "execute_result",
          "data": {
            "text/plain": [
              "array([ 0, 10, 25, 60, 60, 60])"
            ]
          },
          "metadata": {
            "tags": []
          },
          "execution_count": 9
        }
      ]
    },
    {
      "cell_type": "markdown",
      "metadata": {
        "id": "4NvtWLxhcvSC"
      },
      "source": [
        "### 2차원 배열의 슬라이싱"
      ]
    },
    {
      "cell_type": "code",
      "metadata": {
        "colab": {
          "base_uri": "https://localhost:8080/"
        },
        "id": "VO9_E8UtdCAs",
        "outputId": "2dd0e819-2160-40e7-f0f8-549d01f0a674"
      },
      "source": [
        "b2 = np.arange(10,100,10).reshape(3,3)\n",
        "b2"
      ],
      "execution_count": 10,
      "outputs": [
        {
          "output_type": "execute_result",
          "data": {
            "text/plain": [
              "array([[10, 20, 30],\n",
              "       [40, 50, 60],\n",
              "       [70, 80, 90]])"
            ]
          },
          "metadata": {
            "tags": []
          },
          "execution_count": 10
        }
      ]
    },
    {
      "cell_type": "code",
      "metadata": {
        "colab": {
          "base_uri": "https://localhost:8080/"
        },
        "id": "uqZSnqm3dJO3",
        "outputId": "e9b3cd3f-3887-4b41-9b26-a31d5812d1e3"
      },
      "source": [
        "b2[1:3,1:3]"
      ],
      "execution_count": 11,
      "outputs": [
        {
          "output_type": "execute_result",
          "data": {
            "text/plain": [
              "array([[50, 60],\n",
              "       [80, 90]])"
            ]
          },
          "metadata": {
            "tags": []
          },
          "execution_count": 11
        }
      ]
    },
    {
      "cell_type": "code",
      "metadata": {
        "colab": {
          "base_uri": "https://localhost:8080/"
        },
        "id": "ceNCygITdQVG",
        "outputId": "893c8492-881d-4e9a-c456-c203066029f2"
      },
      "source": [
        "b2[:3,1:]"
      ],
      "execution_count": 12,
      "outputs": [
        {
          "output_type": "execute_result",
          "data": {
            "text/plain": [
              "array([[20, 30],\n",
              "       [50, 60],\n",
              "       [80, 90]])"
            ]
          },
          "metadata": {
            "tags": []
          },
          "execution_count": 12
        }
      ]
    },
    {
      "cell_type": "markdown",
      "metadata": {
        "id": "yPla9uj5dYIt"
      },
      "source": [
        "**행 지정 열 슬라이싱**"
      ]
    },
    {
      "cell_type": "code",
      "metadata": {
        "colab": {
          "base_uri": "https://localhost:8080/"
        },
        "id": "xhonKjX4dW4x",
        "outputId": "c97ad35e-32b5-4b96-8ab6-1414cf91daec"
      },
      "source": [
        "b2[1][0:2]"
      ],
      "execution_count": 13,
      "outputs": [
        {
          "output_type": "execute_result",
          "data": {
            "text/plain": [
              "array([40, 50])"
            ]
          },
          "metadata": {
            "tags": []
          },
          "execution_count": 13
        }
      ]
    },
    {
      "cell_type": "markdown",
      "metadata": {
        "id": "U7jiiqmRdgIo"
      },
      "source": [
        "**슬라이싱 된 배열에 값 지정**"
      ]
    },
    {
      "cell_type": "code",
      "metadata": {
        "colab": {
          "base_uri": "https://localhost:8080/"
        },
        "id": "stKy2UKgdijQ",
        "outputId": "91e7024c-5fa1-407b-80fc-4efeac2422ba"
      },
      "source": [
        "b2[0:2, 1:3] = np.array([[25,35],[55,65]])\n",
        "b2"
      ],
      "execution_count": 14,
      "outputs": [
        {
          "output_type": "execute_result",
          "data": {
            "text/plain": [
              "array([[10, 25, 35],\n",
              "       [40, 55, 65],\n",
              "       [70, 80, 90]])"
            ]
          },
          "metadata": {
            "tags": []
          },
          "execution_count": 14
        }
      ]
    }
  ]
}