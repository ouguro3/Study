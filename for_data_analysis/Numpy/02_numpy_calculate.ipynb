{
  "nbformat": 4,
  "nbformat_minor": 0,
  "metadata": {
    "colab": {
      "name": "02_numpy_calculate.ipynb",
      "provenance": []
    },
    "kernelspec": {
      "name": "python3",
      "display_name": "Python 3"
    },
    "language_info": {
      "name": "python"
    }
  },
  "cells": [
    {
      "cell_type": "markdown",
      "metadata": {
        "id": "xutFGwqIV43a"
      },
      "source": [
        "## numpy 연산"
      ]
    },
    {
      "cell_type": "code",
      "metadata": {
        "id": "IXUPgh6MVRxK"
      },
      "source": [
        "import numpy  as np"
      ],
      "execution_count": 2,
      "outputs": []
    },
    {
      "cell_type": "code",
      "metadata": {
        "id": "MDBvd3JXW8U2"
      },
      "source": [
        "arr1 = np.array([10,20,30,40])\n",
        "arr2 = np.array([1,2,3,4])"
      ],
      "execution_count": 3,
      "outputs": []
    },
    {
      "cell_type": "markdown",
      "metadata": {
        "id": "ECLjbdQQW-qd"
      },
      "source": [
        "___\n",
        "### 기본 연산"
      ]
    },
    {
      "cell_type": "code",
      "metadata": {
        "colab": {
          "base_uri": "https://localhost:8080/"
        },
        "id": "fPR4nPOCXClY",
        "outputId": "7f82986d-2d49-435d-d18d-82f2d526e6db"
      },
      "source": [
        "arr1 + arr2"
      ],
      "execution_count": 4,
      "outputs": [
        {
          "output_type": "execute_result",
          "data": {
            "text/plain": [
              "array([11, 22, 33, 44])"
            ]
          },
          "metadata": {
            "tags": []
          },
          "execution_count": 4
        }
      ]
    },
    {
      "cell_type": "code",
      "metadata": {
        "colab": {
          "base_uri": "https://localhost:8080/"
        },
        "id": "OZrlEWUcXHDA",
        "outputId": "aeeed122-d500-4189-8f96-38da6296468b"
      },
      "source": [
        "arr1 - arr2"
      ],
      "execution_count": 7,
      "outputs": [
        {
          "output_type": "execute_result",
          "data": {
            "text/plain": [
              "array([ 9, 18, 27, 36])"
            ]
          },
          "metadata": {
            "tags": []
          },
          "execution_count": 7
        }
      ]
    },
    {
      "cell_type": "code",
      "metadata": {
        "colab": {
          "base_uri": "https://localhost:8080/"
        },
        "id": "BAqO98MEXG84",
        "outputId": "a9fbb42d-e669-4ad1-a1ef-b742ba751c35"
      },
      "source": [
        "arr2 * 2"
      ],
      "execution_count": 6,
      "outputs": [
        {
          "output_type": "execute_result",
          "data": {
            "text/plain": [
              "array([2, 4, 6, 8])"
            ]
          },
          "metadata": {
            "tags": []
          },
          "execution_count": 6
        }
      ]
    },
    {
      "cell_type": "code",
      "metadata": {
        "colab": {
          "base_uri": "https://localhost:8080/"
        },
        "id": "PMNl2EaOXGVv",
        "outputId": "b8622ab5-5111-48eb-83b9-53f69d9b72a3"
      },
      "source": [
        "arr2 ** 2"
      ],
      "execution_count": 8,
      "outputs": [
        {
          "output_type": "execute_result",
          "data": {
            "text/plain": [
              "array([ 1,  4,  9, 16])"
            ]
          },
          "metadata": {
            "tags": []
          },
          "execution_count": 8
        }
      ]
    },
    {
      "cell_type": "code",
      "metadata": {
        "colab": {
          "base_uri": "https://localhost:8080/"
        },
        "id": "ufF_dLXvXF_8",
        "outputId": "b6403e30-407f-4b74-a5cb-932e3abc77ee"
      },
      "source": [
        "arr1 * arr2"
      ],
      "execution_count": 9,
      "outputs": [
        {
          "output_type": "execute_result",
          "data": {
            "text/plain": [
              "array([ 10,  40,  90, 160])"
            ]
          },
          "metadata": {
            "tags": []
          },
          "execution_count": 9
        }
      ]
    },
    {
      "cell_type": "code",
      "metadata": {
        "colab": {
          "base_uri": "https://localhost:8080/"
        },
        "id": "-3k2SBAzXF1O",
        "outputId": "0dd8bd56-8fa4-41da-b597-327676b8748a"
      },
      "source": [
        "arr1 / arr2"
      ],
      "execution_count": 10,
      "outputs": [
        {
          "output_type": "execute_result",
          "data": {
            "text/plain": [
              "array([10., 10., 10., 10.])"
            ]
          },
          "metadata": {
            "tags": []
          },
          "execution_count": 10
        }
      ]
    },
    {
      "cell_type": "markdown",
      "metadata": {
        "id": "Te8vPq95XYOm"
      },
      "source": [
        "**크기를 비교해 참 거짓으로 반환도 가능**"
      ]
    },
    {
      "cell_type": "code",
      "metadata": {
        "colab": {
          "base_uri": "https://localhost:8080/"
        },
        "id": "Dy9i41qRXe1l",
        "outputId": "0832c5e1-03c4-47db-e277-101b7a53d8f0"
      },
      "source": [
        "arr1 > 20"
      ],
      "execution_count": 11,
      "outputs": [
        {
          "output_type": "execute_result",
          "data": {
            "text/plain": [
              "array([False, False,  True,  True])"
            ]
          },
          "metadata": {
            "tags": []
          },
          "execution_count": 11
        }
      ]
    },
    {
      "cell_type": "markdown",
      "metadata": {
        "id": "_LRLLg-bXhtN"
      },
      "source": [
        "___\n",
        "### 통계를 위한 연산"
      ]
    },
    {
      "cell_type": "code",
      "metadata": {
        "colab": {
          "base_uri": "https://localhost:8080/"
        },
        "id": "Nl_MNSD8XkAK",
        "outputId": "6b8ebdf4-fa5b-4146-95f0-abd7d9bf3dde"
      },
      "source": [
        "arr3 = np.arange(5)\n",
        "arr3"
      ],
      "execution_count": 14,
      "outputs": [
        {
          "output_type": "execute_result",
          "data": {
            "text/plain": [
              "array([0, 1, 2, 3, 4])"
            ]
          },
          "metadata": {
            "tags": []
          },
          "execution_count": 14
        }
      ]
    },
    {
      "cell_type": "markdown",
      "metadata": {
        "id": "X3m4u5G4Xqw2"
      },
      "source": [
        "#### 배열의 합, 평균"
      ]
    },
    {
      "cell_type": "code",
      "metadata": {
        "colab": {
          "base_uri": "https://localhost:8080/"
        },
        "id": "MXZ9vW8YXtqR",
        "outputId": "7c685d3d-93d0-46d2-b57f-d5b3ece15652"
      },
      "source": [
        "[arr3.sum(), arr3.mean()]"
      ],
      "execution_count": 15,
      "outputs": [
        {
          "output_type": "execute_result",
          "data": {
            "text/plain": [
              "[10, 2.0]"
            ]
          },
          "metadata": {
            "tags": []
          },
          "execution_count": 15
        }
      ]
    },
    {
      "cell_type": "markdown",
      "metadata": {
        "id": "vC0Te6DkX50U"
      },
      "source": [
        "#### 표준편차, 분산"
      ]
    },
    {
      "cell_type": "code",
      "metadata": {
        "colab": {
          "base_uri": "https://localhost:8080/"
        },
        "id": "QCUqB8uDX8ld",
        "outputId": "d6517304-87e6-45ae-aeb7-ac5c85ab90ab"
      },
      "source": [
        "[arr3.std(), arr3.var()]"
      ],
      "execution_count": 16,
      "outputs": [
        {
          "output_type": "execute_result",
          "data": {
            "text/plain": [
              "[1.4142135623730951, 2.0]"
            ]
          },
          "metadata": {
            "tags": []
          },
          "execution_count": 16
        }
      ]
    },
    {
      "cell_type": "markdown",
      "metadata": {
        "id": "QT17j-V_X-qP"
      },
      "source": [
        "#### 최소값, 최대값"
      ]
    },
    {
      "cell_type": "code",
      "metadata": {
        "colab": {
          "base_uri": "https://localhost:8080/"
        },
        "id": "7lPqIVwjYBPF",
        "outputId": "6a3c91a9-59aa-4f91-b4e8-02972426b4a5"
      },
      "source": [
        "[arr3.min(), arr3.max()]"
      ],
      "execution_count": 17,
      "outputs": [
        {
          "output_type": "execute_result",
          "data": {
            "text/plain": [
              "[0, 4]"
            ]
          },
          "metadata": {
            "tags": []
          },
          "execution_count": 17
        }
      ]
    },
    {
      "cell_type": "markdown",
      "metadata": {
        "id": "A_5LIHslYEA4"
      },
      "source": [
        "#### 누적 합, 누적 곱"
      ]
    },
    {
      "cell_type": "code",
      "metadata": {
        "id": "B_SEni97YI1P"
      },
      "source": [
        "arr4 = np.arange(1,5)"
      ],
      "execution_count": 18,
      "outputs": []
    },
    {
      "cell_type": "code",
      "metadata": {
        "colab": {
          "base_uri": "https://localhost:8080/"
        },
        "id": "UDIQatskYKq7",
        "outputId": "2a189f5e-5688-40c5-d581-5507ac23b6d2"
      },
      "source": [
        "arr4.cumsum()"
      ],
      "execution_count": 19,
      "outputs": [
        {
          "output_type": "execute_result",
          "data": {
            "text/plain": [
              "array([ 1,  3,  6, 10])"
            ]
          },
          "metadata": {
            "tags": []
          },
          "execution_count": 19
        }
      ]
    },
    {
      "cell_type": "code",
      "metadata": {
        "colab": {
          "base_uri": "https://localhost:8080/"
        },
        "id": "BB0E8gJeYNG8",
        "outputId": "fd53f3d3-f5fe-40c3-ee82-47827cae445b"
      },
      "source": [
        "arr4.cumprod()"
      ],
      "execution_count": 20,
      "outputs": [
        {
          "output_type": "execute_result",
          "data": {
            "text/plain": [
              "array([ 1,  2,  6, 24])"
            ]
          },
          "metadata": {
            "tags": []
          },
          "execution_count": 20
        }
      ]
    },
    {
      "cell_type": "markdown",
      "metadata": {
        "id": "mS0HTGJVYb4E"
      },
      "source": [
        "___\n",
        "### 행렬 연산"
      ]
    },
    {
      "cell_type": "code",
      "metadata": {
        "colab": {
          "base_uri": "https://localhost:8080/"
        },
        "id": "p8ZryDUkYfi0",
        "outputId": "79167f98-d2ba-41be-b500-f8bb72017eed"
      },
      "source": [
        "A = np.array([0,1,2,3]).reshape(2,2)\n",
        "A"
      ],
      "execution_count": 21,
      "outputs": [
        {
          "output_type": "execute_result",
          "data": {
            "text/plain": [
              "array([[0, 1],\n",
              "       [2, 3]])"
            ]
          },
          "metadata": {
            "tags": []
          },
          "execution_count": 21
        }
      ]
    },
    {
      "cell_type": "code",
      "metadata": {
        "colab": {
          "base_uri": "https://localhost:8080/"
        },
        "id": "RGgp7SGHYliv",
        "outputId": "d16e19a4-78bf-46aa-f792-c1d84332f6d3"
      },
      "source": [
        "B = np.array([3,2,0,1]).reshape(2,2)\n",
        "B\n"
      ],
      "execution_count": 22,
      "outputs": [
        {
          "output_type": "execute_result",
          "data": {
            "text/plain": [
              "array([[3, 2],\n",
              "       [0, 1]])"
            ]
          },
          "metadata": {
            "tags": []
          },
          "execution_count": 22
        }
      ]
    },
    {
      "cell_type": "markdown",
      "metadata": {
        "id": "rGQWRi-cYpow"
      },
      "source": [
        "#### 행렬 곱"
      ]
    },
    {
      "cell_type": "code",
      "metadata": {
        "colab": {
          "base_uri": "https://localhost:8080/"
        },
        "id": "H4-mro99Yvbb",
        "outputId": "0af11893-049a-42d8-97a5-69a7312925a6"
      },
      "source": [
        "A.dot(B)"
      ],
      "execution_count": 23,
      "outputs": [
        {
          "output_type": "execute_result",
          "data": {
            "text/plain": [
              "array([[0, 1],\n",
              "       [6, 7]])"
            ]
          },
          "metadata": {
            "tags": []
          },
          "execution_count": 23
        }
      ]
    },
    {
      "cell_type": "code",
      "metadata": {
        "colab": {
          "base_uri": "https://localhost:8080/"
        },
        "id": "fucRTGgKYx6x",
        "outputId": "f5eacdf4-82a4-4970-cbb8-6c94b787e701"
      },
      "source": [
        "np.dot(A,B)"
      ],
      "execution_count": 24,
      "outputs": [
        {
          "output_type": "execute_result",
          "data": {
            "text/plain": [
              "array([[0, 1],\n",
              "       [6, 7]])"
            ]
          },
          "metadata": {
            "tags": []
          },
          "execution_count": 24
        }
      ]
    },
    {
      "cell_type": "markdown",
      "metadata": {
        "id": "8mk5eMNHY0Fn"
      },
      "source": [
        "#### 전치 행렬"
      ]
    },
    {
      "cell_type": "code",
      "metadata": {
        "colab": {
          "base_uri": "https://localhost:8080/"
        },
        "id": "cwiaXdhpY2MN",
        "outputId": "a2329b16-91a5-4759-f2b4-f51636a0f3e4"
      },
      "source": [
        "np.transpose(A)"
      ],
      "execution_count": 25,
      "outputs": [
        {
          "output_type": "execute_result",
          "data": {
            "text/plain": [
              "array([[0, 2],\n",
              "       [1, 3]])"
            ]
          },
          "metadata": {
            "tags": []
          },
          "execution_count": 25
        }
      ]
    },
    {
      "cell_type": "code",
      "metadata": {
        "colab": {
          "base_uri": "https://localhost:8080/"
        },
        "id": "GOAGZ9hUY5Wg",
        "outputId": "826967d2-f916-4dd4-fbe2-b1ceab483fa5"
      },
      "source": [
        "A.transpose()"
      ],
      "execution_count": 26,
      "outputs": [
        {
          "output_type": "execute_result",
          "data": {
            "text/plain": [
              "array([[0, 2],\n",
              "       [1, 3]])"
            ]
          },
          "metadata": {
            "tags": []
          },
          "execution_count": 26
        }
      ]
    },
    {
      "cell_type": "markdown",
      "metadata": {
        "id": "jAPiBxlSY7Q4"
      },
      "source": [
        "#### 역행렬"
      ]
    },
    {
      "cell_type": "code",
      "metadata": {
        "colab": {
          "base_uri": "https://localhost:8080/"
        },
        "id": "kvUEqaASY8-g",
        "outputId": "bcf89a6a-0fdd-4180-b319-1db352d71b4e"
      },
      "source": [
        "np.linalg.inv(A)"
      ],
      "execution_count": 27,
      "outputs": [
        {
          "output_type": "execute_result",
          "data": {
            "text/plain": [
              "array([[-1.5,  0.5],\n",
              "       [ 1. ,  0. ]])"
            ]
          },
          "metadata": {
            "tags": []
          },
          "execution_count": 27
        }
      ]
    },
    {
      "cell_type": "markdown",
      "metadata": {
        "id": "BohFeMZsZAHt"
      },
      "source": [
        "#### 행렬식"
      ]
    },
    {
      "cell_type": "code",
      "metadata": {
        "colab": {
          "base_uri": "https://localhost:8080/"
        },
        "id": "0bRMdM43ZBta",
        "outputId": "1e787e73-090b-48af-cea5-49c8208a041d"
      },
      "source": [
        "np.linalg.det(A)"
      ],
      "execution_count": 28,
      "outputs": [
        {
          "output_type": "execute_result",
          "data": {
            "text/plain": [
              "-2.0"
            ]
          },
          "metadata": {
            "tags": []
          },
          "execution_count": 28
        }
      ]
    }
  ]
}