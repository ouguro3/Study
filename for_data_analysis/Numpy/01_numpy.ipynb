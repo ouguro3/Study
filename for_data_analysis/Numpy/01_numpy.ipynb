{
  "nbformat": 4,
  "nbformat_minor": 0,
  "metadata": {
    "colab": {
      "name": "01_numpy.ipynb",
      "provenance": []
    },
    "kernelspec": {
      "name": "python3",
      "display_name": "Python 3"
    },
    "language_info": {
      "name": "python"
    }
  },
  "cells": [
    {
      "cell_type": "markdown",
      "metadata": {
        "id": "wIhcvyfnOzIG"
      },
      "source": [
        "## Numpy\n",
        "파이썬으로 과학 연산을 쉽고 빠르게 할 수 있게 만든 패키지  \n",
        "파이썬의 기본 데이터 형식과 내장 함수를 이용하는 것보다 다차원 배열 데이터를   \n",
        "효과적으로 처리할 수 있다"
      ]
    },
    {
      "cell_type": "code",
      "metadata": {
        "id": "ORAJAJIxOKtT"
      },
      "source": [
        "import numpy as np # 모듈 불러오기"
      ],
      "execution_count": 1,
      "outputs": []
    },
    {
      "cell_type": "markdown",
      "metadata": {
        "id": "OaJ53XOoPMVR"
      },
      "source": [
        "### 1차원 배열 생성"
      ]
    },
    {
      "cell_type": "code",
      "metadata": {
        "colab": {
          "base_uri": "https://localhost:8080/"
        },
        "id": "IV3eGBTMPVBa",
        "outputId": "3e046b1c-60e6-474d-9b26-127a3cb12ccd"
      },
      "source": [
        "data1 = [0,1,2,3,4,5]\n",
        "a1 = np.array(data1)\n",
        "a1"
      ],
      "execution_count": 2,
      "outputs": [
        {
          "output_type": "execute_result",
          "data": {
            "text/plain": [
              "array([0, 1, 2, 3, 4, 5])"
            ]
          },
          "metadata": {
            "tags": []
          },
          "execution_count": 2
        }
      ]
    },
    {
      "cell_type": "markdown",
      "metadata": {
        "id": "EWDpcOfYPeSv"
      },
      "source": [
        "___\n",
        "### 실수와 정수가 혼합된 리스트"
      ]
    },
    {
      "cell_type": "code",
      "metadata": {
        "colab": {
          "base_uri": "https://localhost:8080/"
        },
        "id": "8VKisAvIPiZW",
        "outputId": "22485139-27a7-4949-8bcf-c16ce83d9f7b"
      },
      "source": [
        "data2 = [0.1,5,4,12,0.5]\n",
        "a2 = np.array(data2)\n",
        "a2"
      ],
      "execution_count": 3,
      "outputs": [
        {
          "output_type": "execute_result",
          "data": {
            "text/plain": [
              "array([ 0.1,  5. ,  4. , 12. ,  0.5])"
            ]
          },
          "metadata": {
            "tags": []
          },
          "execution_count": 3
        }
      ]
    },
    {
      "cell_type": "markdown",
      "metadata": {
        "id": "Med2CRf7PvVp"
      },
      "source": [
        "실수와 정수가 혼합되어 있는 경우 모두 실수로 반환한다"
      ]
    },
    {
      "cell_type": "markdown",
      "metadata": {
        "id": "xThlzlMVPk4h"
      },
      "source": [
        "___\n",
        "### 타입 확인"
      ]
    },
    {
      "cell_type": "code",
      "metadata": {
        "colab": {
          "base_uri": "https://localhost:8080/"
        },
        "id": "RinZjQ9SPpAj",
        "outputId": "cc83a758-0841-4fa8-f7a7-82e07409df08"
      },
      "source": [
        "a1.dtype # int32\n",
        "a2.dtype # float64"
      ],
      "execution_count": 4,
      "outputs": [
        {
          "output_type": "execute_result",
          "data": {
            "text/plain": [
              "dtype('float64')"
            ]
          },
          "metadata": {
            "tags": []
          },
          "execution_count": 4
        }
      ]
    },
    {
      "cell_type": "markdown",
      "metadata": {
        "id": "v59f4XpmP1fp"
      },
      "source": [
        "___\n",
        "### 2차원 배열 생성\n"
      ]
    },
    {
      "cell_type": "code",
      "metadata": {
        "colab": {
          "base_uri": "https://localhost:8080/"
        },
        "id": "cXPkueF3P7kE",
        "outputId": "c22ad8fa-6db3-41be-c7ab-0a001e8280f8"
      },
      "source": [
        "data3 = ([[1,2,3],[4,5,6],[7,8,9]])\n",
        "np.array(data3)"
      ],
      "execution_count": 5,
      "outputs": [
        {
          "output_type": "execute_result",
          "data": {
            "text/plain": [
              "array([[1, 2, 3],\n",
              "       [4, 5, 6],\n",
              "       [7, 8, 9]])"
            ]
          },
          "metadata": {
            "tags": []
          },
          "execution_count": 5
        }
      ]
    },
    {
      "cell_type": "markdown",
      "metadata": {
        "id": "oTj6HP3xP90a"
      },
      "source": [
        "___\n",
        "### 범위 지정해 배열 생성"
      ]
    },
    {
      "cell_type": "code",
      "metadata": {
        "colab": {
          "base_uri": "https://localhost:8080/"
        },
        "id": "ytpQeC1gQC6O",
        "outputId": "db2f04bf-0cbd-4ba0-99e6-872134494f2b"
      },
      "source": [
        "np.arange(0,10,2)"
      ],
      "execution_count": 6,
      "outputs": [
        {
          "output_type": "execute_result",
          "data": {
            "text/plain": [
              "array([0, 2, 4, 6, 8])"
            ]
          },
          "metadata": {
            "tags": []
          },
          "execution_count": 6
        }
      ]
    },
    {
      "cell_type": "code",
      "metadata": {
        "colab": {
          "base_uri": "https://localhost:8080/"
        },
        "id": "0gWB9kHTQKUC",
        "outputId": "a388a279-af7a-42e4-93f6-057aaac37390"
      },
      "source": [
        "np.arange(1,10)"
      ],
      "execution_count": 7,
      "outputs": [
        {
          "output_type": "execute_result",
          "data": {
            "text/plain": [
              "array([1, 2, 3, 4, 5, 6, 7, 8, 9])"
            ]
          },
          "metadata": {
            "tags": []
          },
          "execution_count": 7
        }
      ]
    },
    {
      "cell_type": "markdown",
      "metadata": {
        "id": "LEh-CsTqQL8u"
      },
      "source": [
        "___\n",
        "### 1차원 배열 >> 2차원 배열로 변경"
      ]
    },
    {
      "cell_type": "code",
      "metadata": {
        "colab": {
          "base_uri": "https://localhost:8080/"
        },
        "id": "q11ourfzQSP2",
        "outputId": "507722f0-c4eb-4b2d-c257-7f3dc7f35ee5"
      },
      "source": [
        "np.arange(12).reshape(4,3) # 4행 3열"
      ],
      "execution_count": 8,
      "outputs": [
        {
          "output_type": "execute_result",
          "data": {
            "text/plain": [
              "array([[ 0,  1,  2],\n",
              "       [ 3,  4,  5],\n",
              "       [ 6,  7,  8],\n",
              "       [ 9, 10, 11]])"
            ]
          },
          "metadata": {
            "tags": []
          },
          "execution_count": 8
        }
      ]
    },
    {
      "cell_type": "markdown",
      "metadata": {
        "id": "lqhaUesDQVdN"
      },
      "source": [
        "___\n",
        "### 배열의 형태 "
      ]
    },
    {
      "cell_type": "code",
      "metadata": {
        "colab": {
          "base_uri": "https://localhost:8080/"
        },
        "id": "aU30nRg0QYWj",
        "outputId": "16a89577-b7ea-4d3a-ffa3-c71d976de0ea"
      },
      "source": [
        "b1 = np.arange(12).reshape(4,3)\n",
        "b1.shape"
      ],
      "execution_count": 9,
      "outputs": [
        {
          "output_type": "execute_result",
          "data": {
            "text/plain": [
              "(4, 3)"
            ]
          },
          "metadata": {
            "tags": []
          },
          "execution_count": 9
        }
      ]
    },
    {
      "cell_type": "code",
      "metadata": {
        "colab": {
          "base_uri": "https://localhost:8080/"
        },
        "id": "tnl88lGOQZk-",
        "outputId": "cf9dec3a-e964-4f6b-b647-2b8081777675"
      },
      "source": [
        "b2 = np.arange(5)\n",
        "b2.shape"
      ],
      "execution_count": 10,
      "outputs": [
        {
          "output_type": "execute_result",
          "data": {
            "text/plain": [
              "(5,)"
            ]
          },
          "metadata": {
            "tags": []
          },
          "execution_count": 10
        }
      ]
    },
    {
      "cell_type": "markdown",
      "metadata": {
        "id": "4RAbH2PBQddW"
      },
      "source": [
        "다차원은 (m,n)의 형태로 1차원은 (m,)의 형태로 출력"
      ]
    },
    {
      "cell_type": "markdown",
      "metadata": {
        "id": "ZV1xZsMCQi3o"
      },
      "source": [
        "___\n",
        "### linspace()"
      ]
    },
    {
      "cell_type": "markdown",
      "metadata": {
        "id": "_ICOfmCuQmtu"
      },
      "source": [
        "범위의 시작과 끝을 지정하고 데이터의 개수를 지정해 Numpy() 배열을 생성"
      ]
    },
    {
      "cell_type": "code",
      "metadata": {
        "colab": {
          "base_uri": "https://localhost:8080/"
        },
        "id": "8h-EFaitQgzm",
        "outputId": "eba828da-9a7f-4cb2-c2a8-107d2688a9d3"
      },
      "source": [
        "np.linspace(1,10,10) # 1부터 10까지 10개의 데이터 생성\n"
      ],
      "execution_count": 11,
      "outputs": [
        {
          "output_type": "execute_result",
          "data": {
            "text/plain": [
              "array([ 1.,  2.,  3.,  4.,  5.,  6.,  7.,  8.,  9., 10.])"
            ]
          },
          "metadata": {
            "tags": []
          },
          "execution_count": 11
        }
      ]
    },
    {
      "cell_type": "markdown",
      "metadata": {
        "id": "6r9-FYVMQ6yq"
      },
      "source": [
        "___\n",
        "### 특별한 형태의 배열"
      ]
    },
    {
      "cell_type": "markdown",
      "metadata": {
        "id": "5SBPSNMMRBoF"
      },
      "source": [
        "#### zeros()"
      ]
    },
    {
      "cell_type": "markdown",
      "metadata": {
        "id": "vpQpce-_REJb"
      },
      "source": [
        "0 만으로 이루어진 배열"
      ]
    },
    {
      "cell_type": "code",
      "metadata": {
        "colab": {
          "base_uri": "https://localhost:8080/"
        },
        "id": "Al1j-E_cQ_vU",
        "outputId": "c07cb4f7-8239-499c-e514-83d18c8b1b17"
      },
      "source": [
        "np.zeros(10)"
      ],
      "execution_count": 12,
      "outputs": [
        {
          "output_type": "execute_result",
          "data": {
            "text/plain": [
              "array([0., 0., 0., 0., 0., 0., 0., 0., 0., 0.])"
            ]
          },
          "metadata": {
            "tags": []
          },
          "execution_count": 12
        }
      ]
    },
    {
      "cell_type": "markdown",
      "metadata": {
        "id": "vslftBaBRNGL"
      },
      "source": [
        "#### zeros()를 이용해 2차원 배열 생성"
      ]
    },
    {
      "cell_type": "code",
      "metadata": {
        "colab": {
          "base_uri": "https://localhost:8080/"
        },
        "id": "r-G29aIYRP2B",
        "outputId": "8550550b-7117-42d7-e55c-e4538589ad3e"
      },
      "source": [
        "np.zeros((3,4))"
      ],
      "execution_count": 13,
      "outputs": [
        {
          "output_type": "execute_result",
          "data": {
            "text/plain": [
              "array([[0., 0., 0., 0.],\n",
              "       [0., 0., 0., 0.],\n",
              "       [0., 0., 0., 0.]])"
            ]
          },
          "metadata": {
            "tags": []
          },
          "execution_count": 13
        }
      ]
    },
    {
      "cell_type": "markdown",
      "metadata": {
        "id": "eQFDcnkJSj-0"
      },
      "source": [
        "#### ones()"
      ]
    },
    {
      "cell_type": "markdown",
      "metadata": {
        "id": "KpYgjUMFSpMH"
      },
      "source": [
        "1 만으로 이루어진 배열"
      ]
    },
    {
      "cell_type": "code",
      "metadata": {
        "colab": {
          "base_uri": "https://localhost:8080/"
        },
        "id": "ajgun0IkSshT",
        "outputId": "2de40f59-91fb-4af2-8f7a-dae95ded47c1"
      },
      "source": [
        "np.ones(5)"
      ],
      "execution_count": 14,
      "outputs": [
        {
          "output_type": "execute_result",
          "data": {
            "text/plain": [
              "array([1., 1., 1., 1., 1.])"
            ]
          },
          "metadata": {
            "tags": []
          },
          "execution_count": 14
        }
      ]
    },
    {
      "cell_type": "markdown",
      "metadata": {
        "id": "Fd-smPr3S6L8"
      },
      "source": [
        "#### ones() 2차원 배열"
      ]
    },
    {
      "cell_type": "code",
      "metadata": {
        "colab": {
          "base_uri": "https://localhost:8080/"
        },
        "id": "7PEEya1eS880",
        "outputId": "2f0acd8d-f6fa-411f-d59d-7c6bc9439f99"
      },
      "source": [
        "np.ones((3,5))"
      ],
      "execution_count": 15,
      "outputs": [
        {
          "output_type": "execute_result",
          "data": {
            "text/plain": [
              "array([[1., 1., 1., 1., 1.],\n",
              "       [1., 1., 1., 1., 1.],\n",
              "       [1., 1., 1., 1., 1.]])"
            ]
          },
          "metadata": {
            "tags": []
          },
          "execution_count": 15
        }
      ]
    },
    {
      "cell_type": "markdown",
      "metadata": {
        "id": "xc74YWiNTA-o"
      },
      "source": [
        "#### 단위행렬"
      ]
    },
    {
      "cell_type": "markdown",
      "metadata": {
        "id": "Ycxn3Yu6TC27"
      },
      "source": [
        "주 대각선이 모두 1이고 나머지는 0인 행렬"
      ]
    },
    {
      "cell_type": "code",
      "metadata": {
        "colab": {
          "base_uri": "https://localhost:8080/"
        },
        "id": "qrse5miNTE_d",
        "outputId": "b9f7aa01-ec1e-4501-8089-f5b66ac6fd5a"
      },
      "source": [
        "np.eye(3)"
      ],
      "execution_count": 16,
      "outputs": [
        {
          "output_type": "execute_result",
          "data": {
            "text/plain": [
              "array([[1., 0., 0.],\n",
              "       [0., 1., 0.],\n",
              "       [0., 0., 1.]])"
            ]
          },
          "metadata": {
            "tags": []
          },
          "execution_count": 16
        }
      ]
    },
    {
      "cell_type": "markdown",
      "metadata": {
        "id": "VphQRrtMTLC8"
      },
      "source": [
        "___\n",
        "### astype()"
      ]
    },
    {
      "cell_type": "markdown",
      "metadata": {
        "id": "GSqJF0JcTQtT"
      },
      "source": [
        "배열의 데이터 타입 반환"
      ]
    },
    {
      "cell_type": "code",
      "metadata": {
        "colab": {
          "base_uri": "https://localhost:8080/"
        },
        "id": "FfIoAh8PTTDh",
        "outputId": "7e61717b-db94-412c-b903-924a39f1d8d3"
      },
      "source": [
        "str_a = np.array(['1','2','3','4','5'])\n",
        "num_a = str_a.astype(int)\n",
        "num_a"
      ],
      "execution_count": 17,
      "outputs": [
        {
          "output_type": "execute_result",
          "data": {
            "text/plain": [
              "array([1, 2, 3, 4, 5])"
            ]
          },
          "metadata": {
            "tags": []
          },
          "execution_count": 17
        }
      ]
    },
    {
      "cell_type": "code",
      "metadata": {
        "colab": {
          "base_uri": "https://localhost:8080/"
        },
        "id": "Wn7z1kM3T0Id",
        "outputId": "c65f4fd6-c1bb-45c1-b784-3d60f9e119b6"
      },
      "source": [
        "str_a.dtype # <U1 : numpy 데이터의 형식이 유니코드이며, 문자의 수는 최대 1개"
      ],
      "execution_count": 18,
      "outputs": [
        {
          "output_type": "execute_result",
          "data": {
            "text/plain": [
              "dtype('<U1')"
            ]
          },
          "metadata": {
            "tags": []
          },
          "execution_count": 18
        }
      ]
    },
    {
      "cell_type": "code",
      "metadata": {
        "colab": {
          "base_uri": "https://localhost:8080/"
        },
        "id": "MiRDcK1nT3Gd",
        "outputId": "791ffc60-729e-4837-8076-8898f3d3c8cb"
      },
      "source": [
        "num_a.dtype"
      ],
      "execution_count": 19,
      "outputs": [
        {
          "output_type": "execute_result",
          "data": {
            "text/plain": [
              "dtype('int64')"
            ]
          },
          "metadata": {
            "tags": []
          },
          "execution_count": 19
        }
      ]
    },
    {
      "cell_type": "markdown",
      "metadata": {
        "id": "Nubxu9n3UA90"
      },
      "source": [
        "___\n",
        "### 난수 배열 생성 rand()"
      ]
    },
    {
      "cell_type": "markdown",
      "metadata": {
        "id": "y_avKX32UNCf"
      },
      "source": [
        "0 과 1 사이의 난수 생성"
      ]
    },
    {
      "cell_type": "code",
      "metadata": {
        "colab": {
          "base_uri": "https://localhost:8080/"
        },
        "id": "G7hs-pq6UGk7",
        "outputId": "5aa1d926-9525-4cab-aeec-4dad295bd177"
      },
      "source": [
        "np.random.rand(2,3)"
      ],
      "execution_count": 20,
      "outputs": [
        {
          "output_type": "execute_result",
          "data": {
            "text/plain": [
              "array([[0.92582422, 0.05557088, 0.64974755],\n",
              "       [0.88608059, 0.04502273, 0.09119683]])"
            ]
          },
          "metadata": {
            "tags": []
          },
          "execution_count": 20
        }
      ]
    },
    {
      "cell_type": "markdown",
      "metadata": {
        "id": "qZS4pck3URWj"
      },
      "source": [
        "### randint()"
      ]
    },
    {
      "cell_type": "markdown",
      "metadata": {
        "id": "lUzv11hZUT0p"
      },
      "source": [
        "지정한 범위에 해당하는 정수로 난수 배열을 생성"
      ]
    },
    {
      "cell_type": "code",
      "metadata": {
        "colab": {
          "base_uri": "https://localhost:8080/"
        },
        "id": "CyO8kq7SUW9o",
        "outputId": "6eb4d90a-ab73-417a-e970-d2e00455c032"
      },
      "source": [
        "np.random.randint(10, size=(3,4))"
      ],
      "execution_count": 21,
      "outputs": [
        {
          "output_type": "execute_result",
          "data": {
            "text/plain": [
              "array([[0, 1, 1, 7],\n",
              "       [8, 3, 0, 0],\n",
              "       [7, 6, 2, 8]])"
            ]
          },
          "metadata": {
            "tags": []
          },
          "execution_count": 21
        }
      ]
    }
  ]
}