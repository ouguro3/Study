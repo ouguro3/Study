{
  "nbformat": 4,
  "nbformat_minor": 0,
  "metadata": {
    "colab": {
      "name": "01_pandas.ipynb",
      "provenance": []
    },
    "kernelspec": {
      "name": "python3",
      "display_name": "Python 3"
    },
    "language_info": {
      "name": "python"
    }
  },
  "cells": [
    {
      "cell_type": "code",
      "metadata": {
        "id": "rI2PaJxfAr8Z"
      },
      "source": [
        "\n",
        "import pandas as pd"
      ],
      "execution_count": 1,
      "outputs": []
    },
    {
      "cell_type": "markdown",
      "metadata": {
        "id": "yA868whOC731"
      },
      "source": [
        "## pandas Series"
      ]
    },
    {
      "cell_type": "code",
      "metadata": {
        "colab": {
          "base_uri": "https://localhost:8080/"
        },
        "id": "fvEYUaLBC5Lk",
        "outputId": "314342c5-736d-4bfc-eaf8-5838518a2e07"
      },
      "source": [
        "s1 = pd.Series([10,20,30,40,50])\n",
        "s1"
      ],
      "execution_count": 2,
      "outputs": [
        {
          "output_type": "execute_result",
          "data": {
            "text/plain": [
              "0    10\n",
              "1    20\n",
              "2    30\n",
              "3    40\n",
              "4    50\n",
              "dtype: int64"
            ]
          },
          "metadata": {
            "tags": []
          },
          "execution_count": 2
        }
      ]
    },
    {
      "cell_type": "markdown",
      "metadata": {
        "id": "hsqvh5HKDXI1"
      },
      "source": [
        "___\n",
        "### index 와 values 분리"
      ]
    },
    {
      "cell_type": "code",
      "metadata": {
        "colab": {
          "base_uri": "https://localhost:8080/"
        },
        "id": "MU54KAt4DHPU",
        "outputId": "0891e030-ee57-4af6-8812-e1ffcebfcf51"
      },
      "source": [
        "s1.index"
      ],
      "execution_count": 3,
      "outputs": [
        {
          "output_type": "execute_result",
          "data": {
            "text/plain": [
              "RangeIndex(start=0, stop=5, step=1)"
            ]
          },
          "metadata": {
            "tags": []
          },
          "execution_count": 3
        }
      ]
    },
    {
      "cell_type": "markdown",
      "metadata": {
        "id": "wMcxmTDQDiPO"
      },
      "source": [
        "**RangeIndex 는 index 를 범위로 표시했음을 의미**"
      ]
    },
    {
      "cell_type": "code",
      "metadata": {
        "colab": {
          "base_uri": "https://localhost:8080/"
        },
        "id": "lEhPGgesDKrp",
        "outputId": "56905261-f82c-4f82-90b7-0614fbac4bad"
      },
      "source": [
        "s1.values"
      ],
      "execution_count": 4,
      "outputs": [
        {
          "output_type": "execute_result",
          "data": {
            "text/plain": [
              "array([10, 20, 30, 40, 50])"
            ]
          },
          "metadata": {
            "tags": []
          },
          "execution_count": 4
        }
      ]
    },
    {
      "cell_type": "markdown",
      "metadata": {
        "id": "MaTnufE8IwYW"
      },
      "source": [
        "___\n",
        "### 데이터 Type"
      ]
    },
    {
      "cell_type": "markdown",
      "metadata": {
        "id": "XBwfUvdgMvqd"
      },
      "source": [
        "numpy의 경우 모든 원소가 데이터 타입이 같아야 했지만  \n",
        "pandas 는 데이터 타입 혼합 사용이 가능하다"
      ]
    },
    {
      "cell_type": "code",
      "metadata": {
        "colab": {
          "base_uri": "https://localhost:8080/"
        },
        "id": "mhO1NWmII2PL",
        "outputId": "d6a1b11f-8d61-4a25-c452-444844036c28"
      },
      "source": [
        "s2 = pd.Series(['a','b','c',1,2,3])\n",
        "s2"
      ],
      "execution_count": 5,
      "outputs": [
        {
          "output_type": "execute_result",
          "data": {
            "text/plain": [
              "0    a\n",
              "1    b\n",
              "2    c\n",
              "3    1\n",
              "4    2\n",
              "5    3\n",
              "dtype: object"
            ]
          },
          "metadata": {
            "tags": []
          },
          "execution_count": 5
        }
      ]
    },
    {
      "cell_type": "markdown",
      "metadata": {
        "id": "3oHX-RSbNJfG"
      },
      "source": [
        "___\n",
        "### NaN"
      ]
    },
    {
      "cell_type": "markdown",
      "metadata": {
        "id": "IFU84ScNJB4A"
      },
      "source": [
        "데이터가 없으면 Numpy를 import 해서 np.nan 으로 표시할 수 있다"
      ]
    },
    {
      "cell_type": "code",
      "metadata": {
        "id": "KMJRpoc9JLyb"
      },
      "source": [
        "import numpy as np"
      ],
      "execution_count": 6,
      "outputs": []
    },
    {
      "cell_type": "code",
      "metadata": {
        "colab": {
          "base_uri": "https://localhost:8080/"
        },
        "id": "ZCi6W0e_JSHR",
        "outputId": "45a05590-1d5f-4c93-928a-e3f21684d718"
      },
      "source": [
        "s3 = pd.Series([np.nan,10,30])\n",
        "s3"
      ],
      "execution_count": 7,
      "outputs": [
        {
          "output_type": "execute_result",
          "data": {
            "text/plain": [
              "0     NaN\n",
              "1    10.0\n",
              "2    30.0\n",
              "dtype: float64"
            ]
          },
          "metadata": {
            "tags": []
          },
          "execution_count": 7
        }
      ]
    },
    {
      "cell_type": "markdown",
      "metadata": {
        "id": "2rkIjWE6NYsi"
      },
      "source": [
        "___\n",
        "### Index 추가"
      ]
    },
    {
      "cell_type": "markdown",
      "metadata": {
        "id": "5PnizmhWJYWH"
      },
      "source": [
        "Series 데이터를 생성할 때 인자로 index를 추가 가능하다\n",
        "\n",
        "`s = pd.Series(seq_data, index = index_seq)`\n",
        "\n",
        "단 seq_data의 항목 개수와 index_seq 항목의 개수는 같아야 한다"
      ]
    },
    {
      "cell_type": "code",
      "metadata": {
        "colab": {
          "base_uri": "https://localhost:8080/"
        },
        "id": "FVj9H8iMJk85",
        "outputId": "5af0599b-b092-4c04-984c-e72d82e29147"
      },
      "source": [
        "index_date = ['2018-10-07','2018-10-08','2018-10-09','2018-10-10']\n",
        "s4 = pd.Series([200,195,np.nan,205], index=index_date)\n",
        "s4"
      ],
      "execution_count": 8,
      "outputs": [
        {
          "output_type": "execute_result",
          "data": {
            "text/plain": [
              "2018-10-07    200.0\n",
              "2018-10-08    195.0\n",
              "2018-10-09      NaN\n",
              "2018-10-10    205.0\n",
              "dtype: float64"
            ]
          },
          "metadata": {
            "tags": []
          },
          "execution_count": 8
        }
      ]
    },
    {
      "cell_type": "markdown",
      "metadata": {
        "id": "IQp2zUKQNc4a"
      },
      "source": [
        "___\n",
        "### 딕셔너리"
      ]
    },
    {
      "cell_type": "markdown",
      "metadata": {
        "id": "m-7Pl7jOJwOq"
      },
      "source": [
        "딕셔너리를 이용하면 data 와 index 를 함께 입력할 수 있다  \n",
        "`s = pd.Series(dict_data)`"
      ]
    },
    {
      "cell_type": "code",
      "metadata": {
        "colab": {
          "base_uri": "https://localhost:8080/"
        },
        "id": "S58WguphJ67z",
        "outputId": "7f02f098-3e9b-434f-87db-13f9a780777c"
      },
      "source": [
        "s5 = pd.Series({'국어':100,'영어':95,'수학':90})\n",
        "s5"
      ],
      "execution_count": 9,
      "outputs": [
        {
          "output_type": "execute_result",
          "data": {
            "text/plain": [
              "국어    100\n",
              "영어     95\n",
              "수학     90\n",
              "dtype: int64"
            ]
          },
          "metadata": {
            "tags": []
          },
          "execution_count": 9
        }
      ]
    },
    {
      "cell_type": "markdown",
      "metadata": {
        "id": "Kyv-NBnANg2Z"
      },
      "source": [
        "___\n",
        "### 날짜 자동 생성 "
      ]
    },
    {
      "cell_type": "markdown",
      "metadata": {
        "id": "Sy9DGXALKNvY"
      },
      "source": [
        "pandas에서는 날짜 자동 생성이 가능하다 "
      ]
    },
    {
      "cell_type": "code",
      "metadata": {
        "colab": {
          "base_uri": "https://localhost:8080/"
        },
        "id": "vouqw4sdKSS1",
        "outputId": "f840346c-9540-4e28-fdb0-38ba18467497"
      },
      "source": [
        "date = pd.date_range(start='2019-01-01', end='2019-01-07')\n",
        "date"
      ],
      "execution_count": 10,
      "outputs": [
        {
          "output_type": "execute_result",
          "data": {
            "text/plain": [
              "DatetimeIndex(['2019-01-01', '2019-01-02', '2019-01-03', '2019-01-04',\n",
              "               '2019-01-05', '2019-01-06', '2019-01-07'],\n",
              "              dtype='datetime64[ns]', freq='D')"
            ]
          },
          "metadata": {
            "tags": []
          },
          "execution_count": 10
        }
      ]
    },
    {
      "cell_type": "markdown",
      "metadata": {
        "id": "ElfytVASKYUz"
      },
      "source": [
        "어떤 형식으로 입력하던지 날짜의 표기 형식은 yyyy-mm-dd 형식으로 바뀌어 출력된다"
      ]
    },
    {
      "cell_type": "code",
      "metadata": {
        "colab": {
          "base_uri": "https://localhost:8080/"
        },
        "id": "pgwPHWF0K55W",
        "outputId": "a8a3d21f-8a09-41be-8f76-aac188690869"
      },
      "source": [
        "pd.date_range(start='2019/01/01',end='2019.01.07')"
      ],
      "execution_count": 11,
      "outputs": [
        {
          "output_type": "execute_result",
          "data": {
            "text/plain": [
              "DatetimeIndex(['2019-01-01', '2019-01-02', '2019-01-03', '2019-01-04',\n",
              "               '2019-01-05', '2019-01-06', '2019-01-07'],\n",
              "              dtype='datetime64[ns]', freq='D')"
            ]
          },
          "metadata": {
            "tags": []
          },
          "execution_count": 11
        }
      ]
    }
  ]
}