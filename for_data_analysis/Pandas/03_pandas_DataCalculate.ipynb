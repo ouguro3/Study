{
  "nbformat": 4,
  "nbformat_minor": 0,
  "metadata": {
    "colab": {
      "name": "03_pandas_DataCalculate.ipynb",
      "provenance": []
    },
    "kernelspec": {
      "name": "python3",
      "display_name": "Python 3"
    },
    "language_info": {
      "name": "python"
    }
  },
  "cells": [
    {
      "cell_type": "markdown",
      "metadata": {
        "id": "qAC72HtLb5mR"
      },
      "source": [
        "## 데이터 연산"
      ]
    },
    {
      "cell_type": "markdown",
      "metadata": {
        "id": "FeM35Wv3b8H9"
      },
      "source": [
        "pandas 의 Series()와 DataFrame()으로 생성한 데이터끼리는 사칙 연산이 가능하다"
      ]
    },
    {
      "cell_type": "markdown",
      "metadata": {
        "id": "Biircanrolqv"
      },
      "source": [
        "### Series() 연산"
      ]
    },
    {
      "cell_type": "code",
      "metadata": {
        "colab": {
          "base_uri": "https://localhost:8080/"
        },
        "id": "hfl8nV37bd_V",
        "outputId": "a2ce4c89-f14a-4f23-c198-a0cfcd337540"
      },
      "source": [
        "import pandas as pd\n",
        "s1 = pd.Series([1,2,3,4,5])\n",
        "s2 = pd.Series([10,20,30,40,50])\n",
        "s1 + s2"
      ],
      "execution_count": 2,
      "outputs": [
        {
          "output_type": "execute_result",
          "data": {
            "text/plain": [
              "0    11\n",
              "1    22\n",
              "2    33\n",
              "3    44\n",
              "4    55\n",
              "dtype: int64"
            ]
          },
          "metadata": {
            "tags": []
          },
          "execution_count": 2
        }
      ]
    },
    {
      "cell_type": "code",
      "metadata": {
        "colab": {
          "base_uri": "https://localhost:8080/"
        },
        "id": "81fdUSxAiHJC",
        "outputId": "478ca8e2-5cca-440a-f401-80dd2d0828f6"
      },
      "source": [
        "s2 - s1"
      ],
      "execution_count": 3,
      "outputs": [
        {
          "output_type": "execute_result",
          "data": {
            "text/plain": [
              "0     9\n",
              "1    18\n",
              "2    27\n",
              "3    36\n",
              "4    45\n",
              "dtype: int64"
            ]
          },
          "metadata": {
            "tags": []
          },
          "execution_count": 3
        }
      ]
    },
    {
      "cell_type": "code",
      "metadata": {
        "colab": {
          "base_uri": "https://localhost:8080/"
        },
        "id": "1sziopUfiMaI",
        "outputId": "d43db8d8-8c07-45d8-bd86-ba8770887506"
      },
      "source": [
        "s1 * s2"
      ],
      "execution_count": 4,
      "outputs": [
        {
          "output_type": "execute_result",
          "data": {
            "text/plain": [
              "0     10\n",
              "1     40\n",
              "2     90\n",
              "3    160\n",
              "4    250\n",
              "dtype: int64"
            ]
          },
          "metadata": {
            "tags": []
          },
          "execution_count": 4
        }
      ]
    },
    {
      "cell_type": "code",
      "metadata": {
        "colab": {
          "base_uri": "https://localhost:8080/"
        },
        "id": "Nsf4IieJiN5U",
        "outputId": "7b4d7c99-f9ad-4e8d-e78d-c749f9b3b47f"
      },
      "source": [
        "s2 / s1"
      ],
      "execution_count": 5,
      "outputs": [
        {
          "output_type": "execute_result",
          "data": {
            "text/plain": [
              "0    10.0\n",
              "1    10.0\n",
              "2    10.0\n",
              "3    10.0\n",
              "4    10.0\n",
              "dtype: float64"
            ]
          },
          "metadata": {
            "tags": []
          },
          "execution_count": 5
        }
      ]
    },
    {
      "cell_type": "markdown",
      "metadata": {
        "id": "ChD8eO-slDOF"
      },
      "source": [
        "**Numpy의 배열과 달리 pandas 의 데이터 끼리는 서로 크기가 달라도 연산할 수 있다  \n",
        "이경우 연산이 가능한 항목만을 수행한다**"
      ]
    },
    {
      "cell_type": "code",
      "metadata": {
        "id": "XOFUKpR7lQ0i"
      },
      "source": [
        "s3 = pd.Series([1,2,3,4])\n",
        "s4 = pd.Series([10,20,30,40,50])"
      ],
      "execution_count": 6,
      "outputs": []
    },
    {
      "cell_type": "code",
      "metadata": {
        "colab": {
          "base_uri": "https://localhost:8080/"
        },
        "id": "BuBk_3QCoThp",
        "outputId": "f27c3750-e3c9-465a-8758-9ca68e49e5a3"
      },
      "source": [
        "s3 + s4"
      ],
      "execution_count": 7,
      "outputs": [
        {
          "output_type": "execute_result",
          "data": {
            "text/plain": [
              "0    11.0\n",
              "1    22.0\n",
              "2    33.0\n",
              "3    44.0\n",
              "4     NaN\n",
              "dtype: float64"
            ]
          },
          "metadata": {
            "tags": []
          },
          "execution_count": 7
        }
      ]
    },
    {
      "cell_type": "code",
      "metadata": {
        "colab": {
          "base_uri": "https://localhost:8080/"
        },
        "id": "d2nuzikVoVwA",
        "outputId": "43cfa529-d5e0-4712-915b-b2aedcbdf22a"
      },
      "source": [
        "s4 - s3"
      ],
      "execution_count": 8,
      "outputs": [
        {
          "output_type": "execute_result",
          "data": {
            "text/plain": [
              "0     9.0\n",
              "1    18.0\n",
              "2    27.0\n",
              "3    36.0\n",
              "4     NaN\n",
              "dtype: float64"
            ]
          },
          "metadata": {
            "tags": []
          },
          "execution_count": 8
        }
      ]
    },
    {
      "cell_type": "code",
      "metadata": {
        "colab": {
          "base_uri": "https://localhost:8080/"
        },
        "id": "YlmpVAU3oXf4",
        "outputId": "7c9354f8-c679-4a5e-dae8-b5a728c2bf96"
      },
      "source": [
        "s3 * s4"
      ],
      "execution_count": 9,
      "outputs": [
        {
          "output_type": "execute_result",
          "data": {
            "text/plain": [
              "0     10.0\n",
              "1     40.0\n",
              "2     90.0\n",
              "3    160.0\n",
              "4      NaN\n",
              "dtype: float64"
            ]
          },
          "metadata": {
            "tags": []
          },
          "execution_count": 9
        }
      ]
    },
    {
      "cell_type": "code",
      "metadata": {
        "colab": {
          "base_uri": "https://localhost:8080/"
        },
        "id": "Jjk66qMjoY8w",
        "outputId": "4b7ed2bd-07fb-42ee-ebd6-3e99e0071215"
      },
      "source": [
        "s4 / s3"
      ],
      "execution_count": 10,
      "outputs": [
        {
          "output_type": "execute_result",
          "data": {
            "text/plain": [
              "0    10.0\n",
              "1    10.0\n",
              "2    10.0\n",
              "3    10.0\n",
              "4     NaN\n",
              "dtype: float64"
            ]
          },
          "metadata": {
            "tags": []
          },
          "execution_count": 10
        }
      ]
    },
    {
      "cell_type": "markdown",
      "metadata": {
        "id": "cAEl1mLNobb2"
      },
      "source": [
        "연산할 수 없는 부분은 NaN 으로 표시"
      ]
    },
    {
      "cell_type": "markdown",
      "metadata": {
        "id": "AsrE4ZcUoo-i"
      },
      "source": [
        "### DataFrame() 연산"
      ]
    },
    {
      "cell_type": "code",
      "metadata": {
        "colab": {
          "base_uri": "https://localhost:8080/",
          "height": 204
        },
        "id": "dOXWGCT2ogS0",
        "outputId": "07ba92ed-df79-4559-ebf0-d6a99826fd9a"
      },
      "source": [
        "table_data1 = {'A':[1,2,3,4,5],\n",
        "               'B':[10,20,30,40,50],\n",
        "               'C':[100,200,300,400,500]}\n",
        "df1 = pd.DataFrame(table_data1)\n",
        "df1"
      ],
      "execution_count": 11,
      "outputs": [
        {
          "output_type": "execute_result",
          "data": {
            "text/html": [
              "<div>\n",
              "<style scoped>\n",
              "    .dataframe tbody tr th:only-of-type {\n",
              "        vertical-align: middle;\n",
              "    }\n",
              "\n",
              "    .dataframe tbody tr th {\n",
              "        vertical-align: top;\n",
              "    }\n",
              "\n",
              "    .dataframe thead th {\n",
              "        text-align: right;\n",
              "    }\n",
              "</style>\n",
              "<table border=\"1\" class=\"dataframe\">\n",
              "  <thead>\n",
              "    <tr style=\"text-align: right;\">\n",
              "      <th></th>\n",
              "      <th>A</th>\n",
              "      <th>B</th>\n",
              "      <th>C</th>\n",
              "    </tr>\n",
              "  </thead>\n",
              "  <tbody>\n",
              "    <tr>\n",
              "      <th>0</th>\n",
              "      <td>1</td>\n",
              "      <td>10</td>\n",
              "      <td>100</td>\n",
              "    </tr>\n",
              "    <tr>\n",
              "      <th>1</th>\n",
              "      <td>2</td>\n",
              "      <td>20</td>\n",
              "      <td>200</td>\n",
              "    </tr>\n",
              "    <tr>\n",
              "      <th>2</th>\n",
              "      <td>3</td>\n",
              "      <td>30</td>\n",
              "      <td>300</td>\n",
              "    </tr>\n",
              "    <tr>\n",
              "      <th>3</th>\n",
              "      <td>4</td>\n",
              "      <td>40</td>\n",
              "      <td>400</td>\n",
              "    </tr>\n",
              "    <tr>\n",
              "      <th>4</th>\n",
              "      <td>5</td>\n",
              "      <td>50</td>\n",
              "      <td>500</td>\n",
              "    </tr>\n",
              "  </tbody>\n",
              "</table>\n",
              "</div>"
            ],
            "text/plain": [
              "   A   B    C\n",
              "0  1  10  100\n",
              "1  2  20  200\n",
              "2  3  30  300\n",
              "3  4  40  400\n",
              "4  5  50  500"
            ]
          },
          "metadata": {
            "tags": []
          },
          "execution_count": 11
        }
      ]
    },
    {
      "cell_type": "code",
      "metadata": {
        "colab": {
          "base_uri": "https://localhost:8080/",
          "height": 142
        },
        "id": "97j6XDFSo_RW",
        "outputId": "4f0e09c3-efc5-4133-d342-26dbfd21bc69"
      },
      "source": [
        "table_data2 = {'A':[6,7,8],\n",
        "               'B':[60,70,80],\n",
        "               'C':[600,700,800]}\n",
        "df2 = pd.DataFrame(table_data2)\n",
        "df2"
      ],
      "execution_count": 12,
      "outputs": [
        {
          "output_type": "execute_result",
          "data": {
            "text/html": [
              "<div>\n",
              "<style scoped>\n",
              "    .dataframe tbody tr th:only-of-type {\n",
              "        vertical-align: middle;\n",
              "    }\n",
              "\n",
              "    .dataframe tbody tr th {\n",
              "        vertical-align: top;\n",
              "    }\n",
              "\n",
              "    .dataframe thead th {\n",
              "        text-align: right;\n",
              "    }\n",
              "</style>\n",
              "<table border=\"1\" class=\"dataframe\">\n",
              "  <thead>\n",
              "    <tr style=\"text-align: right;\">\n",
              "      <th></th>\n",
              "      <th>A</th>\n",
              "      <th>B</th>\n",
              "      <th>C</th>\n",
              "    </tr>\n",
              "  </thead>\n",
              "  <tbody>\n",
              "    <tr>\n",
              "      <th>0</th>\n",
              "      <td>6</td>\n",
              "      <td>60</td>\n",
              "      <td>600</td>\n",
              "    </tr>\n",
              "    <tr>\n",
              "      <th>1</th>\n",
              "      <td>7</td>\n",
              "      <td>70</td>\n",
              "      <td>700</td>\n",
              "    </tr>\n",
              "    <tr>\n",
              "      <th>2</th>\n",
              "      <td>8</td>\n",
              "      <td>80</td>\n",
              "      <td>800</td>\n",
              "    </tr>\n",
              "  </tbody>\n",
              "</table>\n",
              "</div>"
            ],
            "text/plain": [
              "   A   B    C\n",
              "0  6  60  600\n",
              "1  7  70  700\n",
              "2  8  80  800"
            ]
          },
          "metadata": {
            "tags": []
          },
          "execution_count": 12
        }
      ]
    },
    {
      "cell_type": "code",
      "metadata": {
        "colab": {
          "base_uri": "https://localhost:8080/",
          "height": 204
        },
        "id": "-Y4QJ5zRpNbR",
        "outputId": "1aba2b3f-05a0-40b0-fcd8-cf4c9a8076d6"
      },
      "source": [
        "df1 + df2"
      ],
      "execution_count": 13,
      "outputs": [
        {
          "output_type": "execute_result",
          "data": {
            "text/html": [
              "<div>\n",
              "<style scoped>\n",
              "    .dataframe tbody tr th:only-of-type {\n",
              "        vertical-align: middle;\n",
              "    }\n",
              "\n",
              "    .dataframe tbody tr th {\n",
              "        vertical-align: top;\n",
              "    }\n",
              "\n",
              "    .dataframe thead th {\n",
              "        text-align: right;\n",
              "    }\n",
              "</style>\n",
              "<table border=\"1\" class=\"dataframe\">\n",
              "  <thead>\n",
              "    <tr style=\"text-align: right;\">\n",
              "      <th></th>\n",
              "      <th>A</th>\n",
              "      <th>B</th>\n",
              "      <th>C</th>\n",
              "    </tr>\n",
              "  </thead>\n",
              "  <tbody>\n",
              "    <tr>\n",
              "      <th>0</th>\n",
              "      <td>7.0</td>\n",
              "      <td>70.0</td>\n",
              "      <td>700.0</td>\n",
              "    </tr>\n",
              "    <tr>\n",
              "      <th>1</th>\n",
              "      <td>9.0</td>\n",
              "      <td>90.0</td>\n",
              "      <td>900.0</td>\n",
              "    </tr>\n",
              "    <tr>\n",
              "      <th>2</th>\n",
              "      <td>11.0</td>\n",
              "      <td>110.0</td>\n",
              "      <td>1100.0</td>\n",
              "    </tr>\n",
              "    <tr>\n",
              "      <th>3</th>\n",
              "      <td>NaN</td>\n",
              "      <td>NaN</td>\n",
              "      <td>NaN</td>\n",
              "    </tr>\n",
              "    <tr>\n",
              "      <th>4</th>\n",
              "      <td>NaN</td>\n",
              "      <td>NaN</td>\n",
              "      <td>NaN</td>\n",
              "    </tr>\n",
              "  </tbody>\n",
              "</table>\n",
              "</div>"
            ],
            "text/plain": [
              "      A      B       C\n",
              "0   7.0   70.0   700.0\n",
              "1   9.0   90.0   900.0\n",
              "2  11.0  110.0  1100.0\n",
              "3   NaN    NaN     NaN\n",
              "4   NaN    NaN     NaN"
            ]
          },
          "metadata": {
            "tags": []
          },
          "execution_count": 13
        }
      ]
    },
    {
      "cell_type": "markdown",
      "metadata": {
        "id": "CzbuFe4gpWqK"
      },
      "source": [
        "DataFrame도 연산할 수 있는 항목끼리만 연산하고  \n",
        "그렇지 못한 항목은 NaN으로 표시된다"
      ]
    },
    {
      "cell_type": "markdown",
      "metadata": {
        "id": "vvymzcDCpr7J"
      },
      "source": [
        "### 통계 분석"
      ]
    },
    {
      "cell_type": "markdown",
      "metadata": {
        "id": "nUoqIV2ewwyY"
      },
      "source": [
        "**pandas 에서 제공하는 통계 메서드**  \n",
        "sum() : 합  \n",
        "mean() : 평균  \n",
        "std() : 표준 편차  \n",
        "var() : 분산  \n",
        "min()  :  최소값  \n",
        "max()  : 최대값  \n",
        "cumsum()  : 누적 합  \n",
        "cumprod() : 누적 곱  "
      ]
    },
    {
      "cell_type": "markdown",
      "metadata": {
        "id": "aMPAExJYpwtY"
      },
      "source": [
        "총합, 평균, 표준편차 구하기"
      ]
    },
    {
      "cell_type": "code",
      "metadata": {
        "colab": {
          "base_uri": "https://localhost:8080/",
          "height": 204
        },
        "id": "-xwbi6gepvrK",
        "outputId": "3072a36a-e439-4e46-b006-554946217779"
      },
      "source": [
        "table_data3 = {'봄':[256.5, 264.3, 215.9, 223.2, 312.8],\n",
        "               '여름':[770.6, 567.5, 599.8, 387.1, 446.2],\n",
        "               '가을':[363.5, 231.2, 293.1, 247.7, 381.6],\n",
        "               '겨울':[139.3, 59.9, 76.9, 109.1, 108.1]}\n",
        "columns_list = ['봄', '여름', '가을', '겨울']\n",
        "index_list = ['2012','2013','2014','2015','2016']\n",
        "\n",
        "df3 = pd.DataFrame(table_data3, columns=columns_list, index=index_list)\n",
        "df3"
      ],
      "execution_count": 14,
      "outputs": [
        {
          "output_type": "execute_result",
          "data": {
            "text/html": [
              "<div>\n",
              "<style scoped>\n",
              "    .dataframe tbody tr th:only-of-type {\n",
              "        vertical-align: middle;\n",
              "    }\n",
              "\n",
              "    .dataframe tbody tr th {\n",
              "        vertical-align: top;\n",
              "    }\n",
              "\n",
              "    .dataframe thead th {\n",
              "        text-align: right;\n",
              "    }\n",
              "</style>\n",
              "<table border=\"1\" class=\"dataframe\">\n",
              "  <thead>\n",
              "    <tr style=\"text-align: right;\">\n",
              "      <th></th>\n",
              "      <th>봄</th>\n",
              "      <th>여름</th>\n",
              "      <th>가을</th>\n",
              "      <th>겨울</th>\n",
              "    </tr>\n",
              "  </thead>\n",
              "  <tbody>\n",
              "    <tr>\n",
              "      <th>2012</th>\n",
              "      <td>256.5</td>\n",
              "      <td>770.6</td>\n",
              "      <td>363.5</td>\n",
              "      <td>139.3</td>\n",
              "    </tr>\n",
              "    <tr>\n",
              "      <th>2013</th>\n",
              "      <td>264.3</td>\n",
              "      <td>567.5</td>\n",
              "      <td>231.2</td>\n",
              "      <td>59.9</td>\n",
              "    </tr>\n",
              "    <tr>\n",
              "      <th>2014</th>\n",
              "      <td>215.9</td>\n",
              "      <td>599.8</td>\n",
              "      <td>293.1</td>\n",
              "      <td>76.9</td>\n",
              "    </tr>\n",
              "    <tr>\n",
              "      <th>2015</th>\n",
              "      <td>223.2</td>\n",
              "      <td>387.1</td>\n",
              "      <td>247.7</td>\n",
              "      <td>109.1</td>\n",
              "    </tr>\n",
              "    <tr>\n",
              "      <th>2016</th>\n",
              "      <td>312.8</td>\n",
              "      <td>446.2</td>\n",
              "      <td>381.6</td>\n",
              "      <td>108.1</td>\n",
              "    </tr>\n",
              "  </tbody>\n",
              "</table>\n",
              "</div>"
            ],
            "text/plain": [
              "          봄     여름     가을     겨울\n",
              "2012  256.5  770.6  363.5  139.3\n",
              "2013  264.3  567.5  231.2   59.9\n",
              "2014  215.9  599.8  293.1   76.9\n",
              "2015  223.2  387.1  247.7  109.1\n",
              "2016  312.8  446.2  381.6  108.1"
            ]
          },
          "metadata": {
            "tags": []
          },
          "execution_count": 14
        }
      ]
    },
    {
      "cell_type": "code",
      "metadata": {
        "colab": {
          "base_uri": "https://localhost:8080/"
        },
        "id": "-JE5hFZS4Akj",
        "outputId": "4ea12e4e-dbce-4462-dd1f-d42e8806bd93"
      },
      "source": [
        "df3.sum()"
      ],
      "execution_count": 17,
      "outputs": [
        {
          "output_type": "execute_result",
          "data": {
            "text/plain": [
              "봄     1272.7\n",
              "여름    2771.2\n",
              "가을    1517.1\n",
              "겨울     493.3\n",
              "dtype: float64"
            ]
          },
          "metadata": {
            "tags": []
          },
          "execution_count": 17
        }
      ]
    },
    {
      "cell_type": "code",
      "metadata": {
        "colab": {
          "base_uri": "https://localhost:8080/"
        },
        "id": "xzc-AgVa2-HA",
        "outputId": "f92d5a9e-35b5-4690-ff14-ef636832bd60"
      },
      "source": [
        "df3.mean()"
      ],
      "execution_count": 15,
      "outputs": [
        {
          "output_type": "execute_result",
          "data": {
            "text/plain": [
              "봄     254.54\n",
              "여름    554.24\n",
              "가을    303.42\n",
              "겨울     98.66\n",
              "dtype: float64"
            ]
          },
          "metadata": {
            "tags": []
          },
          "execution_count": 15
        }
      ]
    },
    {
      "cell_type": "code",
      "metadata": {
        "colab": {
          "base_uri": "https://localhost:8080/"
        },
        "id": "aNuKrz7L3-PO",
        "outputId": "5bb2c610-41cb-4b6d-d58f-ded6e856c5cf"
      },
      "source": [
        "df3.std()"
      ],
      "execution_count": 16,
      "outputs": [
        {
          "output_type": "execute_result",
          "data": {
            "text/plain": [
              "봄      38.628267\n",
              "여름    148.888895\n",
              "가을     67.358496\n",
              "겨울     30.925523\n",
              "dtype: float64"
            ]
          },
          "metadata": {
            "tags": []
          },
          "execution_count": 16
        }
      ]
    },
    {
      "cell_type": "markdown",
      "metadata": {
        "id": "18qI9xr09exK"
      },
      "source": [
        "describe() : 평균, 표준 편차, 최소값, 최대값을 한번에 구한다"
      ]
    },
    {
      "cell_type": "code",
      "metadata": {
        "id": "UixXd7jO9mY9",
        "outputId": "d127b2e5-45c7-4c50-d5ff-86140618dc43",
        "colab": {
          "base_uri": "https://localhost:8080/",
          "height": 297
        }
      },
      "source": [
        "df3.describe()"
      ],
      "execution_count": 18,
      "outputs": [
        {
          "output_type": "execute_result",
          "data": {
            "text/html": [
              "<div>\n",
              "<style scoped>\n",
              "    .dataframe tbody tr th:only-of-type {\n",
              "        vertical-align: middle;\n",
              "    }\n",
              "\n",
              "    .dataframe tbody tr th {\n",
              "        vertical-align: top;\n",
              "    }\n",
              "\n",
              "    .dataframe thead th {\n",
              "        text-align: right;\n",
              "    }\n",
              "</style>\n",
              "<table border=\"1\" class=\"dataframe\">\n",
              "  <thead>\n",
              "    <tr style=\"text-align: right;\">\n",
              "      <th></th>\n",
              "      <th>봄</th>\n",
              "      <th>여름</th>\n",
              "      <th>가을</th>\n",
              "      <th>겨울</th>\n",
              "    </tr>\n",
              "  </thead>\n",
              "  <tbody>\n",
              "    <tr>\n",
              "      <th>count</th>\n",
              "      <td>5.000000</td>\n",
              "      <td>5.000000</td>\n",
              "      <td>5.000000</td>\n",
              "      <td>5.000000</td>\n",
              "    </tr>\n",
              "    <tr>\n",
              "      <th>mean</th>\n",
              "      <td>254.540000</td>\n",
              "      <td>554.240000</td>\n",
              "      <td>303.420000</td>\n",
              "      <td>98.660000</td>\n",
              "    </tr>\n",
              "    <tr>\n",
              "      <th>std</th>\n",
              "      <td>38.628267</td>\n",
              "      <td>148.888895</td>\n",
              "      <td>67.358496</td>\n",
              "      <td>30.925523</td>\n",
              "    </tr>\n",
              "    <tr>\n",
              "      <th>min</th>\n",
              "      <td>215.900000</td>\n",
              "      <td>387.100000</td>\n",
              "      <td>231.200000</td>\n",
              "      <td>59.900000</td>\n",
              "    </tr>\n",
              "    <tr>\n",
              "      <th>25%</th>\n",
              "      <td>223.200000</td>\n",
              "      <td>446.200000</td>\n",
              "      <td>247.700000</td>\n",
              "      <td>76.900000</td>\n",
              "    </tr>\n",
              "    <tr>\n",
              "      <th>50%</th>\n",
              "      <td>256.500000</td>\n",
              "      <td>567.500000</td>\n",
              "      <td>293.100000</td>\n",
              "      <td>108.100000</td>\n",
              "    </tr>\n",
              "    <tr>\n",
              "      <th>75%</th>\n",
              "      <td>264.300000</td>\n",
              "      <td>599.800000</td>\n",
              "      <td>363.500000</td>\n",
              "      <td>109.100000</td>\n",
              "    </tr>\n",
              "    <tr>\n",
              "      <th>max</th>\n",
              "      <td>312.800000</td>\n",
              "      <td>770.600000</td>\n",
              "      <td>381.600000</td>\n",
              "      <td>139.300000</td>\n",
              "    </tr>\n",
              "  </tbody>\n",
              "</table>\n",
              "</div>"
            ],
            "text/plain": [
              "                봄          여름          가을          겨울\n",
              "count    5.000000    5.000000    5.000000    5.000000\n",
              "mean   254.540000  554.240000  303.420000   98.660000\n",
              "std     38.628267  148.888895   67.358496   30.925523\n",
              "min    215.900000  387.100000  231.200000   59.900000\n",
              "25%    223.200000  446.200000  247.700000   76.900000\n",
              "50%    256.500000  567.500000  293.100000  108.100000\n",
              "75%    264.300000  599.800000  363.500000  109.100000\n",
              "max    312.800000  770.600000  381.600000  139.300000"
            ]
          },
          "metadata": {
            "tags": []
          },
          "execution_count": 18
        }
      ]
    }
  ]
}