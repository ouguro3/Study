{
  "nbformat": 4,
  "nbformat_minor": 0,
  "metadata": {
    "colab": {
      "name": "04_pandas_DataSelect.ipynb",
      "provenance": []
    },
    "kernelspec": {
      "name": "python3",
      "display_name": "Python 3"
    },
    "language_info": {
      "name": "python"
    }
  },
  "cells": [
    {
      "cell_type": "markdown",
      "metadata": {
        "id": "I5wKPpUnoyt4"
      },
      "source": [
        "## 데이터를 원하는 대로 선택하기"
      ]
    },
    {
      "cell_type": "code",
      "metadata": {
        "id": "MRJ7VPc5oPkj"
      },
      "source": [
        "import pandas as pd\n",
        "import numpy as np"
      ],
      "execution_count": 3,
      "outputs": []
    },
    {
      "cell_type": "code",
      "metadata": {
        "id": "QN4pFlGUpA_o"
      },
      "source": [
        "KTX_data = {'경부선 KTX':[39060, 39896, 42005, 43621, 41702, 41266, 32427],\n",
        "            '호남선 KTX':[7313, 6967, 6873, 6626, 8675, 10622, 9228],\n",
        "            '경전선 KTX':[3627, 4168, 4088, 4424, 4606, 4984, 5570],\n",
        "            '전라선 KTX':[309, 1771, 1954, 2244, 3146, 3945, 5766],\n",
        "            '동해선 KTX':[np.nan,np.nan, np.nan, np.nan, 2395, 3786, 6667]}\n",
        "col_list = ['경부선 KTX','호남선 KTX','경전선 KTX','전라선 KTX','동해선 KTX']\n",
        "index_list = ['2011', '2012', '2013', '2014', '2015', '2016', '2017']"
      ],
      "execution_count": 4,
      "outputs": []
    },
    {
      "cell_type": "code",
      "metadata": {
        "colab": {
          "base_uri": "https://localhost:8080/",
          "height": 266
        },
        "id": "8ugpQ-xXqP3d",
        "outputId": "9b7fa104-f74c-411a-9a7f-ee67b2054306"
      },
      "source": [
        "df_KTX = pd.DataFrame(KTX_data, columns=col_list, index=index_list)\n",
        "df_KTX"
      ],
      "execution_count": 5,
      "outputs": [
        {
          "output_type": "execute_result",
          "data": {
            "text/html": [
              "<div>\n",
              "<style scoped>\n",
              "    .dataframe tbody tr th:only-of-type {\n",
              "        vertical-align: middle;\n",
              "    }\n",
              "\n",
              "    .dataframe tbody tr th {\n",
              "        vertical-align: top;\n",
              "    }\n",
              "\n",
              "    .dataframe thead th {\n",
              "        text-align: right;\n",
              "    }\n",
              "</style>\n",
              "<table border=\"1\" class=\"dataframe\">\n",
              "  <thead>\n",
              "    <tr style=\"text-align: right;\">\n",
              "      <th></th>\n",
              "      <th>경부선 KTX</th>\n",
              "      <th>호남선 KTX</th>\n",
              "      <th>경전선 KTX</th>\n",
              "      <th>전라선 KTX</th>\n",
              "      <th>동해선 KTX</th>\n",
              "    </tr>\n",
              "  </thead>\n",
              "  <tbody>\n",
              "    <tr>\n",
              "      <th>2011</th>\n",
              "      <td>39060</td>\n",
              "      <td>7313</td>\n",
              "      <td>3627</td>\n",
              "      <td>309</td>\n",
              "      <td>NaN</td>\n",
              "    </tr>\n",
              "    <tr>\n",
              "      <th>2012</th>\n",
              "      <td>39896</td>\n",
              "      <td>6967</td>\n",
              "      <td>4168</td>\n",
              "      <td>1771</td>\n",
              "      <td>NaN</td>\n",
              "    </tr>\n",
              "    <tr>\n",
              "      <th>2013</th>\n",
              "      <td>42005</td>\n",
              "      <td>6873</td>\n",
              "      <td>4088</td>\n",
              "      <td>1954</td>\n",
              "      <td>NaN</td>\n",
              "    </tr>\n",
              "    <tr>\n",
              "      <th>2014</th>\n",
              "      <td>43621</td>\n",
              "      <td>6626</td>\n",
              "      <td>4424</td>\n",
              "      <td>2244</td>\n",
              "      <td>NaN</td>\n",
              "    </tr>\n",
              "    <tr>\n",
              "      <th>2015</th>\n",
              "      <td>41702</td>\n",
              "      <td>8675</td>\n",
              "      <td>4606</td>\n",
              "      <td>3146</td>\n",
              "      <td>2395.0</td>\n",
              "    </tr>\n",
              "    <tr>\n",
              "      <th>2016</th>\n",
              "      <td>41266</td>\n",
              "      <td>10622</td>\n",
              "      <td>4984</td>\n",
              "      <td>3945</td>\n",
              "      <td>3786.0</td>\n",
              "    </tr>\n",
              "    <tr>\n",
              "      <th>2017</th>\n",
              "      <td>32427</td>\n",
              "      <td>9228</td>\n",
              "      <td>5570</td>\n",
              "      <td>5766</td>\n",
              "      <td>6667.0</td>\n",
              "    </tr>\n",
              "  </tbody>\n",
              "</table>\n",
              "</div>"
            ],
            "text/plain": [
              "      경부선 KTX  호남선 KTX  경전선 KTX  전라선 KTX  동해선 KTX\n",
              "2011    39060     7313     3627      309      NaN\n",
              "2012    39896     6967     4168     1771      NaN\n",
              "2013    42005     6873     4088     1954      NaN\n",
              "2014    43621     6626     4424     2244      NaN\n",
              "2015    41702     8675     4606     3146   2395.0\n",
              "2016    41266    10622     4984     3945   3786.0\n",
              "2017    32427     9228     5570     5766   6667.0"
            ]
          },
          "metadata": {
            "tags": []
          },
          "execution_count": 5
        }
      ]
    },
    {
      "cell_type": "markdown",
      "metadata": {
        "id": "Xt-b3e-YqpyD"
      },
      "source": [
        "### DataFrame 데이터의 index, columns, values 확인 "
      ]
    },
    {
      "cell_type": "code",
      "metadata": {
        "colab": {
          "base_uri": "https://localhost:8080/"
        },
        "id": "uQEo5sbMqvuH",
        "outputId": "c518cd19-8888-42f9-dbef-16cf8c8997d8"
      },
      "source": [
        "df_KTX.index"
      ],
      "execution_count": 6,
      "outputs": [
        {
          "output_type": "execute_result",
          "data": {
            "text/plain": [
              "Index(['2011', '2012', '2013', '2014', '2015', '2016', '2017'], dtype='object')"
            ]
          },
          "metadata": {
            "tags": []
          },
          "execution_count": 6
        }
      ]
    },
    {
      "cell_type": "code",
      "metadata": {
        "colab": {
          "base_uri": "https://localhost:8080/"
        },
        "id": "DIa_1u2uqyI7",
        "outputId": "2184bccc-0645-4bfd-a7f5-34d4c9649a5d"
      },
      "source": [
        "df_KTX.columns"
      ],
      "execution_count": 7,
      "outputs": [
        {
          "output_type": "execute_result",
          "data": {
            "text/plain": [
              "Index(['경부선 KTX', '호남선 KTX', '경전선 KTX', '전라선 KTX', '동해선 KTX'], dtype='object')"
            ]
          },
          "metadata": {
            "tags": []
          },
          "execution_count": 7
        }
      ]
    },
    {
      "cell_type": "code",
      "metadata": {
        "colab": {
          "base_uri": "https://localhost:8080/"
        },
        "id": "lSZvPsK6qydH",
        "outputId": "69d19ecb-a806-4fd3-d729-82e39e78dcfa"
      },
      "source": [
        "df_KTX.values"
      ],
      "execution_count": 8,
      "outputs": [
        {
          "output_type": "execute_result",
          "data": {
            "text/plain": [
              "array([[39060.,  7313.,  3627.,   309.,    nan],\n",
              "       [39896.,  6967.,  4168.,  1771.,    nan],\n",
              "       [42005.,  6873.,  4088.,  1954.,    nan],\n",
              "       [43621.,  6626.,  4424.,  2244.,    nan],\n",
              "       [41702.,  8675.,  4606.,  3146.,  2395.],\n",
              "       [41266., 10622.,  4984.,  3945.,  3786.],\n",
              "       [32427.,  9228.,  5570.,  5766.,  6667.]])"
            ]
          },
          "metadata": {
            "tags": []
          },
          "execution_count": 8
        }
      ]
    },
    {
      "cell_type": "markdown",
      "metadata": {
        "id": "dIZV7-xfrGMg"
      },
      "source": [
        "### DataFrame 의 처음 일부분과 끝 일부분 선택"
      ]
    },
    {
      "cell_type": "code",
      "metadata": {
        "colab": {
          "base_uri": "https://localhost:8080/",
          "height": 204
        },
        "id": "2ZdARyM0rN5k",
        "outputId": "7f80625d-6fc4-4599-d00b-7066be683dde"
      },
      "source": [
        "df_KTX.head()"
      ],
      "execution_count": 9,
      "outputs": [
        {
          "output_type": "execute_result",
          "data": {
            "text/html": [
              "<div>\n",
              "<style scoped>\n",
              "    .dataframe tbody tr th:only-of-type {\n",
              "        vertical-align: middle;\n",
              "    }\n",
              "\n",
              "    .dataframe tbody tr th {\n",
              "        vertical-align: top;\n",
              "    }\n",
              "\n",
              "    .dataframe thead th {\n",
              "        text-align: right;\n",
              "    }\n",
              "</style>\n",
              "<table border=\"1\" class=\"dataframe\">\n",
              "  <thead>\n",
              "    <tr style=\"text-align: right;\">\n",
              "      <th></th>\n",
              "      <th>경부선 KTX</th>\n",
              "      <th>호남선 KTX</th>\n",
              "      <th>경전선 KTX</th>\n",
              "      <th>전라선 KTX</th>\n",
              "      <th>동해선 KTX</th>\n",
              "    </tr>\n",
              "  </thead>\n",
              "  <tbody>\n",
              "    <tr>\n",
              "      <th>2011</th>\n",
              "      <td>39060</td>\n",
              "      <td>7313</td>\n",
              "      <td>3627</td>\n",
              "      <td>309</td>\n",
              "      <td>NaN</td>\n",
              "    </tr>\n",
              "    <tr>\n",
              "      <th>2012</th>\n",
              "      <td>39896</td>\n",
              "      <td>6967</td>\n",
              "      <td>4168</td>\n",
              "      <td>1771</td>\n",
              "      <td>NaN</td>\n",
              "    </tr>\n",
              "    <tr>\n",
              "      <th>2013</th>\n",
              "      <td>42005</td>\n",
              "      <td>6873</td>\n",
              "      <td>4088</td>\n",
              "      <td>1954</td>\n",
              "      <td>NaN</td>\n",
              "    </tr>\n",
              "    <tr>\n",
              "      <th>2014</th>\n",
              "      <td>43621</td>\n",
              "      <td>6626</td>\n",
              "      <td>4424</td>\n",
              "      <td>2244</td>\n",
              "      <td>NaN</td>\n",
              "    </tr>\n",
              "    <tr>\n",
              "      <th>2015</th>\n",
              "      <td>41702</td>\n",
              "      <td>8675</td>\n",
              "      <td>4606</td>\n",
              "      <td>3146</td>\n",
              "      <td>2395.0</td>\n",
              "    </tr>\n",
              "  </tbody>\n",
              "</table>\n",
              "</div>"
            ],
            "text/plain": [
              "      경부선 KTX  호남선 KTX  경전선 KTX  전라선 KTX  동해선 KTX\n",
              "2011    39060     7313     3627      309      NaN\n",
              "2012    39896     6967     4168     1771      NaN\n",
              "2013    42005     6873     4088     1954      NaN\n",
              "2014    43621     6626     4424     2244      NaN\n",
              "2015    41702     8675     4606     3146   2395.0"
            ]
          },
          "metadata": {
            "tags": []
          },
          "execution_count": 9
        }
      ]
    },
    {
      "cell_type": "code",
      "metadata": {
        "colab": {
          "base_uri": "https://localhost:8080/",
          "height": 204
        },
        "id": "NNdtxPnOrRr2",
        "outputId": "d0e89ae8-6965-4e51-ff26-ba908ad0c2ac"
      },
      "source": [
        "df_KTX.tail()"
      ],
      "execution_count": 10,
      "outputs": [
        {
          "output_type": "execute_result",
          "data": {
            "text/html": [
              "<div>\n",
              "<style scoped>\n",
              "    .dataframe tbody tr th:only-of-type {\n",
              "        vertical-align: middle;\n",
              "    }\n",
              "\n",
              "    .dataframe tbody tr th {\n",
              "        vertical-align: top;\n",
              "    }\n",
              "\n",
              "    .dataframe thead th {\n",
              "        text-align: right;\n",
              "    }\n",
              "</style>\n",
              "<table border=\"1\" class=\"dataframe\">\n",
              "  <thead>\n",
              "    <tr style=\"text-align: right;\">\n",
              "      <th></th>\n",
              "      <th>경부선 KTX</th>\n",
              "      <th>호남선 KTX</th>\n",
              "      <th>경전선 KTX</th>\n",
              "      <th>전라선 KTX</th>\n",
              "      <th>동해선 KTX</th>\n",
              "    </tr>\n",
              "  </thead>\n",
              "  <tbody>\n",
              "    <tr>\n",
              "      <th>2013</th>\n",
              "      <td>42005</td>\n",
              "      <td>6873</td>\n",
              "      <td>4088</td>\n",
              "      <td>1954</td>\n",
              "      <td>NaN</td>\n",
              "    </tr>\n",
              "    <tr>\n",
              "      <th>2014</th>\n",
              "      <td>43621</td>\n",
              "      <td>6626</td>\n",
              "      <td>4424</td>\n",
              "      <td>2244</td>\n",
              "      <td>NaN</td>\n",
              "    </tr>\n",
              "    <tr>\n",
              "      <th>2015</th>\n",
              "      <td>41702</td>\n",
              "      <td>8675</td>\n",
              "      <td>4606</td>\n",
              "      <td>3146</td>\n",
              "      <td>2395.0</td>\n",
              "    </tr>\n",
              "    <tr>\n",
              "      <th>2016</th>\n",
              "      <td>41266</td>\n",
              "      <td>10622</td>\n",
              "      <td>4984</td>\n",
              "      <td>3945</td>\n",
              "      <td>3786.0</td>\n",
              "    </tr>\n",
              "    <tr>\n",
              "      <th>2017</th>\n",
              "      <td>32427</td>\n",
              "      <td>9228</td>\n",
              "      <td>5570</td>\n",
              "      <td>5766</td>\n",
              "      <td>6667.0</td>\n",
              "    </tr>\n",
              "  </tbody>\n",
              "</table>\n",
              "</div>"
            ],
            "text/plain": [
              "      경부선 KTX  호남선 KTX  경전선 KTX  전라선 KTX  동해선 KTX\n",
              "2013    42005     6873     4088     1954      NaN\n",
              "2014    43621     6626     4424     2244      NaN\n",
              "2015    41702     8675     4606     3146   2395.0\n",
              "2016    41266    10622     4984     3945   3786.0\n",
              "2017    32427     9228     5570     5766   6667.0"
            ]
          },
          "metadata": {
            "tags": []
          },
          "execution_count": 10
        }
      ]
    },
    {
      "cell_type": "markdown",
      "metadata": {
        "id": "GixcAiPKrYXA"
      },
      "source": [
        "5개가 default 값,  숫자를 지정할 수 있다"
      ]
    },
    {
      "cell_type": "code",
      "metadata": {
        "colab": {
          "base_uri": "https://localhost:8080/",
          "height": 142
        },
        "id": "sve09F6SreKN",
        "outputId": "a5e14554-8ff4-4f3f-c640-4acc1f09a9a8"
      },
      "source": [
        "df_KTX.head(3)"
      ],
      "execution_count": 12,
      "outputs": [
        {
          "output_type": "execute_result",
          "data": {
            "text/html": [
              "<div>\n",
              "<style scoped>\n",
              "    .dataframe tbody tr th:only-of-type {\n",
              "        vertical-align: middle;\n",
              "    }\n",
              "\n",
              "    .dataframe tbody tr th {\n",
              "        vertical-align: top;\n",
              "    }\n",
              "\n",
              "    .dataframe thead th {\n",
              "        text-align: right;\n",
              "    }\n",
              "</style>\n",
              "<table border=\"1\" class=\"dataframe\">\n",
              "  <thead>\n",
              "    <tr style=\"text-align: right;\">\n",
              "      <th></th>\n",
              "      <th>경부선 KTX</th>\n",
              "      <th>호남선 KTX</th>\n",
              "      <th>경전선 KTX</th>\n",
              "      <th>전라선 KTX</th>\n",
              "      <th>동해선 KTX</th>\n",
              "    </tr>\n",
              "  </thead>\n",
              "  <tbody>\n",
              "    <tr>\n",
              "      <th>2011</th>\n",
              "      <td>39060</td>\n",
              "      <td>7313</td>\n",
              "      <td>3627</td>\n",
              "      <td>309</td>\n",
              "      <td>NaN</td>\n",
              "    </tr>\n",
              "    <tr>\n",
              "      <th>2012</th>\n",
              "      <td>39896</td>\n",
              "      <td>6967</td>\n",
              "      <td>4168</td>\n",
              "      <td>1771</td>\n",
              "      <td>NaN</td>\n",
              "    </tr>\n",
              "    <tr>\n",
              "      <th>2013</th>\n",
              "      <td>42005</td>\n",
              "      <td>6873</td>\n",
              "      <td>4088</td>\n",
              "      <td>1954</td>\n",
              "      <td>NaN</td>\n",
              "    </tr>\n",
              "  </tbody>\n",
              "</table>\n",
              "</div>"
            ],
            "text/plain": [
              "      경부선 KTX  호남선 KTX  경전선 KTX  전라선 KTX  동해선 KTX\n",
              "2011    39060     7313     3627      309      NaN\n",
              "2012    39896     6967     4168     1771      NaN\n",
              "2013    42005     6873     4088     1954      NaN"
            ]
          },
          "metadata": {
            "tags": []
          },
          "execution_count": 12
        }
      ]
    },
    {
      "cell_type": "code",
      "metadata": {
        "colab": {
          "base_uri": "https://localhost:8080/",
          "height": 111
        },
        "id": "fuFnbgkrrizY",
        "outputId": "136f02b6-144e-457d-a42e-3e5d09de6321"
      },
      "source": [
        "df_KTX.tail(2)"
      ],
      "execution_count": 13,
      "outputs": [
        {
          "output_type": "execute_result",
          "data": {
            "text/html": [
              "<div>\n",
              "<style scoped>\n",
              "    .dataframe tbody tr th:only-of-type {\n",
              "        vertical-align: middle;\n",
              "    }\n",
              "\n",
              "    .dataframe tbody tr th {\n",
              "        vertical-align: top;\n",
              "    }\n",
              "\n",
              "    .dataframe thead th {\n",
              "        text-align: right;\n",
              "    }\n",
              "</style>\n",
              "<table border=\"1\" class=\"dataframe\">\n",
              "  <thead>\n",
              "    <tr style=\"text-align: right;\">\n",
              "      <th></th>\n",
              "      <th>경부선 KTX</th>\n",
              "      <th>호남선 KTX</th>\n",
              "      <th>경전선 KTX</th>\n",
              "      <th>전라선 KTX</th>\n",
              "      <th>동해선 KTX</th>\n",
              "    </tr>\n",
              "  </thead>\n",
              "  <tbody>\n",
              "    <tr>\n",
              "      <th>2016</th>\n",
              "      <td>41266</td>\n",
              "      <td>10622</td>\n",
              "      <td>4984</td>\n",
              "      <td>3945</td>\n",
              "      <td>3786.0</td>\n",
              "    </tr>\n",
              "    <tr>\n",
              "      <th>2017</th>\n",
              "      <td>32427</td>\n",
              "      <td>9228</td>\n",
              "      <td>5570</td>\n",
              "      <td>5766</td>\n",
              "      <td>6667.0</td>\n",
              "    </tr>\n",
              "  </tbody>\n",
              "</table>\n",
              "</div>"
            ],
            "text/plain": [
              "      경부선 KTX  호남선 KTX  경전선 KTX  전라선 KTX  동해선 KTX\n",
              "2016    41266    10622     4984     3945   3786.0\n",
              "2017    32427     9228     5570     5766   6667.0"
            ]
          },
          "metadata": {
            "tags": []
          },
          "execution_count": 13
        }
      ]
    },
    {
      "cell_type": "markdown",
      "metadata": {
        "id": "HH4t2MH4twyv"
      },
      "source": [
        "### 연속된 구간의 행 데이터 선택"
      ]
    },
    {
      "cell_type": "code",
      "metadata": {
        "colab": {
          "base_uri": "https://localhost:8080/",
          "height": 80
        },
        "id": "3_d5FFZ_t5fW",
        "outputId": "93094bca-9b1b-4998-bf58-8e8df6316446"
      },
      "source": [
        "df_KTX[1:2]"
      ],
      "execution_count": 14,
      "outputs": [
        {
          "output_type": "execute_result",
          "data": {
            "text/html": [
              "<div>\n",
              "<style scoped>\n",
              "    .dataframe tbody tr th:only-of-type {\n",
              "        vertical-align: middle;\n",
              "    }\n",
              "\n",
              "    .dataframe tbody tr th {\n",
              "        vertical-align: top;\n",
              "    }\n",
              "\n",
              "    .dataframe thead th {\n",
              "        text-align: right;\n",
              "    }\n",
              "</style>\n",
              "<table border=\"1\" class=\"dataframe\">\n",
              "  <thead>\n",
              "    <tr style=\"text-align: right;\">\n",
              "      <th></th>\n",
              "      <th>경부선 KTX</th>\n",
              "      <th>호남선 KTX</th>\n",
              "      <th>경전선 KTX</th>\n",
              "      <th>전라선 KTX</th>\n",
              "      <th>동해선 KTX</th>\n",
              "    </tr>\n",
              "  </thead>\n",
              "  <tbody>\n",
              "    <tr>\n",
              "      <th>2012</th>\n",
              "      <td>39896</td>\n",
              "      <td>6967</td>\n",
              "      <td>4168</td>\n",
              "      <td>1771</td>\n",
              "      <td>NaN</td>\n",
              "    </tr>\n",
              "  </tbody>\n",
              "</table>\n",
              "</div>"
            ],
            "text/plain": [
              "      경부선 KTX  호남선 KTX  경전선 KTX  전라선 KTX  동해선 KTX\n",
              "2012    39896     6967     4168     1771      NaN"
            ]
          },
          "metadata": {
            "tags": []
          },
          "execution_count": 14
        }
      ]
    },
    {
      "cell_type": "code",
      "metadata": {
        "colab": {
          "base_uri": "https://localhost:8080/",
          "height": 142
        },
        "id": "VTODjlvfuAoM",
        "outputId": "9f354692-4856-45b3-a5c9-892478aff3d6"
      },
      "source": [
        "df_KTX[2:5]"
      ],
      "execution_count": 15,
      "outputs": [
        {
          "output_type": "execute_result",
          "data": {
            "text/html": [
              "<div>\n",
              "<style scoped>\n",
              "    .dataframe tbody tr th:only-of-type {\n",
              "        vertical-align: middle;\n",
              "    }\n",
              "\n",
              "    .dataframe tbody tr th {\n",
              "        vertical-align: top;\n",
              "    }\n",
              "\n",
              "    .dataframe thead th {\n",
              "        text-align: right;\n",
              "    }\n",
              "</style>\n",
              "<table border=\"1\" class=\"dataframe\">\n",
              "  <thead>\n",
              "    <tr style=\"text-align: right;\">\n",
              "      <th></th>\n",
              "      <th>경부선 KTX</th>\n",
              "      <th>호남선 KTX</th>\n",
              "      <th>경전선 KTX</th>\n",
              "      <th>전라선 KTX</th>\n",
              "      <th>동해선 KTX</th>\n",
              "    </tr>\n",
              "  </thead>\n",
              "  <tbody>\n",
              "    <tr>\n",
              "      <th>2013</th>\n",
              "      <td>42005</td>\n",
              "      <td>6873</td>\n",
              "      <td>4088</td>\n",
              "      <td>1954</td>\n",
              "      <td>NaN</td>\n",
              "    </tr>\n",
              "    <tr>\n",
              "      <th>2014</th>\n",
              "      <td>43621</td>\n",
              "      <td>6626</td>\n",
              "      <td>4424</td>\n",
              "      <td>2244</td>\n",
              "      <td>NaN</td>\n",
              "    </tr>\n",
              "    <tr>\n",
              "      <th>2015</th>\n",
              "      <td>41702</td>\n",
              "      <td>8675</td>\n",
              "      <td>4606</td>\n",
              "      <td>3146</td>\n",
              "      <td>2395.0</td>\n",
              "    </tr>\n",
              "  </tbody>\n",
              "</table>\n",
              "</div>"
            ],
            "text/plain": [
              "      경부선 KTX  호남선 KTX  경전선 KTX  전라선 KTX  동해선 KTX\n",
              "2013    42005     6873     4088     1954      NaN\n",
              "2014    43621     6626     4424     2244      NaN\n",
              "2015    41702     8675     4606     3146   2395.0"
            ]
          },
          "metadata": {
            "tags": []
          },
          "execution_count": 15
        }
      ]
    },
    {
      "cell_type": "markdown",
      "metadata": {
        "id": "JTlSjryzuGES"
      },
      "source": [
        "### index 항목 이름 지정해 행 선택"
      ]
    },
    {
      "cell_type": "code",
      "metadata": {
        "colab": {
          "base_uri": "https://localhost:8080/"
        },
        "id": "OmKuPeCBuKRQ",
        "outputId": "14da390d-9e7c-4ab5-df14-c77d721ab374"
      },
      "source": [
        "df_KTX.loc['2011'] # 2011년도 데이터만 선택"
      ],
      "execution_count": 16,
      "outputs": [
        {
          "output_type": "execute_result",
          "data": {
            "text/plain": [
              "경부선 KTX    39060.0\n",
              "호남선 KTX     7313.0\n",
              "경전선 KTX     3627.0\n",
              "전라선 KTX      309.0\n",
              "동해선 KTX        NaN\n",
              "Name: 2011, dtype: float64"
            ]
          },
          "metadata": {
            "tags": []
          },
          "execution_count": 16
        }
      ]
    },
    {
      "cell_type": "code",
      "metadata": {
        "colab": {
          "base_uri": "https://localhost:8080/",
          "height": 173
        },
        "id": "_Gjo6e1PuS97",
        "outputId": "31f3cc07-2957-4189-cdf0-cb554ddcc9a5"
      },
      "source": [
        "df_KTX.loc['2013':'2016']"
      ],
      "execution_count": 17,
      "outputs": [
        {
          "output_type": "execute_result",
          "data": {
            "text/html": [
              "<div>\n",
              "<style scoped>\n",
              "    .dataframe tbody tr th:only-of-type {\n",
              "        vertical-align: middle;\n",
              "    }\n",
              "\n",
              "    .dataframe tbody tr th {\n",
              "        vertical-align: top;\n",
              "    }\n",
              "\n",
              "    .dataframe thead th {\n",
              "        text-align: right;\n",
              "    }\n",
              "</style>\n",
              "<table border=\"1\" class=\"dataframe\">\n",
              "  <thead>\n",
              "    <tr style=\"text-align: right;\">\n",
              "      <th></th>\n",
              "      <th>경부선 KTX</th>\n",
              "      <th>호남선 KTX</th>\n",
              "      <th>경전선 KTX</th>\n",
              "      <th>전라선 KTX</th>\n",
              "      <th>동해선 KTX</th>\n",
              "    </tr>\n",
              "  </thead>\n",
              "  <tbody>\n",
              "    <tr>\n",
              "      <th>2013</th>\n",
              "      <td>42005</td>\n",
              "      <td>6873</td>\n",
              "      <td>4088</td>\n",
              "      <td>1954</td>\n",
              "      <td>NaN</td>\n",
              "    </tr>\n",
              "    <tr>\n",
              "      <th>2014</th>\n",
              "      <td>43621</td>\n",
              "      <td>6626</td>\n",
              "      <td>4424</td>\n",
              "      <td>2244</td>\n",
              "      <td>NaN</td>\n",
              "    </tr>\n",
              "    <tr>\n",
              "      <th>2015</th>\n",
              "      <td>41702</td>\n",
              "      <td>8675</td>\n",
              "      <td>4606</td>\n",
              "      <td>3146</td>\n",
              "      <td>2395.0</td>\n",
              "    </tr>\n",
              "    <tr>\n",
              "      <th>2016</th>\n",
              "      <td>41266</td>\n",
              "      <td>10622</td>\n",
              "      <td>4984</td>\n",
              "      <td>3945</td>\n",
              "      <td>3786.0</td>\n",
              "    </tr>\n",
              "  </tbody>\n",
              "</table>\n",
              "</div>"
            ],
            "text/plain": [
              "      경부선 KTX  호남선 KTX  경전선 KTX  전라선 KTX  동해선 KTX\n",
              "2013    42005     6873     4088     1954      NaN\n",
              "2014    43621     6626     4424     2244      NaN\n",
              "2015    41702     8675     4606     3146   2395.0\n",
              "2016    41266    10622     4984     3945   3786.0"
            ]
          },
          "metadata": {
            "tags": []
          },
          "execution_count": 17
        }
      ]
    },
    {
      "cell_type": "markdown",
      "metadata": {
        "id": "m3jJJ3-Eudrz"
      },
      "source": [
        "### 데이터에서 열만 선택"
      ]
    },
    {
      "cell_type": "code",
      "metadata": {
        "colab": {
          "base_uri": "https://localhost:8080/"
        },
        "id": "HG15qOzWuiHE",
        "outputId": "11a032a8-dcf6-443a-bce0-fbbdb4a5743c"
      },
      "source": [
        "df_KTX['경부선 KTX']"
      ],
      "execution_count": 19,
      "outputs": [
        {
          "output_type": "execute_result",
          "data": {
            "text/plain": [
              "2011    39060\n",
              "2012    39896\n",
              "2013    42005\n",
              "2014    43621\n",
              "2015    41702\n",
              "2016    41266\n",
              "2017    32427\n",
              "Name: 경부선 KTX, dtype: int64"
            ]
          },
          "metadata": {
            "tags": []
          },
          "execution_count": 19
        }
      ]
    },
    {
      "cell_type": "markdown",
      "metadata": {
        "id": "P2sI-mtDuo8T"
      },
      "source": [
        "하나의 열을 선택한 후 index 범위 지정해 선택"
      ]
    },
    {
      "cell_type": "code",
      "metadata": {
        "colab": {
          "base_uri": "https://localhost:8080/"
        },
        "id": "vi6cFCRXuuuC",
        "outputId": "3cfa458b-9f05-460d-80a4-5cad85bbb030"
      },
      "source": [
        "df_KTX['경부선 KTX']['2012':'2014']"
      ],
      "execution_count": 20,
      "outputs": [
        {
          "output_type": "execute_result",
          "data": {
            "text/plain": [
              "2012    39896\n",
              "2013    42005\n",
              "2014    43621\n",
              "Name: 경부선 KTX, dtype: int64"
            ]
          },
          "metadata": {
            "tags": []
          },
          "execution_count": 20
        }
      ]
    },
    {
      "cell_type": "code",
      "metadata": {
        "colab": {
          "base_uri": "https://localhost:8080/"
        },
        "id": "TlrkLWxevBvm",
        "outputId": "aa49bc8f-d5af-4ddb-edb2-33769d988801"
      },
      "source": [
        "df_KTX['경부선 KTX'][2:5]"
      ],
      "execution_count": 21,
      "outputs": [
        {
          "output_type": "execute_result",
          "data": {
            "text/plain": [
              "2013    42005\n",
              "2014    43621\n",
              "2015    41702\n",
              "Name: 경부선 KTX, dtype: int64"
            ]
          },
          "metadata": {
            "tags": []
          },
          "execution_count": 21
        }
      ]
    },
    {
      "cell_type": "markdown",
      "metadata": {
        "id": "AJEp0IxVwgrd"
      },
      "source": [
        "### 2016년 호남선 KTX 의 이용자 수 선택"
      ]
    },
    {
      "cell_type": "markdown",
      "metadata": {
        "id": "no82XJ15wllR"
      },
      "source": [
        "여러가지 방법이 있다"
      ]
    },
    {
      "cell_type": "code",
      "metadata": {
        "colab": {
          "base_uri": "https://localhost:8080/"
        },
        "id": "e03pETprwxB6",
        "outputId": "329b6581-f223-41c3-d2c6-1586527feb5b"
      },
      "source": [
        "df_KTX.loc['2016']['호남선 KTX']"
      ],
      "execution_count": 22,
      "outputs": [
        {
          "output_type": "execute_result",
          "data": {
            "text/plain": [
              "10622.0"
            ]
          },
          "metadata": {
            "tags": []
          },
          "execution_count": 22
        }
      ]
    },
    {
      "cell_type": "code",
      "metadata": {
        "colab": {
          "base_uri": "https://localhost:8080/"
        },
        "id": "CpcPl9Y5w3Yz",
        "outputId": "7116b601-93c1-4084-b1e9-49b5d10b8481"
      },
      "source": [
        "df_KTX.loc['2016','호남선 KTX']"
      ],
      "execution_count": 23,
      "outputs": [
        {
          "output_type": "execute_result",
          "data": {
            "text/plain": [
              "10622"
            ]
          },
          "metadata": {
            "tags": []
          },
          "execution_count": 23
        }
      ]
    },
    {
      "cell_type": "code",
      "metadata": {
        "colab": {
          "base_uri": "https://localhost:8080/"
        },
        "id": "GOUpcYG7w-C8",
        "outputId": "af9e83f1-d281-49ba-f0ab-0f69ddc682cf"
      },
      "source": [
        "df_KTX['호남선 KTX']['2016']"
      ],
      "execution_count": 24,
      "outputs": [
        {
          "output_type": "execute_result",
          "data": {
            "text/plain": [
              "10622"
            ]
          },
          "metadata": {
            "tags": []
          },
          "execution_count": 24
        }
      ]
    },
    {
      "cell_type": "code",
      "metadata": {
        "colab": {
          "base_uri": "https://localhost:8080/"
        },
        "id": "Mh-_XddnxEp2",
        "outputId": "5682b2ab-08d2-47e2-ea84-9fb6bb58d4b9"
      },
      "source": [
        "df_KTX['호남선 KTX'][5]"
      ],
      "execution_count": 25,
      "outputs": [
        {
          "output_type": "execute_result",
          "data": {
            "text/plain": [
              "10622"
            ]
          },
          "metadata": {
            "tags": []
          },
          "execution_count": 25
        }
      ]
    },
    {
      "cell_type": "code",
      "metadata": {
        "colab": {
          "base_uri": "https://localhost:8080/"
        },
        "id": "AQdn_kQ6xOCb",
        "outputId": "026ab5c1-5dd8-40aa-d73c-ceb9250c8d42"
      },
      "source": [
        "df_KTX['호남선 KTX'].loc['2016']"
      ],
      "execution_count": 27,
      "outputs": [
        {
          "output_type": "execute_result",
          "data": {
            "text/plain": [
              "10622"
            ]
          },
          "metadata": {
            "tags": []
          },
          "execution_count": 27
        }
      ]
    },
    {
      "cell_type": "markdown",
      "metadata": {
        "id": "YmUuHJ40xklZ"
      },
      "source": [
        "### 데이터의 행과 열 바꾸기"
      ]
    },
    {
      "cell_type": "markdown",
      "metadata": {
        "id": "aYuOITNqxp1h"
      },
      "source": [
        "```\n",
        "DataFrame_data.T\n",
        "```"
      ]
    },
    {
      "cell_type": "code",
      "metadata": {
        "colab": {
          "base_uri": "https://localhost:8080/",
          "height": 204
        },
        "id": "kglo7Ay6xmQk",
        "outputId": "644caf5b-a1e1-48b4-b59f-2eb525d96073"
      },
      "source": [
        "df_KTX.T"
      ],
      "execution_count": 28,
      "outputs": [
        {
          "output_type": "execute_result",
          "data": {
            "text/html": [
              "<div>\n",
              "<style scoped>\n",
              "    .dataframe tbody tr th:only-of-type {\n",
              "        vertical-align: middle;\n",
              "    }\n",
              "\n",
              "    .dataframe tbody tr th {\n",
              "        vertical-align: top;\n",
              "    }\n",
              "\n",
              "    .dataframe thead th {\n",
              "        text-align: right;\n",
              "    }\n",
              "</style>\n",
              "<table border=\"1\" class=\"dataframe\">\n",
              "  <thead>\n",
              "    <tr style=\"text-align: right;\">\n",
              "      <th></th>\n",
              "      <th>2011</th>\n",
              "      <th>2012</th>\n",
              "      <th>2013</th>\n",
              "      <th>2014</th>\n",
              "      <th>2015</th>\n",
              "      <th>2016</th>\n",
              "      <th>2017</th>\n",
              "    </tr>\n",
              "  </thead>\n",
              "  <tbody>\n",
              "    <tr>\n",
              "      <th>경부선 KTX</th>\n",
              "      <td>39060.0</td>\n",
              "      <td>39896.0</td>\n",
              "      <td>42005.0</td>\n",
              "      <td>43621.0</td>\n",
              "      <td>41702.0</td>\n",
              "      <td>41266.0</td>\n",
              "      <td>32427.0</td>\n",
              "    </tr>\n",
              "    <tr>\n",
              "      <th>호남선 KTX</th>\n",
              "      <td>7313.0</td>\n",
              "      <td>6967.0</td>\n",
              "      <td>6873.0</td>\n",
              "      <td>6626.0</td>\n",
              "      <td>8675.0</td>\n",
              "      <td>10622.0</td>\n",
              "      <td>9228.0</td>\n",
              "    </tr>\n",
              "    <tr>\n",
              "      <th>경전선 KTX</th>\n",
              "      <td>3627.0</td>\n",
              "      <td>4168.0</td>\n",
              "      <td>4088.0</td>\n",
              "      <td>4424.0</td>\n",
              "      <td>4606.0</td>\n",
              "      <td>4984.0</td>\n",
              "      <td>5570.0</td>\n",
              "    </tr>\n",
              "    <tr>\n",
              "      <th>전라선 KTX</th>\n",
              "      <td>309.0</td>\n",
              "      <td>1771.0</td>\n",
              "      <td>1954.0</td>\n",
              "      <td>2244.0</td>\n",
              "      <td>3146.0</td>\n",
              "      <td>3945.0</td>\n",
              "      <td>5766.0</td>\n",
              "    </tr>\n",
              "    <tr>\n",
              "      <th>동해선 KTX</th>\n",
              "      <td>NaN</td>\n",
              "      <td>NaN</td>\n",
              "      <td>NaN</td>\n",
              "      <td>NaN</td>\n",
              "      <td>2395.0</td>\n",
              "      <td>3786.0</td>\n",
              "      <td>6667.0</td>\n",
              "    </tr>\n",
              "  </tbody>\n",
              "</table>\n",
              "</div>"
            ],
            "text/plain": [
              "            2011     2012     2013     2014     2015     2016     2017\n",
              "경부선 KTX  39060.0  39896.0  42005.0  43621.0  41702.0  41266.0  32427.0\n",
              "호남선 KTX   7313.0   6967.0   6873.0   6626.0   8675.0  10622.0   9228.0\n",
              "경전선 KTX   3627.0   4168.0   4088.0   4424.0   4606.0   4984.0   5570.0\n",
              "전라선 KTX    309.0   1771.0   1954.0   2244.0   3146.0   3945.0   5766.0\n",
              "동해선 KTX      NaN      NaN      NaN      NaN   2395.0   3786.0   6667.0"
            ]
          },
          "metadata": {
            "tags": []
          },
          "execution_count": 28
        }
      ]
    },
    {
      "cell_type": "markdown",
      "metadata": {
        "id": "q2Y8P_rGx1AW"
      },
      "source": [
        "### 열의 순서 바꾸기 "
      ]
    },
    {
      "cell_type": "code",
      "metadata": {
        "colab": {
          "base_uri": "https://localhost:8080/",
          "height": 266
        },
        "id": "p6Ir_Jjlx4F3",
        "outputId": "10776193-9326-4dc7-ad78-8fa15a1ed03c"
      },
      "source": [
        "df_KTX[['동해선 KTX', '전라선 KTX', '경전선 KTX', '호남선 KTX', '경부선 KTX']]"
      ],
      "execution_count": 30,
      "outputs": [
        {
          "output_type": "execute_result",
          "data": {
            "text/html": [
              "<div>\n",
              "<style scoped>\n",
              "    .dataframe tbody tr th:only-of-type {\n",
              "        vertical-align: middle;\n",
              "    }\n",
              "\n",
              "    .dataframe tbody tr th {\n",
              "        vertical-align: top;\n",
              "    }\n",
              "\n",
              "    .dataframe thead th {\n",
              "        text-align: right;\n",
              "    }\n",
              "</style>\n",
              "<table border=\"1\" class=\"dataframe\">\n",
              "  <thead>\n",
              "    <tr style=\"text-align: right;\">\n",
              "      <th></th>\n",
              "      <th>동해선 KTX</th>\n",
              "      <th>전라선 KTX</th>\n",
              "      <th>경전선 KTX</th>\n",
              "      <th>호남선 KTX</th>\n",
              "      <th>경부선 KTX</th>\n",
              "    </tr>\n",
              "  </thead>\n",
              "  <tbody>\n",
              "    <tr>\n",
              "      <th>2011</th>\n",
              "      <td>NaN</td>\n",
              "      <td>309</td>\n",
              "      <td>3627</td>\n",
              "      <td>7313</td>\n",
              "      <td>39060</td>\n",
              "    </tr>\n",
              "    <tr>\n",
              "      <th>2012</th>\n",
              "      <td>NaN</td>\n",
              "      <td>1771</td>\n",
              "      <td>4168</td>\n",
              "      <td>6967</td>\n",
              "      <td>39896</td>\n",
              "    </tr>\n",
              "    <tr>\n",
              "      <th>2013</th>\n",
              "      <td>NaN</td>\n",
              "      <td>1954</td>\n",
              "      <td>4088</td>\n",
              "      <td>6873</td>\n",
              "      <td>42005</td>\n",
              "    </tr>\n",
              "    <tr>\n",
              "      <th>2014</th>\n",
              "      <td>NaN</td>\n",
              "      <td>2244</td>\n",
              "      <td>4424</td>\n",
              "      <td>6626</td>\n",
              "      <td>43621</td>\n",
              "    </tr>\n",
              "    <tr>\n",
              "      <th>2015</th>\n",
              "      <td>2395.0</td>\n",
              "      <td>3146</td>\n",
              "      <td>4606</td>\n",
              "      <td>8675</td>\n",
              "      <td>41702</td>\n",
              "    </tr>\n",
              "    <tr>\n",
              "      <th>2016</th>\n",
              "      <td>3786.0</td>\n",
              "      <td>3945</td>\n",
              "      <td>4984</td>\n",
              "      <td>10622</td>\n",
              "      <td>41266</td>\n",
              "    </tr>\n",
              "    <tr>\n",
              "      <th>2017</th>\n",
              "      <td>6667.0</td>\n",
              "      <td>5766</td>\n",
              "      <td>5570</td>\n",
              "      <td>9228</td>\n",
              "      <td>32427</td>\n",
              "    </tr>\n",
              "  </tbody>\n",
              "</table>\n",
              "</div>"
            ],
            "text/plain": [
              "      동해선 KTX  전라선 KTX  경전선 KTX  호남선 KTX  경부선 KTX\n",
              "2011      NaN      309     3627     7313    39060\n",
              "2012      NaN     1771     4168     6967    39896\n",
              "2013      NaN     1954     4088     6873    42005\n",
              "2014      NaN     2244     4424     6626    43621\n",
              "2015   2395.0     3146     4606     8675    41702\n",
              "2016   3786.0     3945     4984    10622    41266\n",
              "2017   6667.0     5766     5570     9228    32427"
            ]
          },
          "metadata": {
            "tags": []
          },
          "execution_count": 30
        }
      ]
    }
  ]
}