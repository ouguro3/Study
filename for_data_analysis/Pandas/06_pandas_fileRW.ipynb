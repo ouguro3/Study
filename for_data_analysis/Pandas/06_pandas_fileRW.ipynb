{
  "nbformat": 4,
  "nbformat_minor": 0,
  "metadata": {
    "colab": {
      "name": "06_fileRW.ipynb",
      "provenance": []
    },
    "kernelspec": {
      "name": "python3",
      "display_name": "Python 3"
    },
    "language_info": {
      "name": "python"
    }
  },
  "cells": [
    {
      "cell_type": "markdown",
      "metadata": {
        "id": "bhMaJorYOtYj"
      },
      "source": [
        "## 데이터 파일을 읽고 쓰기"
      ]
    },
    {
      "cell_type": "markdown",
      "metadata": {
        "id": "QBlklNM0O0Wh"
      },
      "source": [
        "### 표 형식의 데이터 파일을 읽기\n",
        "\n",
        "pandas에서는 표 형식의 데이터 파일을 읽어 오는 몇가지의 방법이 있는데,  \n",
        "\n",
        "그중 대표적인것이 read_csv() 이다\n",
        "\n",
        "`DataFrame_data = pd.read_csv(file_name[, options]`"
      ]
    },
    {
      "cell_type": "markdown",
      "metadata": {
        "id": "UoYrhBN3TXTh"
      },
      "source": [
        "**csv 파일 작성**"
      ]
    },
    {
      "cell_type": "code",
      "metadata": {
        "colab": {
          "base_uri": "https://localhost:8080/"
        },
        "id": "Lf-0_qQWOeTm",
        "outputId": "c9a40b90-db8c-4f3b-b8be-983fdf279d4a"
      },
      "source": [
        "%%writefile sea_rain1.csv\n",
        "연도,동해,남해,서해,전체\n",
        "1996,17.4629,17.2288,14.436,15.9067\n",
        "1997,17.4116,17.4092,14.8248,16.1526\n",
        "1998,17.5944,18.011,15.2512,16.6044\n",
        "1999,18.1495,18.3175,14.8979,16.6284\n",
        "2000,17.9288,18.1766,15.0504,16.6178"
      ],
      "execution_count": 7,
      "outputs": [
        {
          "output_type": "stream",
          "text": [
            "Overwriting sea_rain1.csv\n"
          ],
          "name": "stdout"
        }
      ]
    },
    {
      "cell_type": "code",
      "metadata": {
        "colab": {
          "base_uri": "https://localhost:8080/",
          "height": 204
        },
        "id": "DWFl4PF_Q009",
        "outputId": "9475c9b8-48f6-4970-f13c-7ae87ab8a4ad"
      },
      "source": [
        "import pandas as pd\n",
        "\n",
        "pd.read_csv('sea_rain1.csv')"
      ],
      "execution_count": 8,
      "outputs": [
        {
          "output_type": "execute_result",
          "data": {
            "text/html": [
              "<div>\n",
              "<style scoped>\n",
              "    .dataframe tbody tr th:only-of-type {\n",
              "        vertical-align: middle;\n",
              "    }\n",
              "\n",
              "    .dataframe tbody tr th {\n",
              "        vertical-align: top;\n",
              "    }\n",
              "\n",
              "    .dataframe thead th {\n",
              "        text-align: right;\n",
              "    }\n",
              "</style>\n",
              "<table border=\"1\" class=\"dataframe\">\n",
              "  <thead>\n",
              "    <tr style=\"text-align: right;\">\n",
              "      <th></th>\n",
              "      <th>연도</th>\n",
              "      <th>동해</th>\n",
              "      <th>남해</th>\n",
              "      <th>서해</th>\n",
              "      <th>전체</th>\n",
              "    </tr>\n",
              "  </thead>\n",
              "  <tbody>\n",
              "    <tr>\n",
              "      <th>0</th>\n",
              "      <td>1996</td>\n",
              "      <td>17.4629</td>\n",
              "      <td>17.2288</td>\n",
              "      <td>14.4360</td>\n",
              "      <td>15.9067</td>\n",
              "    </tr>\n",
              "    <tr>\n",
              "      <th>1</th>\n",
              "      <td>1997</td>\n",
              "      <td>17.4116</td>\n",
              "      <td>17.4092</td>\n",
              "      <td>14.8248</td>\n",
              "      <td>16.1526</td>\n",
              "    </tr>\n",
              "    <tr>\n",
              "      <th>2</th>\n",
              "      <td>1998</td>\n",
              "      <td>17.5944</td>\n",
              "      <td>18.0110</td>\n",
              "      <td>15.2512</td>\n",
              "      <td>16.6044</td>\n",
              "    </tr>\n",
              "    <tr>\n",
              "      <th>3</th>\n",
              "      <td>1999</td>\n",
              "      <td>18.1495</td>\n",
              "      <td>18.3175</td>\n",
              "      <td>14.8979</td>\n",
              "      <td>16.6284</td>\n",
              "    </tr>\n",
              "    <tr>\n",
              "      <th>4</th>\n",
              "      <td>2000</td>\n",
              "      <td>17.9288</td>\n",
              "      <td>18.1766</td>\n",
              "      <td>15.0504</td>\n",
              "      <td>16.6178</td>\n",
              "    </tr>\n",
              "  </tbody>\n",
              "</table>\n",
              "</div>"
            ],
            "text/plain": [
              "     연도       동해       남해       서해       전체\n",
              "0  1996  17.4629  17.2288  14.4360  15.9067\n",
              "1  1997  17.4116  17.4092  14.8248  16.1526\n",
              "2  1998  17.5944  18.0110  15.2512  16.6044\n",
              "3  1999  18.1495  18.3175  14.8979  16.6284\n",
              "4  2000  17.9288  18.1766  15.0504  16.6178"
            ]
          },
          "metadata": {
            "tags": []
          },
          "execution_count": 8
        }
      ]
    },
    {
      "cell_type": "markdown",
      "metadata": {
        "id": "zTIpi9i6TpOv"
      },
      "source": [
        "만약 텍스트 파일이 ,가 아닌 공백으로 구분되어 있다면  \n",
        "`read_csv()` 에 `sep=' '` 옵션을 추가해준다 😎"
      ]
    },
    {
      "cell_type": "code",
      "metadata": {
        "colab": {
          "base_uri": "https://localhost:8080/"
        },
        "id": "5zdv9tKTw_Sy",
        "outputId": "6d21abaf-ea03-48b2-b61a-6f1823ed58ac"
      },
      "source": [
        "%%writefile sea_rain1.txt\n",
        "연도 동해 남해 서해 전체\n",
        "1996 17.4629 17.2288 14.436 15.9067\n",
        "1997 17.4116 17.4092 14.8248 16.1526\n",
        "1998 17.5944 18.011 15.2512 16.6044\n",
        "1999 18.1495 18.3175 14.8979 16.6284\n",
        "2000 17.9288 18.1766 15.0504 16.6178"
      ],
      "execution_count": 9,
      "outputs": [
        {
          "output_type": "stream",
          "text": [
            "Writing sea_rain1.txt\n"
          ],
          "name": "stdout"
        }
      ]
    },
    {
      "cell_type": "markdown",
      "metadata": {
        "id": "Xf1eljqYxMYW"
      },
      "source": [
        ""
      ]
    },
    {
      "cell_type": "code",
      "metadata": {
        "colab": {
          "base_uri": "https://localhost:8080/",
          "height": 204
        },
        "id": "-2j9iTwAxMC3",
        "outputId": "583cce52-0050-4b26-9d15-8a3a5c0f590d"
      },
      "source": [
        "pd.read_csv('sea_rain1.txt',sep=' ')"
      ],
      "execution_count": 10,
      "outputs": [
        {
          "output_type": "execute_result",
          "data": {
            "text/html": [
              "<div>\n",
              "<style scoped>\n",
              "    .dataframe tbody tr th:only-of-type {\n",
              "        vertical-align: middle;\n",
              "    }\n",
              "\n",
              "    .dataframe tbody tr th {\n",
              "        vertical-align: top;\n",
              "    }\n",
              "\n",
              "    .dataframe thead th {\n",
              "        text-align: right;\n",
              "    }\n",
              "</style>\n",
              "<table border=\"1\" class=\"dataframe\">\n",
              "  <thead>\n",
              "    <tr style=\"text-align: right;\">\n",
              "      <th></th>\n",
              "      <th>연도</th>\n",
              "      <th>동해</th>\n",
              "      <th>남해</th>\n",
              "      <th>서해</th>\n",
              "      <th>전체</th>\n",
              "    </tr>\n",
              "  </thead>\n",
              "  <tbody>\n",
              "    <tr>\n",
              "      <th>0</th>\n",
              "      <td>1996</td>\n",
              "      <td>17.4629</td>\n",
              "      <td>17.2288</td>\n",
              "      <td>14.4360</td>\n",
              "      <td>15.9067</td>\n",
              "    </tr>\n",
              "    <tr>\n",
              "      <th>1</th>\n",
              "      <td>1997</td>\n",
              "      <td>17.4116</td>\n",
              "      <td>17.4092</td>\n",
              "      <td>14.8248</td>\n",
              "      <td>16.1526</td>\n",
              "    </tr>\n",
              "    <tr>\n",
              "      <th>2</th>\n",
              "      <td>1998</td>\n",
              "      <td>17.5944</td>\n",
              "      <td>18.0110</td>\n",
              "      <td>15.2512</td>\n",
              "      <td>16.6044</td>\n",
              "    </tr>\n",
              "    <tr>\n",
              "      <th>3</th>\n",
              "      <td>1999</td>\n",
              "      <td>18.1495</td>\n",
              "      <td>18.3175</td>\n",
              "      <td>14.8979</td>\n",
              "      <td>16.6284</td>\n",
              "    </tr>\n",
              "    <tr>\n",
              "      <th>4</th>\n",
              "      <td>2000</td>\n",
              "      <td>17.9288</td>\n",
              "      <td>18.1766</td>\n",
              "      <td>15.0504</td>\n",
              "      <td>16.6178</td>\n",
              "    </tr>\n",
              "  </tbody>\n",
              "</table>\n",
              "</div>"
            ],
            "text/plain": [
              "     연도       동해       남해       서해       전체\n",
              "0  1996  17.4629  17.2288  14.4360  15.9067\n",
              "1  1997  17.4116  17.4092  14.8248  16.1526\n",
              "2  1998  17.5944  18.0110  15.2512  16.6044\n",
              "3  1999  18.1495  18.3175  14.8979  16.6284\n",
              "4  2000  17.9288  18.1766  15.0504  16.6178"
            ]
          },
          "metadata": {
            "tags": []
          },
          "execution_count": 10
        }
      ]
    },
    {
      "cell_type": "markdown",
      "metadata": {
        "id": "BCSdZ75lzVBm"
      },
      "source": [
        "  \n",
        "자동으로 생성된 index가 아닌 데이터 파일의 특정 열을 index로 설정하려면  \n",
        "\n",
        "옵션으로 `index_col='열 이름` 을 추가해준다"
      ]
    },
    {
      "cell_type": "code",
      "metadata": {
        "colab": {
          "base_uri": "https://localhost:8080/",
          "height": 235
        },
        "id": "YRbjHywbzm2u",
        "outputId": "26b73e2c-8cf2-451f-896b-9cef261d9ab5"
      },
      "source": [
        "pd.read_csv('sea_rain1.csv',index_col='연도')"
      ],
      "execution_count": 11,
      "outputs": [
        {
          "output_type": "execute_result",
          "data": {
            "text/html": [
              "<div>\n",
              "<style scoped>\n",
              "    .dataframe tbody tr th:only-of-type {\n",
              "        vertical-align: middle;\n",
              "    }\n",
              "\n",
              "    .dataframe tbody tr th {\n",
              "        vertical-align: top;\n",
              "    }\n",
              "\n",
              "    .dataframe thead th {\n",
              "        text-align: right;\n",
              "    }\n",
              "</style>\n",
              "<table border=\"1\" class=\"dataframe\">\n",
              "  <thead>\n",
              "    <tr style=\"text-align: right;\">\n",
              "      <th></th>\n",
              "      <th>동해</th>\n",
              "      <th>남해</th>\n",
              "      <th>서해</th>\n",
              "      <th>전체</th>\n",
              "    </tr>\n",
              "    <tr>\n",
              "      <th>연도</th>\n",
              "      <th></th>\n",
              "      <th></th>\n",
              "      <th></th>\n",
              "      <th></th>\n",
              "    </tr>\n",
              "  </thead>\n",
              "  <tbody>\n",
              "    <tr>\n",
              "      <th>1996</th>\n",
              "      <td>17.4629</td>\n",
              "      <td>17.2288</td>\n",
              "      <td>14.4360</td>\n",
              "      <td>15.9067</td>\n",
              "    </tr>\n",
              "    <tr>\n",
              "      <th>1997</th>\n",
              "      <td>17.4116</td>\n",
              "      <td>17.4092</td>\n",
              "      <td>14.8248</td>\n",
              "      <td>16.1526</td>\n",
              "    </tr>\n",
              "    <tr>\n",
              "      <th>1998</th>\n",
              "      <td>17.5944</td>\n",
              "      <td>18.0110</td>\n",
              "      <td>15.2512</td>\n",
              "      <td>16.6044</td>\n",
              "    </tr>\n",
              "    <tr>\n",
              "      <th>1999</th>\n",
              "      <td>18.1495</td>\n",
              "      <td>18.3175</td>\n",
              "      <td>14.8979</td>\n",
              "      <td>16.6284</td>\n",
              "    </tr>\n",
              "    <tr>\n",
              "      <th>2000</th>\n",
              "      <td>17.9288</td>\n",
              "      <td>18.1766</td>\n",
              "      <td>15.0504</td>\n",
              "      <td>16.6178</td>\n",
              "    </tr>\n",
              "  </tbody>\n",
              "</table>\n",
              "</div>"
            ],
            "text/plain": [
              "           동해       남해       서해       전체\n",
              "연도                                      \n",
              "1996  17.4629  17.2288  14.4360  15.9067\n",
              "1997  17.4116  17.4092  14.8248  16.1526\n",
              "1998  17.5944  18.0110  15.2512  16.6044\n",
              "1999  18.1495  18.3175  14.8979  16.6284\n",
              "2000  17.9288  18.1766  15.0504  16.6178"
            ]
          },
          "metadata": {
            "tags": []
          },
          "execution_count": 11
        }
      ]
    },
    {
      "cell_type": "markdown",
      "metadata": {
        "id": "TQHaR5t30fQL"
      },
      "source": [
        "### 표 형식의 데이터를 파일로 쓰기"
      ]
    },
    {
      "cell_type": "markdown",
      "metadata": {
        "id": "Lvi86LLD0o5h"
      },
      "source": [
        "`DataFrame_data.to_csv(filename[, options])`\n",
        "\n"
      ]
    },
    {
      "cell_type": "code",
      "metadata": {
        "colab": {
          "base_uri": "https://localhost:8080/",
          "height": 204
        },
        "id": "ZEWD8BXZ2Ytv",
        "outputId": "7bf27292-37c0-4676-8f67-ab9285fc5a56"
      },
      "source": [
        "df_pr = pd.DataFrame({'판매가격':[2000, 3000, 5000, 10000],\n",
        "                      '판매량':[32, 53, 40, 25]},\n",
        "                     index=['P1001', 'P1002', 'P1003', 'P1004'])\n",
        "df_pr.index.name = '제품번호'\n",
        "df_pr"
      ],
      "execution_count": 17,
      "outputs": [
        {
          "output_type": "execute_result",
          "data": {
            "text/html": [
              "<div>\n",
              "<style scoped>\n",
              "    .dataframe tbody tr th:only-of-type {\n",
              "        vertical-align: middle;\n",
              "    }\n",
              "\n",
              "    .dataframe tbody tr th {\n",
              "        vertical-align: top;\n",
              "    }\n",
              "\n",
              "    .dataframe thead th {\n",
              "        text-align: right;\n",
              "    }\n",
              "</style>\n",
              "<table border=\"1\" class=\"dataframe\">\n",
              "  <thead>\n",
              "    <tr style=\"text-align: right;\">\n",
              "      <th></th>\n",
              "      <th>판매가격</th>\n",
              "      <th>판매량</th>\n",
              "    </tr>\n",
              "    <tr>\n",
              "      <th>제품번호</th>\n",
              "      <th></th>\n",
              "      <th></th>\n",
              "    </tr>\n",
              "  </thead>\n",
              "  <tbody>\n",
              "    <tr>\n",
              "      <th>P1001</th>\n",
              "      <td>2000</td>\n",
              "      <td>32</td>\n",
              "    </tr>\n",
              "    <tr>\n",
              "      <th>P1002</th>\n",
              "      <td>3000</td>\n",
              "      <td>53</td>\n",
              "    </tr>\n",
              "    <tr>\n",
              "      <th>P1003</th>\n",
              "      <td>5000</td>\n",
              "      <td>40</td>\n",
              "    </tr>\n",
              "    <tr>\n",
              "      <th>P1004</th>\n",
              "      <td>10000</td>\n",
              "      <td>25</td>\n",
              "    </tr>\n",
              "  </tbody>\n",
              "</table>\n",
              "</div>"
            ],
            "text/plain": [
              "        판매가격  판매량\n",
              "제품번호             \n",
              "P1001   2000   32\n",
              "P1002   3000   53\n",
              "P1003   5000   40\n",
              "P1004  10000   25"
            ]
          },
          "metadata": {
            "tags": []
          },
          "execution_count": 17
        }
      ]
    },
    {
      "cell_type": "markdown",
      "metadata": {
        "id": "GnebKS2f21lt"
      },
      "source": [
        "텍스트 파일로 저장 "
      ]
    },
    {
      "cell_type": "code",
      "metadata": {
        "id": "F0sVCoQx23ie"
      },
      "source": [
        "file_name = 'save_DataFrame_cp949.txt'\n",
        "df_pr.to_csv(file_name, sep=' ',encoding='cp949')"
      ],
      "execution_count": 26,
      "outputs": []
    }
  ]
}