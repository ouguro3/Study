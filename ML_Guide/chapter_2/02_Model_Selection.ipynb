{
  "nbformat": 4,
  "nbformat_minor": 0,
  "metadata": {
    "colab": {
      "name": "02_Model_Selection.ipynb",
      "provenance": [],
      "authorship_tag": "ABX9TyMe3i0bCKdvK6twiRXUJ9GX",
      "include_colab_link": true
    },
    "kernelspec": {
      "name": "python3",
      "display_name": "Python 3"
    },
    "language_info": {
      "name": "python"
    }
  },
  "cells": [
    {
      "cell_type": "markdown",
      "metadata": {
        "id": "view-in-github",
        "colab_type": "text"
      },
      "source": [
        "<a href=\"https://colab.research.google.com/github/ouguro3/Study/blob/main/ML_Guide/chapter_2/02_Model_Selection.ipynb\" target=\"_parent\"><img src=\"https://colab.research.google.com/assets/colab-badge.svg\" alt=\"Open In Colab\"/></a>"
      ]
    },
    {
      "cell_type": "markdown",
      "metadata": {
        "id": "SKmqKh_yv9JS"
      },
      "source": [
        "## 모듈 소개"
      ]
    },
    {
      "cell_type": "markdown",
      "metadata": {
        "id": "qVj0eyPTtiSQ"
      },
      "source": [
        "사이킷런의 model_selection 모듈은 학습 데이터와 테스트 데이터 세트를 분리하거나  \n",
        "교차 검증 분할 및 평가, 그리고 Estimator의 하이퍼 파라미터를 튜닝하기 위한  \n",
        "다양한 함수와 클래스를 제공한다"
      ]
    },
    {
      "cell_type": "markdown",
      "metadata": {
        "id": "jvyRBHElv6_4"
      },
      "source": [
        "### 학습/테스트 데이터 세트 분리 - train_test_split()"
      ]
    },
    {
      "cell_type": "markdown",
      "metadata": {
        "id": "FJtP5YSjwurA"
      },
      "source": [
        "사이킷런의 `train_test_split()`을 통해 원본 데이터 세트에서  \n",
        "학습 및 테스트 데이터 세트를 쉽게 분리할 수 있다"
      ]
    },
    {
      "cell_type": "markdown",
      "metadata": {
        "id": "SFKts6b6w7nJ"
      },
      "source": [
        "train_test_split()은 첫 번째 파라미터로 피처 데이터 세트, 두 번째 파라미터로 레이블 데이터 세트를 입력받는다  \n",
        "\n",
        "그리고 선택적으로 다음 파라미터를 입력받는다  \n",
        "\n",
        "- test_size (기본값 : 0.25) : 전체 데이터에서 테스트 데이터 세트 크기를 얼마로 샘플링할 것인가를 결정한다  \n",
        "\n",
        "- train_size : 전체 데이터에서 학습용 데이터 세트 크기를 얼마로 샘플링할 것인가를 결정한다  \n",
        "다만 통상적으로 `test_size`를 사용하므로 잘 쓰이지 않는다  \n",
        "\n",
        "- shuffle (기본값 : True) : 데이터를 분리하기 전에 데이터를 미리 섞을지를 결정한다  \n",
        "데이터를 분산시켜서 좀 더 효율적인 학습 및 테스트 데이터 세트를 만드는 데 사용된다 \n",
        "\n",
        "- random_state : 호출할 때마다 동일한 학습/테스트용 데이터 세트를 생성하기 위해 주어지는 난수값이다  \n",
        "호출 시 무작위로 데이터를 분리하므로 지정하지 않으면 수행할 때마다 다른 학습/테스트용 데이터를 생성한다"
      ]
    },
    {
      "cell_type": "code",
      "metadata": {
        "id": "z6E-WMpYch6R"
      },
      "source": [
        "# 붓꽃 데이터 세트를 train_test_split()을 사용해 테스트 데이터 30% 학습 데이터 70%으로 분리\n",
        "\n",
        "from sklearn.tree import DecisionTreeClassifier\n",
        "from sklearn.metrics import accuracy_score\n",
        "from sklearn.datasets import load_iris\n",
        "from sklearn.model_selection import train_test_split\n",
        "\n",
        "dt_clf = DecisionTreeClassifier()\n",
        "iris_data = load_iris()\n",
        "\n",
        "X_train, X_test, y_train, y_test = train_test_split(iris_data.data, iris_data.target,\n",
        "                                                    test_size=0.3, random_state=121)"
      ],
      "execution_count": 1,
      "outputs": []
    },
    {
      "cell_type": "code",
      "metadata": {
        "colab": {
          "base_uri": "https://localhost:8080/"
        },
        "id": "BSx-Q3JyzZVl",
        "outputId": "c72380d4-b737-4889-a22d-c42307ece9e1"
      },
      "source": [
        "# 예측 정확도 측정\n",
        "dt_clf.fit(X_train, y_train)\n",
        "pred = dt_clf.predict(X_test)\n",
        "print('예측 정확도: {0:.4f}'.format(accuracy_score(y_test, pred)))"
      ],
      "execution_count": 2,
      "outputs": [
        {
          "output_type": "stream",
          "text": [
            "예측 정확도: 0.9556\n"
          ],
          "name": "stdout"
        }
      ]
    },
    {
      "cell_type": "markdown",
      "metadata": {
        "id": "Ut8ZdcGM5WpA"
      },
      "source": [
        "### 교차 검증"
      ]
    },
    {
      "cell_type": "markdown",
      "metadata": {
        "id": "3YzNJMBs_1x5"
      },
      "source": [
        "알고리즘을 학습시키는 학습 데이터와 이에 대한 예측 성능을 평가하기 위한 별도의 테스트 데이터가 필요한데  \n",
        "이 방법 역시 과적합에 취약한 약점을 가질 수 있다  \n",
        "\n",
        "과적합은 모델이 특정 학습 데이터에만 과도하게 최적화되어 다른 데이터에는  \n",
        "예측 성능이 떨어지는것을 말한다  \n",
        "\n",
        "이런 문제점을 개선하기 위해 교차 검증을 이용해 더 다양한 학습과 평가를 수행한다"
      ]
    },
    {
      "cell_type": "markdown",
      "metadata": {
        "id": "r-nP16bNQB_L"
      },
      "source": [
        "#### K 폴드 교차 검증"
      ]
    },
    {
      "cell_type": "markdown",
      "metadata": {
        "id": "K19Z8Z9_QEhq"
      },
      "source": [
        "K 폴드 교차 검증은 가장 보편적으로 사용되는 교차 검증 기법이다  \n",
        "\n",
        "먼저 K 개의 데이터 폴드 세트를 만들어서 K 번만큼 각 폴드 세트에 학습과 검증 평가를   \n",
        "반복적으로 수행하는 방법이다"
      ]
    },
    {
      "cell_type": "code",
      "metadata": {
        "id": "UzcLHaVl_1K0"
      },
      "source": [
        ""
      ],
      "execution_count": null,
      "outputs": []
    }
  ]
}