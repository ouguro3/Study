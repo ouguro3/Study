{
  "nbformat": 4,
  "nbformat_minor": 0,
  "metadata": {
    "colab": {
      "name": "02_Data_preprocessing",
      "provenance": [],
      "toc_visible": true,
      "authorship_tag": "ABX9TyMzaPiR1d6oMmUVR5zDi5Ul",
      "include_colab_link": true
    },
    "kernelspec": {
      "name": "python3",
      "display_name": "Python 3"
    },
    "language_info": {
      "name": "python"
    }
  },
  "cells": [
    {
      "cell_type": "markdown",
      "metadata": {
        "id": "view-in-github",
        "colab_type": "text"
      },
      "source": [
        "<a href=\"https://colab.research.google.com/github/ouguro3/Study/blob/main/ML_Guide/chapter_2/02_Data_preprocessing.ipynb\" target=\"_parent\"><img src=\"https://colab.research.google.com/assets/colab-badge.svg\" alt=\"Open In Colab\"/></a>"
      ]
    },
    {
      "cell_type": "markdown",
      "metadata": {
        "id": "7YEIZ1hAWDZD"
      },
      "source": [
        "# 데이터 전처리"
      ]
    },
    {
      "cell_type": "markdown",
      "metadata": {
        "id": "pcfSmzfkXcKa"
      },
      "source": [
        "데이터 전처리는 ML 알고리즘만큼 중요하다  \n",
        "\n",
        "ML 알고리즘은 데이터에 기반하고 있기 때문에 어떤 데이터를 입력으로 가지느냐에 따라 결과도 달라질 수 있다  \n",
        "\n",
        "사이킷런의 ML 알고리즘을 적용하기 전에 데이터에 미리 처리해야 할 기본사항이 있다"
      ]
    },
    {
      "cell_type": "markdown",
      "metadata": {
        "id": "QXKPVSb9XuTg"
      },
      "source": [
        "결손값, 즉 NaN, Null 값은 허용되지 않고, 이러한 Null 값은 고정된 다른 값으로 변환해야 한다  \n",
        "\n",
        "Null 값을 어떻게 처리해야 할지는 경우에 따라 다르다  \n",
        "\n",
        "Null 값이 얼마 되지 않는 경우,  피처의 평균값 등으로 간단하게 대체할 수 있고  \n",
        "대부분이 Null 값이라면 해당 피처는 drop 하는게 더 좋다  \n",
        "\n",
        "가장 힘든경우가 Null 값이 일정 수준 이상 되는 경우인데  \n",
        "해당 피처가 중요도가 높은 피처이고 Null을 단순히 피처의 평균값으로 대체할 경우  \n",
        "예측 왜곡이 심할 수 있다면 업무 로직 등을 상세하게 검토해 더 정밀한 대체 값을 선정해야 한다  "
      ]
    },
    {
      "cell_type": "markdown",
      "metadata": {
        "id": "XT0gNFTpYl_Z"
      },
      "source": [
        "사이킷런의 ML 알고리즘은 문자열 값을 입력 값으로 허용하지 않고, 그래서 모든 문자열 값은  \n",
        "인코딩돼서 숫자 형으로 변환해야 한다"
      ]
    },
    {
      "cell_type": "markdown",
      "metadata": {
        "id": "A5kPtry_Y3fD"
      },
      "source": [
        "### 데이터 인코딩"
      ]
    },
    {
      "cell_type": "markdown",
      "metadata": {
        "id": "FkVASzyEY6oM"
      },
      "source": [
        "ML을 위한 데이터 인코딩 방식은 두가지가 있다  \n",
        "- 레이블 인코딩 (Label encoding)\n",
        "- 원-핫 인코딩 (One Hot encoding)\n",
        "\n"
      ]
    },
    {
      "cell_type": "markdown",
      "metadata": {
        "id": "wKP9MtmEZT2y"
      },
      "source": [
        "#### 레이블 인코딩\n",
        "카테고리 피처를 코드형 숫자 값으로 변환하는 것\n",
        "\n",
        "주의점 : '01', '02' 와 같은 코드 값 역시 문자열이므로 1, 2 와 같은 숫자형 값으로 변환돼야 한다\n",
        "\n"
      ]
    },
    {
      "cell_type": "code",
      "metadata": {
        "colab": {
          "base_uri": "https://localhost:8080/"
        },
        "id": "rhHUAFnmVkeH",
        "outputId": "494b3c86-464e-4245-ca55-f099a1da3004"
      },
      "source": [
        "# 레이블 인코딩의 예\n",
        "\n",
        "from sklearn.preprocessing import LabelEncoder\n",
        "\n",
        "items = ['TV','냉장고','전자레인지','컴퓨터','선풍기','선풍기','믹서','믹서']\n",
        "\n",
        "# LabelEncoder를 객체로 생성한 후, fit()과 transform()으로 레이블 인코딩 수행\n",
        "encoder = LabelEncoder()\n",
        "encoder.fit(items)\n",
        "labels = encoder.transform(items)\n",
        "print('인코딩 변환값 :', labels)"
      ],
      "execution_count": 1,
      "outputs": [
        {
          "output_type": "stream",
          "text": [
            "인코딩 변환값 : [0 1 4 5 3 3 2 2]\n"
          ],
          "name": "stdout"
        }
      ]
    },
    {
      "cell_type": "markdown",
      "metadata": {
        "id": "8QWh5NVJakMa"
      },
      "source": [
        "데이터가 너무 많아 문자열 값이 어떤 숫자 값으로 인코딩됐는지 모를 때,  \n",
        "확인하는 방법\n",
        "LabelEncoder 객체의 `classes_` 속성 값으로 확인"
      ]
    },
    {
      "cell_type": "code",
      "metadata": {
        "colab": {
          "base_uri": "https://localhost:8080/"
        },
        "id": "EYgL8ZuqbAfP",
        "outputId": "7ca02c89-aa1e-4a7d-c500-df41e346f924"
      },
      "source": [
        "print('인코딩 클래스 :', encoder.classes_)"
      ],
      "execution_count": 2,
      "outputs": [
        {
          "output_type": "stream",
          "text": [
            "인코딩 클래스 : ['TV' '냉장고' '믹서' '선풍기' '전자레인지' '컴퓨터']\n"
          ],
          "name": "stdout"
        }
      ]
    },
    {
      "cell_type": "markdown",
      "metadata": {
        "id": "IuqJmp9GbMIs"
      },
      "source": [
        "0부터 순서대로 변환된 인코딩 값에 대한 원본값이 출력된다\n",
        "\n",
        "또한 `inverse_transform()` 을 통해 인코딩된 값을 다시 디코딩할 수 있다"
      ]
    },
    {
      "cell_type": "code",
      "metadata": {
        "colab": {
          "base_uri": "https://localhost:8080/"
        },
        "id": "UNkYeuxabWu1",
        "outputId": "bf0ddb3e-b594-4477-f5cd-8bb096238dfd"
      },
      "source": [
        "print('디코딩 원본값 :',encoder.inverse_transform([4,5,2,0,1,1,3,3]))"
      ],
      "execution_count": 3,
      "outputs": [
        {
          "output_type": "stream",
          "text": [
            "디코딩 원본값 : ['전자레인지' '컴퓨터' '믹서' 'TV' '냉장고' '냉장고' '선풍기' '선풍기']\n"
          ],
          "name": "stdout"
        }
      ]
    },
    {
      "cell_type": "markdown",
      "metadata": {
        "id": "sW2BJmKJbwSl"
      },
      "source": [
        "문제점은 몇몇 ML 알고리즘에서는 예측 성능이 떨어지는 경우가 발생할 수 있다  \n",
        "\n",
        "왜냐하면 숫자 값의 경우 크고 작음에 대한 특성이 작용하기 때문이다  \n",
        "\n",
        "즉, 냉장고가 1, 믹서가 2로 변환되면 1보다 2가 큰 값이므로  \n",
        "가중치가 더 부여되거나 더 중요하게 인식할 가능성이 생긴다  \n",
        "\n",
        "이런 가능성 때문에 선형회귀와 같은 ML 알고리즘에는 적용하지 말아야 한다  \n",
        "\n",
        "트리계열은 숫자의 이런 특성을 반영하지 않기 때문에 문제없이 사용가능하다"
      ]
    },
    {
      "cell_type": "markdown",
      "metadata": {
        "id": "hSGy7r1JcZUF"
      },
      "source": [
        "#### 원-핫 인코딩"
      ]
    },
    {
      "cell_type": "markdown",
      "metadata": {
        "id": "PPm2vWsIcdwe"
      },
      "source": [
        "원-핫 인코딩은 피처 값의 유형에 따라 새로운 피처를 추가해 고유 값에 해당하는 칼럼에만  \n",
        "1을 표시하고 나머지 칼럼에는 0을 표시하는 방식이다  \n",
        "\n",
        "즉, 행 형태로 돼 있는 피처의 고유 값을 열 형태로 차원을 변환한 뒤,  \n",
        "고유 값에 해당하는 칼럼에만 1을 표시하고 나머지 칼럼에는 0을 표시한다"
      ]
    },
    {
      "cell_type": "code",
      "metadata": {
        "colab": {
          "base_uri": "https://localhost:8080/"
        },
        "id": "0GmpA8jtccos",
        "outputId": "35b6b4d5-9a2a-476f-e535-f83b87e6b897"
      },
      "source": [
        "# 원핫 인코딩의 예\n",
        "from sklearn.preprocessing import OneHotEncoder\n",
        "import numpy as np\n",
        "\n",
        "items = ['TV','냉장고','전자레인지','컴퓨터','선풍기','선풍기','믹서','믹서']\n",
        "\n",
        "# 먼저 숫자 값으로 변환을 위해 LabelEncoder로 변환\n",
        "encoder = LabelEncoder()\n",
        "encoder.fit(items)\n",
        "labels = encoder.transform(items)\n",
        "\n",
        "# 2차원 데이터로 변환\n",
        "labels = labels.reshape(-1,1)\n",
        "\n",
        "# 원-핫 인코딩 적용\n",
        "oh_encoder = OneHotEncoder()\n",
        "oh_encoder.fit(labels)\n",
        "oh_labels = oh_encoder.transform(labels)\n",
        "print('원-핫 인코딩 데이터')\n",
        "print(oh_labels.toarray())\n",
        "print('원-핫 인코딩 데이터 차원')\n",
        "print(oh_labels.shape)"
      ],
      "execution_count": 5,
      "outputs": [
        {
          "output_type": "stream",
          "text": [
            "원-핫 인코딩 데이터\n",
            "[[1. 0. 0. 0. 0. 0.]\n",
            " [0. 1. 0. 0. 0. 0.]\n",
            " [0. 0. 0. 0. 1. 0.]\n",
            " [0. 0. 0. 0. 0. 1.]\n",
            " [0. 0. 0. 1. 0. 0.]\n",
            " [0. 0. 0. 1. 0. 0.]\n",
            " [0. 0. 1. 0. 0. 0.]\n",
            " [0. 0. 1. 0. 0. 0.]]\n",
            "원-핫 인코딩 데이터 차원\n",
            "(8, 6)\n"
          ],
          "name": "stdout"
        }
      ]
    },
    {
      "cell_type": "markdown",
      "metadata": {
        "id": "-JnzuhwxfEjc"
      },
      "source": [
        "판다스에 원-핫 인코딩을 더 쉽게 지원하는 API가 있다  \n",
        "`get_dummies()`를 이용하면 된다  \n",
        "\n",
        "사이킷런의 OneHotEncoder과 다르게 문자열 카테고리 값을 숫자 형으로 변환할 필요 없이  \n",
        "바로 변환할 수 있다  "
      ]
    },
    {
      "cell_type": "code",
      "metadata": {
        "colab": {
          "base_uri": "https://localhost:8080/",
          "height": 297
        },
        "id": "8-Zq-95wfY--",
        "outputId": "4d4d01bb-e6b0-478e-d435-2ee011aa4714"
      },
      "source": [
        "import pandas as pd\n",
        "\n",
        "df = pd.DataFrame({'item':['TV','냉장고','전자레인지','컴퓨터','선풍기','선풍기','믹서','믹서']})\n",
        "pd.get_dummies(df)"
      ],
      "execution_count": 6,
      "outputs": [
        {
          "output_type": "execute_result",
          "data": {
            "text/html": [
              "<div>\n",
              "<style scoped>\n",
              "    .dataframe tbody tr th:only-of-type {\n",
              "        vertical-align: middle;\n",
              "    }\n",
              "\n",
              "    .dataframe tbody tr th {\n",
              "        vertical-align: top;\n",
              "    }\n",
              "\n",
              "    .dataframe thead th {\n",
              "        text-align: right;\n",
              "    }\n",
              "</style>\n",
              "<table border=\"1\" class=\"dataframe\">\n",
              "  <thead>\n",
              "    <tr style=\"text-align: right;\">\n",
              "      <th></th>\n",
              "      <th>item_TV</th>\n",
              "      <th>item_냉장고</th>\n",
              "      <th>item_믹서</th>\n",
              "      <th>item_선풍기</th>\n",
              "      <th>item_전자레인지</th>\n",
              "      <th>item_컴퓨터</th>\n",
              "    </tr>\n",
              "  </thead>\n",
              "  <tbody>\n",
              "    <tr>\n",
              "      <th>0</th>\n",
              "      <td>1</td>\n",
              "      <td>0</td>\n",
              "      <td>0</td>\n",
              "      <td>0</td>\n",
              "      <td>0</td>\n",
              "      <td>0</td>\n",
              "    </tr>\n",
              "    <tr>\n",
              "      <th>1</th>\n",
              "      <td>0</td>\n",
              "      <td>1</td>\n",
              "      <td>0</td>\n",
              "      <td>0</td>\n",
              "      <td>0</td>\n",
              "      <td>0</td>\n",
              "    </tr>\n",
              "    <tr>\n",
              "      <th>2</th>\n",
              "      <td>0</td>\n",
              "      <td>0</td>\n",
              "      <td>0</td>\n",
              "      <td>0</td>\n",
              "      <td>1</td>\n",
              "      <td>0</td>\n",
              "    </tr>\n",
              "    <tr>\n",
              "      <th>3</th>\n",
              "      <td>0</td>\n",
              "      <td>0</td>\n",
              "      <td>0</td>\n",
              "      <td>0</td>\n",
              "      <td>0</td>\n",
              "      <td>1</td>\n",
              "    </tr>\n",
              "    <tr>\n",
              "      <th>4</th>\n",
              "      <td>0</td>\n",
              "      <td>0</td>\n",
              "      <td>0</td>\n",
              "      <td>1</td>\n",
              "      <td>0</td>\n",
              "      <td>0</td>\n",
              "    </tr>\n",
              "    <tr>\n",
              "      <th>5</th>\n",
              "      <td>0</td>\n",
              "      <td>0</td>\n",
              "      <td>0</td>\n",
              "      <td>1</td>\n",
              "      <td>0</td>\n",
              "      <td>0</td>\n",
              "    </tr>\n",
              "    <tr>\n",
              "      <th>6</th>\n",
              "      <td>0</td>\n",
              "      <td>0</td>\n",
              "      <td>1</td>\n",
              "      <td>0</td>\n",
              "      <td>0</td>\n",
              "      <td>0</td>\n",
              "    </tr>\n",
              "    <tr>\n",
              "      <th>7</th>\n",
              "      <td>0</td>\n",
              "      <td>0</td>\n",
              "      <td>1</td>\n",
              "      <td>0</td>\n",
              "      <td>0</td>\n",
              "      <td>0</td>\n",
              "    </tr>\n",
              "  </tbody>\n",
              "</table>\n",
              "</div>"
            ],
            "text/plain": [
              "   item_TV  item_냉장고  item_믹서  item_선풍기  item_전자레인지  item_컴퓨터\n",
              "0        1         0        0         0           0         0\n",
              "1        0         1        0         0           0         0\n",
              "2        0         0        0         0           1         0\n",
              "3        0         0        0         0           0         1\n",
              "4        0         0        0         1           0         0\n",
              "5        0         0        0         1           0         0\n",
              "6        0         0        1         0           0         0\n",
              "7        0         0        1         0           0         0"
            ]
          },
          "metadata": {
            "tags": []
          },
          "execution_count": 6
        }
      ]
    },
    {
      "cell_type": "markdown",
      "metadata": {
        "id": "JhydpEP0glFj"
      },
      "source": [
        "### 피처 스케일링과 정규화"
      ]
    },
    {
      "cell_type": "markdown",
      "metadata": {
        "id": "N1vxZD2wgnsD"
      },
      "source": [
        "서로 다른 변수의 값 범위를 일정한 수준으로 맞추는 작업을 피처 스케일링 이라고 한다  \n",
        "\n",
        "대표적으로 **표준화(Standardization)**와 **정규화(Normalization)**가 있다"
      ]
    },
    {
      "cell_type": "markdown",
      "metadata": {
        "id": "83dQm1BzhQXm"
      },
      "source": [
        "**표준화**는 데이터의 피처 각각이 평균이 0이고 분산이 1인 가우시안 정규 분포를 가진 값으로  \n",
        "변환하는것을 의미한다  \n",
        "\n",
        "일반적으로 **정규화**는  서로 다른 피처의 크기를 통일하기 위해 크기를  \n",
        "0 ~ 1 사이의 값으로 변환해주는 개념이다  \n",
        "\n",
        "그런데 사이킷런의 전처리에서 제공하는 Normalizer 모듈과 일반적인 정규화는 차이가 있다  \n",
        "\n",
        "사이킷런에서의 Normalizer 모듈은 선형대수에서의 정규화 개념이 적용됬으며,  \n",
        "개별 벡터의 크기를 맞추기 위해 변환하는 것을 의미한다  \n",
        "\n",
        "즉, 개별 벡터를 모든 피처 벡터의 크기로 나누어준다  "
      ]
    },
    {
      "cell_type": "markdown",
      "metadata": {
        "id": "IQ9zW05xil-2"
      },
      "source": [
        "#### StandardScaler"
      ]
    },
    {
      "cell_type": "markdown",
      "metadata": {
        "id": "EoIwrnpCioyI"
      },
      "source": [
        "표준화를 쉽게 지원하기 위한 클래스  \n",
        "\n",
        "개별 피처를 평균이 0이고, 분산이 1인 값으로 변환해준다  \n",
        "\n",
        "이렇게 가우시안 정규 분포를 가질 수 있도록 데이터를 변환하는 것은  \n",
        "몇몇 알고리즘에서 매우 중요하다  \n",
        "\n",
        "특히 RBF 커널을 이용하는 **서포트 벡터 머신**, **선형 회귀**, **로지스틱 회귀**는  \n",
        "데이터가 가우시안 분포를 가지고 있다고 가정하고 구현됐기 때문에  \n",
        "사전에 표준화를 적용하는 것은 예측 성능 향상에 중요한 요소가 될 수 있다"
      ]
    },
    {
      "cell_type": "code",
      "metadata": {
        "colab": {
          "base_uri": "https://localhost:8080/"
        },
        "id": "rNqg4lIPjPD7",
        "outputId": "8791d517-2df9-4b89-d85a-6679a8288dd5"
      },
      "source": [
        "# StandardScaler 적용 예\n",
        "from sklearn.datasets import load_iris\n",
        "import pandas as pd\n",
        "\n",
        "# 붓꽃 데이터 세트를 로딩하고 DataFrame으로 변환한다\n",
        "iris = load_iris()\n",
        "iris_data = iris.data\n",
        "iris_df = pd.DataFrame(data=iris_data, columns=iris.feature_names)\n",
        "\n",
        "print('feature 들의 평균 값')\n",
        "print(iris_df.mean())\n",
        "print('\\nfeature 들의 분산 값')\n",
        "print(iris_df.var())"
      ],
      "execution_count": 7,
      "outputs": [
        {
          "output_type": "stream",
          "text": [
            "feature 들의 평균 값\n",
            "sepal length (cm)    5.843333\n",
            "sepal width (cm)     3.057333\n",
            "petal length (cm)    3.758000\n",
            "petal width (cm)     1.199333\n",
            "dtype: float64\n",
            "\n",
            "feature 들의 분산 값\n",
            "sepal length (cm)    0.685694\n",
            "sepal width (cm)     0.189979\n",
            "petal length (cm)    3.116278\n",
            "petal width (cm)     0.581006\n",
            "dtype: float64\n"
          ],
          "name": "stdout"
        }
      ]
    },
    {
      "cell_type": "code",
      "metadata": {
        "colab": {
          "base_uri": "https://localhost:8080/"
        },
        "id": "flDF26M5j7Fc",
        "outputId": "719cb113-c4e4-4864-9e0c-d5c1f940117f"
      },
      "source": [
        "# StandardScaler를 이용해 각 피처를 한 번에 표준화해 변환\n",
        "from sklearn.preprocessing import StandardScaler\n",
        "\n",
        "# StandardScaler 객체 생성\n",
        "scaler = StandardScaler()\n",
        "# StandardScaler로 데이터 세트 변환. fit()와 transform() 호출\n",
        "scaler.fit(iris_df)\n",
        "iris_scaled = scaler.transform(iris_df)\n",
        "\n",
        "# transform() 시 스케일 변환된 데이터 세트가 Numpy ndarray로 반환돼 이를 DataFrame으로 변환\n",
        "iris_df_scaled = pd.DataFrame(data=iris_scaled, columns=iris.feature_names)\n",
        "print('feature 들의 평균 값')\n",
        "print(iris_df_scaled.mean())\n",
        "print('feature 들의 분산 값')\n",
        "print(iris_df_scaled.var())"
      ],
      "execution_count": 8,
      "outputs": [
        {
          "output_type": "stream",
          "text": [
            "feature 들의 평균 값\n",
            "sepal length (cm)   -1.690315e-15\n",
            "sepal width (cm)    -1.842970e-15\n",
            "petal length (cm)   -1.698641e-15\n",
            "petal width (cm)    -1.409243e-15\n",
            "dtype: float64\n",
            "feature 들의 분산 값\n",
            "sepal length (cm)    1.006711\n",
            "sepal width (cm)     1.006711\n",
            "petal length (cm)    1.006711\n",
            "petal width (cm)     1.006711\n",
            "dtype: float64\n"
          ],
          "name": "stdout"
        }
      ]
    },
    {
      "cell_type": "markdown",
      "metadata": {
        "id": "t86C_k5olRVQ"
      },
      "source": [
        "모든 칼럼 값의 평균이 0에 아주 가까운 값으로, 분산은 1에 아주 가까운 값으로 변환되었다"
      ]
    },
    {
      "cell_type": "markdown",
      "metadata": {
        "id": "-whggwB0lYDt"
      },
      "source": [
        "#### MinMaxScaler"
      ]
    },
    {
      "cell_type": "markdown",
      "metadata": {
        "id": "q5wYfGDula-5"
      },
      "source": [
        "MinMaxScaler는 데이터값을 0과 1사이의 범위 갑으로 변환한다  \n",
        "(음수 값이 있으면 -1에서 1로 변환)\n",
        "\n",
        "데이터의 분포가 가우시안 분포가 아닐 경우, MinMaxScaler를 적용해 볼 수 있다"
      ]
    },
    {
      "cell_type": "code",
      "metadata": {
        "colab": {
          "base_uri": "https://localhost:8080/"
        },
        "id": "Dc8ZIK6El6x3",
        "outputId": "cf73f2ff-e3b7-4bb7-a43c-bc270bdc94d9"
      },
      "source": [
        "# MinMaxScaler 적용 예\n",
        "from sklearn.preprocessing import MinMaxScaler\n",
        "\n",
        "# MinMaxScaler 객체 생성\n",
        "scaler = MinMaxScaler()\n",
        "# MinMaxScaler로 데이터 세트 변환,  fit()과 transform() 호출\n",
        "scaler.fit(iris_df)\n",
        "iris_scaled = scaler.transform(iris_df)\n",
        "\n",
        "# transform() 시 스케일 변환된 데이터 세트가 Numpy ndarray로 반환돼 이를 DataFrame으로 변환\n",
        "iris_df_scaled = pd.DataFrame(data=iris_scaled, columns=iris.feature_names)\n",
        "print('feature들의 최소값')\n",
        "print(iris_df_scaled.min())\n",
        "print('feature들의 최대값')\n",
        "print(iris_df_scaled.max())"
      ],
      "execution_count": 11,
      "outputs": [
        {
          "output_type": "stream",
          "text": [
            "feature들의 최소값\n",
            "sepal length (cm)    0.0\n",
            "sepal width (cm)     0.0\n",
            "petal length (cm)    0.0\n",
            "petal width (cm)     0.0\n",
            "dtype: float64\n",
            "feature들의 최대값\n",
            "sepal length (cm)    1.0\n",
            "sepal width (cm)     1.0\n",
            "petal length (cm)    1.0\n",
            "petal width (cm)     1.0\n",
            "dtype: float64\n"
          ],
          "name": "stdout"
        }
      ]
    },
    {
      "cell_type": "markdown",
      "metadata": {
        "id": "ugAfU9BXnTCj"
      },
      "source": [
        "#### 학습/테스트 데이터 스케일링 변환 시 유의점"
      ]
    },
    {
      "cell_type": "markdown",
      "metadata": {
        "id": "IEItkWKIncqV"
      },
      "source": [
        "데이터의 스케일링 변환 시, fit(), transform(), fit_transform() 메소드를 이용하는데  \n",
        "학습/테스트 데이터 세트에 적용할 때 주의가 필요하다  \n",
        "\n",
        "Scaler 객체를 이용해 학습 데이터 세트로 fit()과 transform()을 적용하면  \n",
        "테스트 데이터 세트로는 다시 fit()을 수행하지 않고  \n",
        "학습 데이터 세트로 fit()을 수행한 결과를 이용해 transform() 변환을 적용해야 한다는 것이다  \n",
        "\n",
        "테스트 데이터로 다시 새로운 스케일링 기준 정보를 만들게 되면  \n",
        "학습 데이터와 테스트 데이터의 스케일링 기준이 달라지기 때문에 올바른 예측 결과를   \n",
        "도출하지 못할 수 있다"
      ]
    }
  ]
}