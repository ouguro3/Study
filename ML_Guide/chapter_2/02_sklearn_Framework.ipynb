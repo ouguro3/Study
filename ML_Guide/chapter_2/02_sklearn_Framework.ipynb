{
  "nbformat": 4,
  "nbformat_minor": 0,
  "metadata": {
    "colab": {
      "name": "02_sklearn_Framework.ipynb",
      "provenance": [],
      "toc_visible": true,
      "authorship_tag": "ABX9TyNyjSA3gVejjBbYw8SHXK3H",
      "include_colab_link": true
    },
    "kernelspec": {
      "name": "python3",
      "display_name": "Python 3"
    },
    "language_info": {
      "name": "python"
    }
  },
  "cells": [
    {
      "cell_type": "markdown",
      "metadata": {
        "id": "view-in-github",
        "colab_type": "text"
      },
      "source": [
        "<a href=\"https://colab.research.google.com/github/ouguro3/Study/blob/main/ML_Guide/chapter_2/02_sklearn_Framework.ipynb\" target=\"_parent\"><img src=\"https://colab.research.google.com/assets/colab-badge.svg\" alt=\"Open In Colab\"/></a>"
      ]
    },
    {
      "cell_type": "markdown",
      "metadata": {
        "id": "gqnV_obFSwjR"
      },
      "source": [
        "## 사이킷런의 기반 프레임워크"
      ]
    },
    {
      "cell_type": "markdown",
      "metadata": {
        "id": "FeykPQ7wS2E7"
      },
      "source": [
        "### Estimator 이해 및 fit(), predict() 메서드"
      ]
    },
    {
      "cell_type": "markdown",
      "metadata": {
        "id": "hTdyZZpcS7Km"
      },
      "source": [
        "사이킷런은 ML 모델 학습을 위해 `fit()` 을, 학습된 모델의 예측을 위해 `predict()` 메서드를 제공한다  \n",
        "\n",
        "지도학습의 주요 두 축인 분류(classification)와 회귀(regression)의 다양한 알고리즘을 구현한 모든 사이킷런 클래스는  \n",
        "`fit()`과  `predict()` 만을 이용해 간단하게 학습과 예측 결과를 반환한다  \n",
        "\n",
        "사이킷런에서는 `분류 알고리즘`을 구현한 클래스를 `Classifier`,  \n",
        "`회귀 알고리즘`을 구현한 클래스를 `Regressor`로 지칭한다  \n",
        "\n",
        "이들 `Classifier`와 `Regressor`를 합쳐서 `Estimator 클래스` 라고 부른다  \n",
        "\n",
        "즉, 지도학습의 모든 알고리즘을 구현한 클래스를 통칭 `Estimator 클래스`라 부른다  \n",
        "\n",
        "Estimator 클래스도 당연히 fit()과 predict()를 내부에서 구현하고 있다  \n",
        "\n",
        "\n"
      ]
    },
    {
      "cell_type": "markdown",
      "metadata": {
        "id": "fVtcZS4bVhfV"
      },
      "source": [
        "### 사이킷런의 주요 모듈"
      ]
    },
    {
      "cell_type": "markdown",
      "metadata": {
        "id": "ptvVd6xfVl05"
      },
      "source": [
        "예제 데이터  \n",
        "- sklearn.datasets : 사이킷런에 내장되어 예제로 제공하는 데이터 세트\n",
        "\n",
        "피처 처리\n",
        "- sklearn.preprocessing : 데이터 전처리에 필요한 다양한 가공 기능 제공\n",
        "\n",
        "- sklearn.feature_selection : 알고리즘에 큰 영향을 미치는 피처를 우선순위대로 셀렉션 작업을 수행하는 다양한 기능 제공\n",
        "\n",
        "- sklearn.feature_extraction : 텍스트 데이터나 이미지 데이터의 벡터화된 피처를 추출하는데 사용됨\n",
        "\n",
        "피처 처리 & 차원 축소\n",
        "- sklearn.decomposition : 차원 축소와 관련한 알고리즘을 지원하는 모듈\n",
        "\n",
        "데이터 분리, 검증 & 파라미터 튜닝\n",
        "- sklearn.model_selection : 교차 검증을 위한 학습용/테스트용 분리, 그리드 서치로 최적 파라미터 추출 등의 API 제공\n",
        "\n",
        "평가\n",
        "- sklearn.metrics : 분류, 회귀, 클러스터링, 페어와이즈에 대한 다양한 성능 측정 방법 제공\n",
        "\n",
        "ML 알고리즘\n",
        "- sklearn.ensemble : 앙상블 알고리즘 제공 (랜덤 포레스트, 에이다 부스트 등)\n",
        "\n",
        "- sklearn.linear_model : 주로 선형 회귀, 릿지, 라쏘 및 로지스틱 회귀등 회귀 관련 알고리즘을 지원\n",
        "\n",
        "- sklearn.naive_bayes : 나이브 베이즈 알고리즘 제공, 가우시안 NB, 다항 분포 NB 등\n",
        "\n",
        "- sklearn.neighbors : 최근접 이웃 알고리즘 제공, K-NN 등\n",
        "\n",
        "- sklearn.svm : 서포트 벡터 머신 알고리즘 제공\n",
        "\n",
        "- sklearn.tree : 의사 결정 트리 알고리즘 제공\n",
        "\n",
        "- sklearn.cluster : 비지도 클러스터링 알고리즘 제공 (K-평균, 계층형, DBSCAN 등)\n",
        "\n",
        "유틸리티\n",
        "- sklearn.pipline : 피처 처리 등의 변환과 ML 알고리즘 학습, 예측 등을 함께 묶어서 실행할 수 있는 유틸리티 제공"
      ]
    },
    {
      "cell_type": "code",
      "metadata": {
        "colab": {
          "base_uri": "https://localhost:8080/"
        },
        "id": "2ze5LeHLQaVT",
        "outputId": "29d176ba-f068-4cf5-940b-6adf7a8a9185"
      },
      "source": [
        "# 붓꽃 데이터 세트 생성\n",
        "from sklearn.datasets import load_iris\n",
        "\n",
        "iris_data = load_iris()\n",
        "print(type(iris_data))"
      ],
      "execution_count": null,
      "outputs": [
        {
          "output_type": "stream",
          "text": [
            "<class 'sklearn.utils.Bunch'>\n"
          ],
          "name": "stdout"
        }
      ]
    },
    {
      "cell_type": "markdown",
      "metadata": {
        "id": "GAU6GmdCZ5Sy"
      },
      "source": [
        "Bunch는 파이썬의 딕셔너리와 유사하다"
      ]
    },
    {
      "cell_type": "code",
      "metadata": {
        "colab": {
          "base_uri": "https://localhost:8080/"
        },
        "id": "3bifqtXrZ1aD",
        "outputId": "6a5228df-4d3a-41a8-cf99-f988a91ecdd3"
      },
      "source": [
        "# 데이터세트의 key 값 확인\n",
        "keys = iris_data.keys()\n",
        "print('붓꽃 데이터 세트의 키들 :', keys)"
      ],
      "execution_count": null,
      "outputs": [
        {
          "output_type": "stream",
          "text": [
            "붓꽃 데이터 세트의 키들 : dict_keys(['data', 'target', 'target_names', 'DESCR', 'feature_names', 'filename'])\n"
          ],
          "name": "stdout"
        }
      ]
    }
  ]
}