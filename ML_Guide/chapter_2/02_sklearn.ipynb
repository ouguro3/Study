{
  "nbformat": 4,
  "nbformat_minor": 0,
  "metadata": {
    "colab": {
      "name": "02_sklearn.ipynb",
      "provenance": [],
      "toc_visible": true,
      "authorship_tag": "ABX9TyNMf2myXuZobF8OXbtKy6Oi",
      "include_colab_link": true
    },
    "kernelspec": {
      "name": "python3",
      "display_name": "Python 3"
    },
    "language_info": {
      "name": "python"
    }
  },
  "cells": [
    {
      "cell_type": "markdown",
      "metadata": {
        "id": "view-in-github",
        "colab_type": "text"
      },
      "source": [
        "<a href=\"https://colab.research.google.com/github/ouguro3/Study/blob/main/ML_Guide/chapter_2/02_sklearn.ipynb\" target=\"_parent\"><img src=\"https://colab.research.google.com/assets/colab-badge.svg\" alt=\"Open In Colab\"/></a>"
      ]
    },
    {
      "cell_type": "markdown",
      "metadata": {
        "id": "0ChLEPJwCZnj"
      },
      "source": [
        "# 사이킷런으로 시작하는 머신러닝"
      ]
    },
    {
      "cell_type": "markdown",
      "metadata": {
        "id": "Tymt3_f6ClK5"
      },
      "source": [
        "### 사이킷런의 소개 및 특징"
      ]
    },
    {
      "cell_type": "markdown",
      "metadata": {
        "id": "RpgK4Sk3CoUg"
      },
      "source": [
        "파이썬 머신러닝 라이브러리 중 가장 많이 사용되는 라이브러리  \n",
        "\n",
        "파이썬 기반의 머신러닝을 위한 가장 쉽고 효율적인 개발 라이브러리를 제공한다  \n",
        "\n",
        "많은 데이터 분석가가 의존하는 대표적인 파이썬 ML 라이브러리"
      ]
    },
    {
      "cell_type": "markdown",
      "metadata": {
        "id": "u-BuVLJaDDl0"
      },
      "source": [
        "사이킷런의 특징\n",
        "\n",
        "- 파이썬 기반의 다른 머신러닝 패키지도 사이킷런 스타일의 API를 지향할 정도로 쉽고,  \n",
        "가장 파이썬스러운 API를 제공한다  \n",
        "\n",
        "- 머신러닝을 위한 매우 다양한 알고리즘과 개발을 위한 편리한 프레임워크와 API를 제공한다\n",
        "- 오랜 기간 실전 환경에서 검증됐으며, 매우 많은 환경에서 사용되는 성숙한 라이브러리이다 "
      ]
    },
    {
      "cell_type": "markdown",
      "metadata": {
        "id": "WWSKdCXTDjSx"
      },
      "source": [
        "사이킷런 설치  \n",
        "\n",
        "pip 또는 Anaconda의 conda 명령어를 통해 설치 가능하다\n",
        "```\n",
        "conda install scikit-learn\n",
        "```\n",
        "```\n",
        "pip install scikit-learn\n",
        "```"
      ]
    },
    {
      "cell_type": "markdown",
      "metadata": {
        "id": "HuPeqRHUEAUo"
      },
      "source": [
        "### 첫번째 머신러닝 - 붓꽃 품종 예측"
      ]
    },
    {
      "cell_type": "markdown",
      "metadata": {
        "id": "7rJdOcNTENa3"
      },
      "source": [
        "사이킷런을 통해 머신러닝으로 붓꽃의 품종을 분류하는 예제이다  \n",
        "\n",
        "꽃잎의 길이, 너비, 꽃받침의 길이와 너비 피처(feature)를 기반으로 꽃의 품종을 예측한다"
      ]
    },
    {
      "cell_type": "code",
      "metadata": {
        "id": "rrunNr0WCXei"
      },
      "source": [
        "# 라이브러리 불러오기\n",
        "\n",
        "from sklearn.datasets import load_iris\n",
        "from sklearn.tree import DecisionTreeClassifier\n",
        "from sklearn.model_selection import train_test_split"
      ],
      "execution_count": 14,
      "outputs": []
    },
    {
      "cell_type": "code",
      "metadata": {
        "colab": {
          "base_uri": "https://localhost:8080/",
          "height": 250
        },
        "id": "Ishn7DHQE5ts",
        "outputId": "0fc71642-5114-437f-8735-00c8b238ff3e"
      },
      "source": [
        "import pandas as pd\n",
        "\n",
        "# 붓꽃 데이터 세트 로딩\n",
        "iris = load_iris()\n",
        "\n",
        "# iris.data는 iris 데이터 세트에서 피처(feature) 만으로 된 데이터를 numpy로 가지고 있다\n",
        "iris_data = iris.data\n",
        "\n",
        "# iris.target은 붓꽃 데이터 세트에서 레이블(결정 값) 데이터를 numpy로 가지고 있다\n",
        "iris_label = iris.target\n",
        "print('iris target 값 :', iris_label)\n",
        "print('iris target 명 :', iris.target_names)\n",
        "\n",
        "# 붓꽃 데이터 세트를 자세히 보기 위해 DataFrame으로 변환한다\n",
        "iris_df = pd.DataFrame(data=iris_data, columns=iris.feature_names)\n",
        "iris_df['label'] = iris.target\n",
        "iris_df.head(3)"
      ],
      "execution_count": 15,
      "outputs": [
        {
          "output_type": "stream",
          "text": [
            "iris target 값 : [0 0 0 0 0 0 0 0 0 0 0 0 0 0 0 0 0 0 0 0 0 0 0 0 0 0 0 0 0 0 0 0 0 0 0 0 0\n",
            " 0 0 0 0 0 0 0 0 0 0 0 0 0 1 1 1 1 1 1 1 1 1 1 1 1 1 1 1 1 1 1 1 1 1 1 1 1\n",
            " 1 1 1 1 1 1 1 1 1 1 1 1 1 1 1 1 1 1 1 1 1 1 1 1 1 1 2 2 2 2 2 2 2 2 2 2 2\n",
            " 2 2 2 2 2 2 2 2 2 2 2 2 2 2 2 2 2 2 2 2 2 2 2 2 2 2 2 2 2 2 2 2 2 2 2 2 2\n",
            " 2 2]\n",
            "iris target 명 : ['setosa' 'versicolor' 'virginica']\n"
          ],
          "name": "stdout"
        },
        {
          "output_type": "execute_result",
          "data": {
            "text/html": [
              "<div>\n",
              "<style scoped>\n",
              "    .dataframe tbody tr th:only-of-type {\n",
              "        vertical-align: middle;\n",
              "    }\n",
              "\n",
              "    .dataframe tbody tr th {\n",
              "        vertical-align: top;\n",
              "    }\n",
              "\n",
              "    .dataframe thead th {\n",
              "        text-align: right;\n",
              "    }\n",
              "</style>\n",
              "<table border=\"1\" class=\"dataframe\">\n",
              "  <thead>\n",
              "    <tr style=\"text-align: right;\">\n",
              "      <th></th>\n",
              "      <th>sepal length (cm)</th>\n",
              "      <th>sepal width (cm)</th>\n",
              "      <th>petal length (cm)</th>\n",
              "      <th>petal width (cm)</th>\n",
              "      <th>label</th>\n",
              "    </tr>\n",
              "  </thead>\n",
              "  <tbody>\n",
              "    <tr>\n",
              "      <th>0</th>\n",
              "      <td>5.1</td>\n",
              "      <td>3.5</td>\n",
              "      <td>1.4</td>\n",
              "      <td>0.2</td>\n",
              "      <td>0</td>\n",
              "    </tr>\n",
              "    <tr>\n",
              "      <th>1</th>\n",
              "      <td>4.9</td>\n",
              "      <td>3.0</td>\n",
              "      <td>1.4</td>\n",
              "      <td>0.2</td>\n",
              "      <td>0</td>\n",
              "    </tr>\n",
              "    <tr>\n",
              "      <th>2</th>\n",
              "      <td>4.7</td>\n",
              "      <td>3.2</td>\n",
              "      <td>1.3</td>\n",
              "      <td>0.2</td>\n",
              "      <td>0</td>\n",
              "    </tr>\n",
              "  </tbody>\n",
              "</table>\n",
              "</div>"
            ],
            "text/plain": [
              "   sepal length (cm)  sepal width (cm)  ...  petal width (cm)  label\n",
              "0                5.1               3.5  ...               0.2      0\n",
              "1                4.9               3.0  ...               0.2      0\n",
              "2                4.7               3.2  ...               0.2      0\n",
              "\n",
              "[3 rows x 5 columns]"
            ]
          },
          "metadata": {
            "tags": []
          },
          "execution_count": 15
        }
      ]
    },
    {
      "cell_type": "markdown",
      "metadata": {
        "id": "JSXi0gDwGyW8"
      },
      "source": [
        "피처에는 sepla length, sepal width, petal length, petal width 가 있다 \n",
        "\n",
        "label은 0,1,2로 구성되어 있고 0이 Setosa, 1이 versicolor, 2가 virginica 품종을 의미한다"
      ]
    },
    {
      "cell_type": "markdown",
      "metadata": {
        "id": "wribDJpLJxmD"
      },
      "source": [
        "#### 학습용 데이터와 테스트용 데이터 나누기  "
      ]
    },
    {
      "cell_type": "markdown",
      "metadata": {
        "id": "fxV6-rQUHmqA"
      },
      "source": [
        "학습용 데이터와 테스트용 데이터는 반드시 분리해야 한다  \n",
        "\n",
        "학습 데이터로 학습된 모델이 얼마나 뛰어난 성능을 가지는지 평가하려면  \n",
        "테스트 데이터 세트가 필요하기 때문이다  \n",
        "\n",
        "이를 위해서 사용하는것이 사이킷런 API `train_test_split()` 이다  \n",
        "\n",
        "`train_test_split`은 학습용 데이터와 테스트용 데이터를 test_size 파라미터로 쉽게 나누어준다"
      ]
    },
    {
      "cell_type": "code",
      "metadata": {
        "id": "DIBLzEBgHlrn"
      },
      "source": [
        "# 학습용 데이터를 80%, 테스트용 데이터를 20% 로 나누기\n",
        "X_train, X_test, y_train, y_test = train_test_split(iris_data,iris_label,\n",
        "                                                    test_size=0.2, random_state = 11)"
      ],
      "execution_count": 16,
      "outputs": []
    },
    {
      "cell_type": "markdown",
      "metadata": {
        "id": "z3SeMX_NJRXV"
      },
      "source": [
        "학습용 피처 데이터 : X_train  \n",
        "테스트용 피처 데이터 : X_test\n",
        "\n",
        "학습용 레이블 데이터 : y_train  \n",
        "테스트용 레이블 데이터 : y_test"
      ]
    },
    {
      "cell_type": "markdown",
      "metadata": {
        "id": "_7sOajijJpVX"
      },
      "source": [
        "#### 의사결정 트리를 이용해 학습과 예측 수행"
      ]
    },
    {
      "cell_type": "code",
      "metadata": {
        "colab": {
          "base_uri": "https://localhost:8080/"
        },
        "id": "ZQIYoN1aJ41S",
        "outputId": "8478401b-ebe2-455c-d33e-61889259cb33"
      },
      "source": [
        "# DecisionTreeClassifier 객체 생성\n",
        "dt_clf = DecisionTreeClassifier(random_state=11)\n",
        "\n",
        "# 학습 수행\n",
        "dt_clf.fit(X_train, y_train)"
      ],
      "execution_count": 17,
      "outputs": [
        {
          "output_type": "execute_result",
          "data": {
            "text/plain": [
              "DecisionTreeClassifier(ccp_alpha=0.0, class_weight=None, criterion='gini',\n",
              "                       max_depth=None, max_features=None, max_leaf_nodes=None,\n",
              "                       min_impurity_decrease=0.0, min_impurity_split=None,\n",
              "                       min_samples_leaf=1, min_samples_split=2,\n",
              "                       min_weight_fraction_leaf=0.0, presort='deprecated',\n",
              "                       random_state=11, splitter='best')"
            ]
          },
          "metadata": {
            "tags": []
          },
          "execution_count": 17
        }
      ]
    },
    {
      "cell_type": "markdown",
      "metadata": {
        "id": "AFjpmH8kK3dg"
      },
      "source": [
        "학습된 DecisionTreeClassifier 객체를 이용해 예측을 수행한다  \n",
        "\n",
        "예측은 반드시 학습 데이터가 아닌 다른 데이터를 사용해야하며,  \n",
        "일반적으로 테스트 데이터 세트를 이용한다  \n",
        "\n",
        "DecisionTreeClassifier 객체의 predict() 메서드에 테스트용 피처 데이터 세트를 입력해  \n",
        "호출하면 학습된 모델기반에서 테스트 데이터 세트에 대한 예측값을 반환한다"
      ]
    },
    {
      "cell_type": "code",
      "metadata": {
        "id": "iNJp-6jZKQeF"
      },
      "source": [
        "# 예측 수행\n",
        "pred = dt_clf.predict(X_test)"
      ],
      "execution_count": 18,
      "outputs": []
    },
    {
      "cell_type": "markdown",
      "metadata": {
        "id": "hTe8nshyLk-5"
      },
      "source": [
        "예측 결과를 기반으로 DecisionTreeClassifier의 예측 성능을 평가해본다  \n",
        "\n",
        "머신러닝 모델의 성능 평가 방법은 여러가지가 있으나, 여기서는 정확도를 측정했다  \n",
        "\n",
        "정확도는 예측 결과가 실제 레이블 값과 얼마나 정확하게 맞는지를 평가하는 지표이다  \n",
        "\n",
        "사이킷런은 정확도 측정을 위해 `accuracy_score()` 함수를 제공한다\n",
        "\n",
        "`accuracy_score()`의 첫번째 파라미터로 실제 레이블 데이터 세트,  \n",
        "두번째 파라미터로 예측 레이블 데이터 세트를 입력하면 된다  "
      ]
    },
    {
      "cell_type": "code",
      "metadata": {
        "colab": {
          "base_uri": "https://localhost:8080/"
        },
        "id": "DRrBJgMRKbZ6",
        "outputId": "21165a21-4b82-46e1-fe74-eacab3ff3a0a"
      },
      "source": [
        "# 예측 정확도 확인\n",
        "from sklearn.metrics import accuracy_score\n",
        "print('예측 정확도 : {0:.4f}'.format(accuracy_score(y_test,pred)))"
      ],
      "execution_count": 19,
      "outputs": [
        {
          "output_type": "stream",
          "text": [
            "예측 정확도 : 0.9333\n"
          ],
          "name": "stdout"
        }
      ]
    },
    {
      "cell_type": "markdown",
      "metadata": {
        "id": "EzdEiiVLMwBm"
      },
      "source": [
        "#### 붓꽃 데이터 세트 예측 프로세스"
      ]
    },
    {
      "cell_type": "markdown",
      "metadata": {
        "id": "bmPnlcIqM3Ju"
      },
      "source": [
        "1. 데이터 세트 분리 : 데이터 세트를 학습용과 테스트용으로 분리한다  \n",
        "\n",
        "2. 모델 학습 : 학습 데이터를 기반으로 ML 알고리즘을 적용해 모델을 학습시킨다  \n",
        "\n",
        "3. 예측 수행 : 학습된 ML 모델을 이용해 테스트 데이터의 분류(여기서는 붓꽃 종류)를 예측한다  \n",
        "\n",
        "4. 평가 : 예측된 결과값과 테스트 데이터의 실제 결과값을 비교해 ML 모델 성능을 평가한다"
      ]
    }
  ]
}