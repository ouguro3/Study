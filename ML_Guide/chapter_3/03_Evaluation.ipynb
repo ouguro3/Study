{
  "nbformat": 4,
  "nbformat_minor": 0,
  "metadata": {
    "colab": {
      "name": "03_Evaluation.ipynb",
      "provenance": [],
      "toc_visible": true,
      "authorship_tag": "ABX9TyPiqIVS+s6x09vNw+xcm/Wl",
      "include_colab_link": true
    },
    "kernelspec": {
      "name": "python3",
      "display_name": "Python 3"
    },
    "language_info": {
      "name": "python"
    }
  },
  "cells": [
    {
      "cell_type": "markdown",
      "metadata": {
        "id": "view-in-github",
        "colab_type": "text"
      },
      "source": [
        "<a href=\"https://colab.research.google.com/github/ouguro3/Study/blob/main/ML_Guide/chapter_3/03_Evaluation.ipynb\" target=\"_parent\"><img src=\"https://colab.research.google.com/assets/colab-badge.svg\" alt=\"Open In Colab\"/></a>"
      ]
    },
    {
      "cell_type": "markdown",
      "metadata": {
        "id": "UpXTcE-urN4g"
      },
      "source": [
        "# 평가"
      ]
    },
    {
      "cell_type": "markdown",
      "metadata": {
        "id": "U8-xCvNTrjJX"
      },
      "source": [
        "머신러닝은 데이터 가공/변환, 모델 학습/예측, 그리고 평가의 프로세스로 구성된다  \n",
        "\n",
        "머신러닝 모델은 여러 가지 방법으로 예측 성능을 평가할 수 있다  \n",
        "\n",
        "성능 평가 지표(Evaluation Metric)는 일반적으로 모델이 분류냐 회귀냐에 따라 여러 종류로 나뉜다  \n",
        "\n",
        "회귀의 경우 대부분 실제값과 예측값의 오차 평균값에 기반한다  \n",
        "\n",
        "분류의 평가방법도 일반적으로는 정확도에 기반하지만  \n",
        "단순히 이런 정확도만 가지고 판단했다가는 잘못된 평가 결과에 빠질 수 있다  \n",
        "\n",
        "특히 이진 분류에서는 정확도보다 다른 성능 평가 지표가 더 중요시되는 경우가 많다"
      ]
    },
    {
      "cell_type": "markdown",
      "metadata": {
        "id": "rhIqrV-cbOPY"
      },
      "source": [
        "**분류의 성능 평가 지표**  \n",
        "\n",
        "- 정확도 (Accuracy)\n",
        "- 오차행렬 (Confusion Matrix)\n",
        "- 정밀도 (Precision)\n",
        "- 재현율 (Recall)\n",
        "- F1 스코어\n",
        "- ROC AUC"
      ]
    },
    {
      "cell_type": "markdown",
      "metadata": {
        "id": "uE_tfOhqcT0k"
      },
      "source": [
        "## 정확도 (Accuracy)"
      ]
    },
    {
      "cell_type": "markdown",
      "metadata": {
        "id": "uzS3pmikvvOu"
      },
      "source": [
        "실제 데이터에서 예측 데이터가 얼마나 같은지를 판단하는 지표  \n",
        "\n",
        "**정확도 (Accuracy) = 예측 결과가 동일한 데이터 건수 / 전체 예측 데이터 건수** \n",
        "\n",
        "정확도는 직관적으로 모델 예측 성능을 나타내는 평가 지표이다  \n",
        "\n",
        "하지만 이진 분류의 경우 데이터의 구성에 따라 ML 모델의 성능을 왜곡할 수 있다  \n",
        "\n",
        "그래서 정확도 수치 하나만 가지고 성능을 평가하지 않는다"
      ]
    },
    {
      "cell_type": "markdown",
      "metadata": {
        "id": "15Li9eBmygM2"
      },
      "source": [
        "## 오차 행렬"
      ]
    },
    {
      "cell_type": "markdown",
      "metadata": {
        "id": "HGbV8KWFyiYe"
      },
      "source": [
        "학습된 분류 모델이 예측을 수행하면서 얼마나 헷갈리고 있는지도 함께 보여주는 지표  \n",
        "\n",
        "즉, 이진 분류의 예측 오류가 얼마인지와 더불어 어떠한 유형의 예측 오류가 발생하고 있는지를  \n",
        "함께 나타내는 지표이다"
      ]
    },
    {
      "cell_type": "markdown",
      "metadata": {
        "id": "1dwFpRt3zIrw"
      },
      "source": [
        "![](https://user-images.githubusercontent.com/84296244/127415744-7b9a6e5a-c4b4-405a-9aed-61282f58523f.png)\n"
      ]
    },
    {
      "cell_type": "markdown",
      "metadata": {
        "id": "RpCZkoRozNgi"
      },
      "source": [
        "TN, FN, FN, TP 는 예측 클래스와 실제 클래스의 Positive 결정 값 (값 1)과  \n",
        "Negative(값 0)의 결합에 따라 결정된다  \n",
        "\n",
        "Ex) TN = True Nagetive \n",
        "앞의 True는 예측 클래스 값과 실제 클래스 값이 같다는 의미고  \n",
        "뒤의 Negative는 예측값이 Negative 값이라는 의미이다  \n",
        "\n",
        "즉, TN의 예측은 Negative 값 0 으로 예측했고, 실제 값도 Negative 값 0 이라는 의미이다"
      ]
    },
    {
      "cell_type": "markdown",
      "metadata": {
        "id": "AFRaWJxL09WW"
      },
      "source": [
        "- TN : 예측값을 Negative 값 0으로 예측했고 실제 값 역시 Negative 값 0  \n",
        "\n",
        "- FP : 예측값을 Positive 값 1로 예측했는데 실제 값은 Negative 값 0  \n",
        "\n",
        "- FN : 예측값을 Negative 값 0으로 예측했는데 실제 값은 Positive 값 1  \n",
        "\n",
        "- TP : 예측값을 Positive 값 1로 예측했고 실제 값 역시 Positive 값 1"
      ]
    },
    {
      "cell_type": "markdown",
      "metadata": {
        "id": "6GVbtuXM1MKg"
      },
      "source": [
        "정확도는 오차 행렬상에서 다음과 같이 재정의될 수 있다  \n",
        "\n",
        "**정확도 = 예측 결과와 실제 값이 동일한 건수 / 전체 데이터 수 = (TN + TP) / (TN + FP + FN + TP)**"
      ]
    },
    {
      "cell_type": "markdown",
      "metadata": {
        "id": "5GZpfzKn2uWv"
      },
      "source": [
        "불균형한 이진 분류 데이터 세트에서는 Positive 데이터 건수가 매우 작기 떄문에  \n",
        "데이터에 기반한 ML 알고리즘은 Positive보다는 Negative로 예측 정확도가 높아지는 경향이 발생한다  \n",
        "\n",
        "결과적으로 정확도 지표는 비대칭한 데이터 세트에서 Positive에 대한 예측 정확도를 판단하지 못한 채  \n",
        "Negative에 대한 예측 정확도 만으로도 분류의 정확도가 매우 높게 나타나는  \n",
        "수치적인 판단 오류를 일으키게 된다"
      ]
    },
    {
      "cell_type": "markdown",
      "metadata": {
        "id": "47CyD6Di3Opa"
      },
      "source": [
        "## 정밀도와 재현율"
      ]
    },
    {
      "cell_type": "markdown",
      "metadata": {
        "id": "-ZwJFoXO3c4W"
      },
      "source": [
        "Positive 데이터 세트의 예측 성능에 좀 더 초점을 맞춘 평가 지표  \n",
        "\n",
        "정밀도와 재현율은 다음과 같은 공식으로 계산된다  \n",
        "\n",
        "**정밀도 = TP / (FP + TP)**\n",
        "\n",
        "**재현율 = TP / (FN + TP)**  \n",
        "\n",
        "정밀도는 예측을 Positive로 한 대상 중에 예측과 실제 값이 Positive로 일치한 데이터의 비율을 뜻하고\n",
        "\n",
        "재현율은 실제 값이 Positive인 대상 중에 예측과 실제 값이 Positive로 일치한 데이터의 비율을 뜻한다"
      ]
    },
    {
      "cell_type": "markdown",
      "metadata": {
        "id": "lmYfjF7V4aYM"
      },
      "source": [
        "정밀도와 재현율 지표 중 이진 분류 모델의 업무 특성에 따라서 특정 평가 지표가  \n",
        "더 중요한 지표로 간주될 수 있다  \n",
        "\n",
        "재현율이 중요한 경우는 실제 Positive 양성 데이터를 Negetive로 잘못 판단하게 되면  \n",
        "업무상 큰 영향이 발생하는 경우이다  \n",
        "\n",
        "예를 들면 암 판단 모델이 있다  \n",
        "\n",
        "이유는 실제 Positive인 암 환자를 Positive 양성이 아닌  \n",
        "Negetive 음성으로 잘못 판단했을 경우 목숨을 잃을 수 있을 정도로 심각하기 때문이다  \n",
        "\n",
        "보통은 재현율이 정밀도보다 상대적으로 중요한 업무가 많지만,  \n",
        "정밀도가 더 중요한 지표인 경우도 있다  \n",
        "\n",
        "스팸메일 여부를 판단하는 모델의 경우  \n",
        "실제 Positive인 스팸 메일을 Negative인 일반 메일로 분류하더라도 불편한 정도지만  \n",
        "실제 Negative인 일반 메일을 Positive인 스팸 메일로 분류할 경우에는 메일을 아예  \n",
        "받지 못하게 돼 차질이 생길수도 있다"
      ]
    },
    {
      "cell_type": "markdown",
      "metadata": {
        "id": "IHsY_LlfzAi-"
      },
      "source": [
        "### 정밀도 / 재현율 트레이드오프"
      ]
    },
    {
      "cell_type": "markdown",
      "metadata": {
        "id": "Fkn9zGFf0HUi"
      },
      "source": [
        "분류하려는 업무의 특성상 정밀도 또는 재현율이 특별히 강조돼야 할 경우 분류의  \n",
        "결정 임곗값을 조정해 정밀도 또는 재현율의 수치를 높일 수 있다  \n",
        "\n",
        "하지만 정밀도와 재현율은 상호 보완적인 평가 지표이기 때문에 어느 한쪽을 강제로  \n",
        "높이면 다른 하나의 수치는 떨어지기 쉽다  \n",
        "\n",
        "이를 정밀도/재현율의 트레이드오프 라고 부른다"
      ]
    }
  ]
}