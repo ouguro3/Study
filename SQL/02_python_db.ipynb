{
 "cells": [
  {
   "cell_type": "code",
   "execution_count": 1,
   "id": "a5916b63-459d-4e89-9afc-cf3f2b81b938",
   "metadata": {},
   "outputs": [
    {
     "name": "stdout",
     "output_type": "stream",
     "text": [
      "C:\\Users\\LeeHB\\2021-K-Digital-Training-main\n"
     ]
    }
   ],
   "source": [
    "!cd"
   ]
  },
  {
   "cell_type": "code",
   "execution_count": 2,
   "id": "3a92802c-a706-4d08-8757-03537bc900ec",
   "metadata": {},
   "outputs": [],
   "source": [
    "import pymysql.cursors"
   ]
  },
  {
   "cell_type": "code",
   "execution_count": 4,
   "id": "30beaaf7-18d0-42b8-859f-0e5caf05222a",
   "metadata": {},
   "outputs": [
    {
     "name": "stdout",
     "output_type": "stream",
     "text": [
      "{'count(total_bill)': 3}\n"
     ]
    }
   ],
   "source": [
    "connection = pymysql.connect(host='localhost',\n",
    "        user='hi',\n",
    "        password='1598',\n",
    "        db='tip',\n",
    "        charset='utf8',\n",
    "        cursorclass=pymysql.cursors.DictCursor)\n",
    "try:\n",
    "    with connection.cursor() as cursor:\n",
    "        # Read a single record\n",
    "        #sql = \"SELECT `id`, `password` FROM `users` WHERE `email`=%s\"\n",
    "        sql = \"SELECT count(total_bill) from tip.tips where tip >= 7;\"\n",
    "        cursor.execute(sql)\n",
    "        result = cursor.fetchone() # 값을 하나씩 불러옴\n",
    "        print(result)\n",
    "finally:\n",
    "    connection.close()"
   ]
  },
  {
   "cell_type": "code",
   "execution_count": 5,
   "id": "4510f908-ecae-4a4b-aa02-4adb953d912d",
   "metadata": {},
   "outputs": [],
   "source": [
    "import pandas as pd"
   ]
  },
  {
   "cell_type": "code",
   "execution_count": 6,
   "id": "f25ad1e1-a39f-4be9-b6b3-3ff1d6a0ab8a",
   "metadata": {},
   "outputs": [
    {
     "name": "stdout",
     "output_type": "stream",
     "text": [
      "   total_bill\n",
      "0       39.42\n",
      "1       50.81\n",
      "2       48.33\n"
     ]
    }
   ],
   "source": [
    "# MySQL DB에서 데이터 받아와서 DataFrame에 저장\n",
    "\n",
    "conn = pymysql.connect(host='localhost', user='hi', \n",
    "                       password='1598', db='tip', charset='utf8',\n",
    "                       autocommit=True, cursorclass=pymysql.cursors.DictCursor)\n",
    "try:\n",
    "\n",
    "   with conn.cursor() as curs:\n",
    "      sql = \"SELECT total_bill from tip.tips where tip >= 7;\"\n",
    "      curs.execute(sql)\n",
    "      rs = curs.fetchall() # 값을 전부 불러옴\n",
    "\n",
    "      # DB에서 받아온 값을 DataFrame에 넣음\n",
    "\n",
    "      df = pd.DataFrame(rs)\n",
    "      print(df)\n",
    "    \n",
    "#       df.to_csv('query.csv')\n",
    "\n",
    "finally:\n",
    "\n",
    "   conn.close()"
   ]
  },
  {
   "cell_type": "code",
   "execution_count": 7,
   "id": "b4789448-3eaf-47f2-b516-aed118a42d89",
   "metadata": {},
   "outputs": [],
   "source": [
    "sql = \"select customers.state,  customers.customerName, payments.checkNumber from customers left join payments on customers.customerNumber=payments.customerNumber where payments.paymentDate >= '2004-10-06';\""
   ]
  },
  {
   "cell_type": "code",
   "execution_count": 8,
   "id": "e0fc6223-e370-4f20-980a-207a8f5fa1dd",
   "metadata": {},
   "outputs": [
    {
     "name": "stdout",
     "output_type": "stream",
     "text": [
      "       state                  customerName checkNumber\n",
      "0       None             Atelier graphique    HQ336336\n",
      "1       None             Atelier graphique    OM314933\n",
      "2         NV            Signal Gift Stores    BO864823\n",
      "3   Victoria    Australian Collectors, Co.    MA765515\n",
      "4       None             La Rochelle Gifts    DB933704\n",
      "..       ...                           ...         ...\n",
      "84        MA              FunGiftIdeas.com    PE176846\n",
      "85      None    Iberia Gift Imports, Corp.    GK294076\n",
      "86        PA  Motor Mint Distributors Inc.     HS86661\n",
      "87      None             Kelly's Gift Shop    EU531600\n",
      "88      None             Kelly's Gift Shop     MN89921\n",
      "\n",
      "[89 rows x 3 columns]\n"
     ]
    }
   ],
   "source": [
    "conn = pymysql.connect(host='localhost', user='hi', \n",
    "                       password='1598', db='classicmodels', charset='utf8',\n",
    "                       autocommit=True, cursorclass=pymysql.cursors.DictCursor)\n",
    "try:\n",
    "\n",
    "   with conn.cursor() as curs:\n",
    "#       sql = \"SELECT total_bill from tip.tips where tip >= 7;\"\n",
    "      curs.execute(sql)\n",
    "      rs = curs.fetchall() # 값을 전부 불러옴\n",
    "\n",
    "      # DB에서 받아온 값을 DataFrame에 넣음\n",
    "\n",
    "      df = pd.DataFrame(rs)\n",
    "      print(df)\n",
    "    \n",
    "#       df.to_csv('query.csv')\n",
    "\n",
    "finally:\n",
    "\n",
    "   conn.close()"
   ]
  },
  {
   "cell_type": "code",
   "execution_count": null,
   "id": "e80343d9-ba7f-4446-bd4c-2f142756cefe",
   "metadata": {},
   "outputs": [],
   "source": []
  }
 ],
 "metadata": {
  "kernelspec": {
   "display_name": "Python Multi",
   "language": "python",
   "name": "mulit"
  },
  "language_info": {
   "codemirror_mode": {
    "name": "ipython",
    "version": 3
   },
   "file_extension": ".py",
   "mimetype": "text/x-python",
   "name": "python",
   "nbconvert_exporter": "python",
   "pygments_lexer": "ipython3",
   "version": "3.7.6"
  }
 },
 "nbformat": 4,
 "nbformat_minor": 5
}
